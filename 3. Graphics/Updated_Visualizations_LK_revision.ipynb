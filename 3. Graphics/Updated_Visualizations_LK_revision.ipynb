{
 "cells": [
  {
   "cell_type": "markdown",
   "id": "7feaea9c",
   "metadata": {},
   "source": [
    "# Data visualization\n",
    "\n",
    "This Jupyter Notebook presents some simple visualizations using the datasets that have been created using the Inside Airbnb data.\n",
    "\n",
    "The code below relies on previously run Notebooks “1st_stage_panel_data_cleaning.ipynb” and “Calendar_integration_partA.ipynb” and \"Calendar_integration_partB\". In particular, this notebook will load in:  \n",
    "* [CITY]_\"_cal_rev_list_FULLMERGE_\" + [N_days_before] + \"_days.csv.gz\" file created in the “Calendar_integration_partB” notebook\n",
    "* [CITY]_Revs.csv.gz  created in the “Calendar_integration_partB” notebook\n",
    "\n",
    "Review files must also be saved in the Raw Data path in order for the code below to run."
   ]
  },
  {
   "cell_type": "code",
   "execution_count": 1,
   "id": "e5ee694e",
   "metadata": {},
   "outputs": [],
   "source": [
    "import os\n",
    "import datetime\n",
    "\n",
    "import numpy as np\n",
    "import pandas as pd\n",
    "\n",
    "import matplotlib.pyplot as plt\n",
    "from matplotlib import dates"
   ]
  },
  {
   "cell_type": "code",
   "execution_count": 2,
   "id": "b4561158",
   "metadata": {},
   "outputs": [],
   "source": [
    "# Select city to work with\n",
    "\n",
    "city_folder = 'united-states_portland/'\n",
    "city_abbrev = 'POR'"
   ]
  },
  {
   "cell_type": "code",
   "execution_count": 3,
   "id": "833f5960",
   "metadata": {},
   "outputs": [],
   "source": [
    "# Universal directory setup\n",
    "cwd1 = os.getcwd()\n",
    "\n",
    "# Go up one directory level\n",
    "os.chdir('..')\n",
    "cwd2 = os.getcwd()\n",
    "\n",
    "# Set paths\n",
    "data_path = cwd2 + '/Saved data/'\n",
    "csv_path = cwd2 + '/0. Raw data/' + city_folder"
   ]
  },
  {
   "cell_type": "code",
   "execution_count": 4,
   "id": "d167043a",
   "metadata": {},
   "outputs": [],
   "source": [
    "# Establish dataset names\n",
    "\n",
    "# Set how many days before a review a property is assumed to be active. \n",
    "N_days_before = int(10)\n",
    "\n",
    "full_merge_file = \"_cal_rev_list_FULLMERGE_\" + str(N_days_before) + \"_days.csv.gz\"\n",
    "review_file = \"_Revs.csv.gz\""
   ]
  },
  {
   "cell_type": "code",
   "execution_count": null,
   "id": "2e644285",
   "metadata": {},
   "outputs": [],
   "source": [
    "#Load in data\n",
    "os.chdir(data_path)\n",
    "\n",
    "full_data = pd.read_csv(city_abbrev + full_merge_file, low_memory=False)\n",
    "review_data = pd.read_csv(csv_path + city_abbrev + review_file, low_memory=False)"
   ]
  },
  {
   "cell_type": "markdown",
   "id": "6baaac40",
   "metadata": {},
   "source": [
    "# Visualizing imputed bookings\n",
    "\n",
    "The proposed method of imputing bookings will perform poorly at the beginning and end of the observed time series since it relies on both forward-looking and backward-looking measures. At the beginning of the time series, almost no listings will appear to have been booked because they were never seen available. At the end of the time series there will be future nights that are likely to get booked after the dataset was created.\n",
    "\n",
    "We recommend truncating the resulting data so that boundary dates are not used for statistical analysis."
   ]
  },
  {
   "cell_type": "code",
   "execution_count": null,
   "id": "da2a983f",
   "metadata": {
    "scrolled": true
   },
   "outputs": [],
   "source": [
    "# Graph 30-day moving average for imputed bookings \n",
    "count_port = full_data.groupby(['res_date'])['booked'].sum().rolling(window=30).mean()\n",
    "\n",
    "# Imputed bookings graphic\n",
    "fig, ax = plt.subplots()\n",
    "ax.xaxis.set_major_locator(dates.YearLocator())\n",
    "plt.plot(count_port, '-', linewidth=1, color='teal')\n",
    "plt.title('Bookings Count Over Time, ' + city_abbrev)\n",
    "plt.ylabel('Imputed bookings' )\n",
    "plt.show()"
   ]
  },
  {
   "cell_type": "markdown",
   "id": "e0888f00",
   "metadata": {},
   "source": [
    "## Truncated the imputed bookings\n",
    "\n",
    "Here we illustrate how a researcher could truncate the bounds of the dataset. We drop 90 days at the start and end of the dataset."
   ]
  },
  {
   "cell_type": "code",
   "execution_count": null,
   "id": "b23c3865",
   "metadata": {},
   "outputs": [],
   "source": [
    "days_to_trunc = 90\n",
    "\n",
    "start_date = pd.to_datetime(full_data['res_date'].min()) + datetime.timedelta(days=days_to_trunc)\n",
    "end_date = pd.to_datetime(review_data['date'].max()) - datetime.timedelta(days=days_to_trunc)\n",
    "\n",
    "start_date = start_date.asm8.astype(str)[:10]\n",
    "end_date = end_date.asm8.astype(str)[:10]"
   ]
  },
  {
   "cell_type": "code",
   "execution_count": null,
   "id": "01df3d5c",
   "metadata": {},
   "outputs": [],
   "source": [
    "fig, ax = plt.subplots()\n",
    "ax.xaxis.set_major_locator(dates.YearLocator())\n",
    "plt.plot(count_port, '-', linewidth=1, color='teal')\n",
    "plt.title('Bookings Count Over Time ' + str(days_to_trunc) + \"-day truncation, \" + city_abbrev)\n",
    "plt.ylabel('Imputed bookings' )\n",
    "plt.xlim(start_date, end_date)\n",
    "plt.show()"
   ]
  },
  {
   "cell_type": "markdown",
   "id": "7432921d",
   "metadata": {},
   "source": [
    "# Available listings"
   ]
  },
  {
   "cell_type": "code",
   "execution_count": null,
   "id": "b06c13ac",
   "metadata": {
    "scrolled": true
   },
   "outputs": [],
   "source": [
    "# Graph 30-day moving average for available listings\n",
    "list_count_port = full_data.groupby(['res_date'])['seen_avail'].sum().rolling(window=30).mean()\n",
    "\n",
    "# Available listings graphic\n",
    "fig, ax=plt.subplots()\n",
    "ax.xaxis.set_major_locator(dates.YearLocator())\n",
    "plt.plot(list_count_port, '-', linewidth=1, color='blue')\n",
    "plt.title('Available listings Count Over Time, ' + city_abbrev)\n",
    "plt.ylabel('Listings')\n",
    "plt.xlim(start_date, end_date)\n",
    "plt.show()"
   ]
  },
  {
   "cell_type": "markdown",
   "id": "1bb70b42",
   "metadata": {},
   "source": [
    "# Bookings by Host Listings"
   ]
  },
  {
   "cell_type": "code",
   "execution_count": null,
   "id": "e3960273",
   "metadata": {},
   "outputs": [],
   "source": [
    "book_count_port_single = full_data[full_data['host_listings_count']==1].groupby(['res_date'])['booked'].sum().rolling(window=30).mean()\n",
    "book_count_port_multi = full_data[full_data['host_listings_count']>1].groupby(['res_date'])['booked'].sum().rolling(window=30).mean()"
   ]
  },
  {
   "cell_type": "code",
   "execution_count": null,
   "id": "1dafeee4",
   "metadata": {
    "scrolled": false
   },
   "outputs": [],
   "source": [
    "fix, ax = plt.subplots(figsize=(10,5))\n",
    "ax.xaxis.set_major_locator(dates.YearLocator())\n",
    "plt.plot(book_count_port_single, '-', linewidth=1, label=\"Single-listing\")\n",
    "plt.plot(book_count_port_multi,'-', linewidth=1, label=\"Multi-listing\")\n",
    "\n",
    "plt.title('Bookings by Host Listings Number, ' + city_abbrev)\n",
    "plt.ylabel('Imputed bookings')\n",
    "plt.xlim(start_date, end_date)\n",
    "plt.legend()\n",
    "plt.show()"
   ]
  },
  {
   "cell_type": "markdown",
   "id": "bf5ff2b8",
   "metadata": {},
   "source": [
    "# Listings by Host Listings "
   ]
  },
  {
   "cell_type": "code",
   "execution_count": null,
   "id": "46543728",
   "metadata": {},
   "outputs": [],
   "source": [
    "list_count_port_single = full_data[full_data['host_listings_count']==1].groupby(['res_date'])['seen_avail'].sum().rolling(window=30).mean()\n",
    "list_count_port_multi = full_data[full_data['host_listings_count']>1].groupby(['res_date'])['seen_avail'].sum().rolling(window=30).mean()"
   ]
  },
  {
   "cell_type": "code",
   "execution_count": null,
   "id": "61322293",
   "metadata": {},
   "outputs": [],
   "source": [
    "fix, ax = plt.subplots(figsize=(10,5))\n",
    "ax.xaxis.set_major_locator(dates.YearLocator())\n",
    "plt.plot(list_count_port_single, '-', linewidth=1, label=\"Single-listing\")\n",
    "plt.plot(list_count_port_multi,'-', linewidth=1, label=\"Multi-listing\")\n",
    "\n",
    "# plt.axvline(x='2018-01-16', c='k', linestyle=\"--\", linewidth=1, label='SF Regulation', alpha=0.5)\n",
    "plt.title('Listings by Host Listings Number')\n",
    "plt.xlabel('Date')\n",
    "plt.ylabel('Listings')\n",
    "plt.xlim(start_date, end_date)\n",
    "plt.legend()\n",
    "plt.show()"
   ]
  },
  {
   "cell_type": "markdown",
   "id": "df4143fe",
   "metadata": {},
   "source": [
    "# Nightly Prices"
   ]
  },
  {
   "cell_type": "markdown",
   "id": "815d8ca2",
   "metadata": {},
   "source": [
    "## Overall"
   ]
  },
  {
   "cell_type": "code",
   "execution_count": null,
   "id": "27fda48c",
   "metadata": {
    "scrolled": false
   },
   "outputs": [],
   "source": [
    "overall_prices = full_data.groupby(['res_date'])['calendar_price'].mean()\n",
    "\n",
    "fix, ax = plt.subplots(figsize=(15, 8))\n",
    "ax.xaxis.set_major_locator(dates.YearLocator())\n",
    "plt.plot(overall_prices, '--o', linewidth=1, label=\"Portland\")\n",
    "plt.title('Average Nightly Calendar Price Over Time, ' + city_abbrev)\n",
    "plt.ylim(80, 160)\n",
    "plt.show()"
   ]
  },
  {
   "cell_type": "markdown",
   "id": "eacb8e98",
   "metadata": {},
   "source": [
    "## 30-day moving average prices"
   ]
  },
  {
   "cell_type": "code",
   "execution_count": null,
   "id": "05637a4c",
   "metadata": {},
   "outputs": [],
   "source": [
    "ma30_prices = full_data.groupby(['res_date'])['calendar_price'].mean().rolling(window=30).mean()"
   ]
  },
  {
   "cell_type": "code",
   "execution_count": null,
   "id": "149dfe17",
   "metadata": {
    "scrolled": true
   },
   "outputs": [],
   "source": [
    "fix, ax = plt.subplots(figsize=(10,5))\n",
    "ax.xaxis.set_major_locator(dates.YearLocator())\n",
    "plt.plot(ma30_prices, '-', linewidth=1)\n",
    "plt.title('30-day moving average Calendar Price Over Time,' + city_abbrev)\n",
    "plt.ylim(80, 160)\n",
    "plt.show()"
   ]
  },
  {
   "cell_type": "markdown",
   "id": "6935510b",
   "metadata": {},
   "source": [
    "## Single vs. Multi-Listing Host Prices"
   ]
  },
  {
   "cell_type": "code",
   "execution_count": null,
   "id": "ac3e2c11",
   "metadata": {},
   "outputs": [],
   "source": [
    "full_data['host_listings_count'] = pd.to_numeric(full_data['host_listings_count'])"
   ]
  },
  {
   "cell_type": "code",
   "execution_count": null,
   "id": "e2b3c613",
   "metadata": {},
   "outputs": [],
   "source": [
    "ma30_prices_single = full_data[full_data['host_listings_count']==1].groupby(['res_date'])['calendar_price'].mean().rolling(window=30).mean()\n",
    "ma30_prices_multi = full_data[full_data['host_listings_count']>1].groupby(['res_date'])['calendar_price'].mean().rolling(window=30).mean()"
   ]
  },
  {
   "cell_type": "code",
   "execution_count": null,
   "id": "8d487241",
   "metadata": {},
   "outputs": [],
   "source": [
    "fix, ax = plt.subplots(figsize=(10, 5))\n",
    "ax.xaxis.set_major_locator(dates.YearLocator())\n",
    "plt.plot(ma30_prices_single, '-', linewidth=1, label=\"Single-listing\")\n",
    "plt.plot(ma30_prices_multi,'-', linewidth=1, label=\"Multi-listing\")\n",
    "plt.title('Average Calendar Price by Host Listings Number, ' + city_abbrev)\n",
    "plt.legend()\n",
    "plt.ylim(80, 160)\n",
    "plt.show()"
   ]
  },
  {
   "cell_type": "markdown",
   "id": "27fba3c5",
   "metadata": {},
   "source": [
    "# Reviews"
   ]
  },
  {
   "cell_type": "markdown",
   "id": "ca0cf09d",
   "metadata": {},
   "source": [
    "## Daily Review Count"
   ]
  },
  {
   "cell_type": "code",
   "execution_count": null,
   "id": "b53cde7e",
   "metadata": {
    "scrolled": true
   },
   "outputs": [],
   "source": [
    "# Create review series\n",
    "review_count = review_data.groupby(['date'])['id'].count()\n",
    "\n",
    "# Create figure\n",
    "fix, ax = plt.subplots(figsize=(15,5))\n",
    "ax.xaxis.set_major_locator(dates.YearLocator())\n",
    "plt.plot(review_count, '--o', linewidth=1)\n",
    "plt.title('Daily Review Count, ' + city_abbrev)\n",
    "plt.xlabel('Date')\n",
    "plt.ylabel('Count')\n",
    "plt.show()"
   ]
  }
 ],
 "metadata": {
  "kernelspec": {
   "display_name": "Python 3 (ipykernel)",
   "language": "python",
   "name": "python3"
  },
  "language_info": {
   "codemirror_mode": {
    "name": "ipython",
    "version": 3
   },
   "file_extension": ".py",
   "mimetype": "text/x-python",
   "name": "python",
   "nbconvert_exporter": "python",
   "pygments_lexer": "ipython3",
   "version": "3.9.7"
  }
 },
 "nbformat": 4,
 "nbformat_minor": 5
}
