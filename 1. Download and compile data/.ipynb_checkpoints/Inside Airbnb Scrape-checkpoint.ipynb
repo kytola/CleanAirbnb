{
 "cells": [
  {
   "cell_type": "markdown",
   "metadata": {},
   "source": [
    "# Download and Compile Data\n",
    "\n",
    "* This short Jupyter Notebook enables a researcher to download Inside Airbnb data in bulk through webscraping. The number of files downloaded will depend on what is publicly available on the Inside Airbnb site.\n",
    "\n",
    "* The website currently accepts additional data requests here:\n",
    "http://insideairbnb.com/data-requests.html\n",
    "\n",
    "* After files have been downloaded, the code organizes files into folders by city."
   ]
  },
  {
   "cell_type": "markdown",
   "metadata": {},
   "source": [
    "## Imports and Scraper Initialization"
   ]
  },
  {
   "cell_type": "code",
   "execution_count": 1,
   "metadata": {},
   "outputs": [],
   "source": [
    "from bs4 import BeautifulSoup\n",
    "from time import sleep\n",
    "import requests\n",
    "import os, os.path, csv\n",
    "import shutil\n",
    "import glob "
   ]
  },
  {
   "cell_type": "code",
   "execution_count": 2,
   "metadata": {},
   "outputs": [],
   "source": [
    "# Store preliminary directory, use of os should make this compatible for any user with access to the repository\n",
    "folder = os.getcwd() \n",
    "\n",
    "# Go up one directory level\n",
    "os.chdir('..')\n",
    "cwd2 = os.getcwd()\n",
    "\n",
    "# Make sure repository has a 0. Raw data folder!\n",
    "data_dir = cwd2 + '/0. Raw data'\n",
    "\n",
    "os.chdir(folder)"
   ]
  },
  {
   "cell_type": "code",
   "execution_count": 3,
   "metadata": {},
   "outputs": [],
   "source": [
    "website_url = \"http://insideairbnb.com/get-the-data.html\"\n",
    "\n",
    "response = requests.get(website_url).text\n",
    "soup = BeautifulSoup(response, \"html.parser\")"
   ]
  },
  {
   "cell_type": "markdown",
   "metadata": {},
   "source": [
    "## Full download\n",
    "\n",
    "Download all desired files using the loop below. The current example downloads the datasets relating to a) San Francisco, California and b) Portland, Oregon.\n",
    "\n",
    "If a researcher is only interested in a specific file type, then they can change the 'endswith('csv.gz') code to target type. For example:\n",
    "* *For only listings data:* Change second line to 'if link['href'].endswith('listings.csv.gz'):' \n",
    "* *For only calendar data:* Change second line to 'if link['href'].endswith('calendar.csv.gz'):' \n",
    "* *For only reviews data:* Change second line to 'if link['href'].endswith('reviews.csv.gz'):' "
   ]
  },
  {
   "cell_type": "code",
   "execution_count": 4,
   "metadata": {},
   "outputs": [
    {
     "name": "stdout",
     "output_type": "stream",
     "text": [
      "Download complete!\n"
     ]
    }
   ],
   "source": [
    "for link in soup.find_all('a', href=True):\n",
    "\n",
    "    if link['href'].endswith('csv.gz'):\n",
    "        \n",
    "        url = link['href']\n",
    "        split = url.split(\"/\")\n",
    "\n",
    "        # By removing this split[5] condition immediately below, one can download all city scrape files on the website\n",
    "        if (split[5] == 'portland')|(split[5] == 'san-francisco'): \n",
    "\n",
    "            r = requests.get(url, verify=False, stream=True)\n",
    "            r.raw.decode_content = True\n",
    "#             print('Downloading %s' % link['href']) # Uncomment to print downloaded file name\n",
    "\n",
    "            with open(split[3]+ \"_\" + split[5] + \"_\" + split[6] + \"_\" + split[8],'wb') as f:\n",
    "                shutil.copyfileobj(r.raw, f)\n",
    "            sleep(5) # Pause between calls to the website\n",
    "        else:\n",
    "            pass\n",
    "        \n",
    "print(\"Download complete!\")"
   ]
  },
  {
   "cell_type": "markdown",
   "metadata": {},
   "source": [
    "## Organizing Folders\n",
    "\n",
    "The following loop enables a researcher to organize previously downloaded Inside Airbnb data from \"Inside Airbnb scrape\" into folders by city."
   ]
  },
  {
   "cell_type": "code",
   "execution_count": 1,
   "metadata": {},
   "outputs": [
    {
     "ename": "NameError",
     "evalue": "name 'glob' is not defined",
     "output_type": "error",
     "traceback": [
      "\u001b[0;31m---------------------------------------------------------------------------\u001b[0m",
      "\u001b[0;31mNameError\u001b[0m                                 Traceback (most recent call last)",
      "\u001b[0;32m<ipython-input-1-9a35ef849361>\u001b[0m in \u001b[0;36m<module>\u001b[0;34m\u001b[0m\n\u001b[1;32m      1\u001b[0m \u001b[0;31m# Organize folders based on city\u001b[0m\u001b[0;34m\u001b[0m\u001b[0;34m\u001b[0m\u001b[0;34m\u001b[0m\u001b[0m\n\u001b[1;32m      2\u001b[0m \u001b[0;34m\u001b[0m\u001b[0m\n\u001b[0;32m----> 3\u001b[0;31m \u001b[0;32mfor\u001b[0m \u001b[0mfile_path\u001b[0m \u001b[0;32min\u001b[0m \u001b[0mglob\u001b[0m\u001b[0;34m.\u001b[0m\u001b[0mglob\u001b[0m\u001b[0;34m(\u001b[0m\u001b[0mos\u001b[0m\u001b[0;34m.\u001b[0m\u001b[0mpath\u001b[0m\u001b[0;34m.\u001b[0m\u001b[0mjoin\u001b[0m\u001b[0;34m(\u001b[0m\u001b[0mfolder\u001b[0m\u001b[0;34m,\u001b[0m \u001b[0;34m'*_20*'\u001b[0m\u001b[0;34m)\u001b[0m\u001b[0;34m)\u001b[0m\u001b[0;34m:\u001b[0m\u001b[0;34m\u001b[0m\u001b[0;34m\u001b[0m\u001b[0m\n\u001b[0m\u001b[1;32m      4\u001b[0m \u001b[0;34m\u001b[0m\u001b[0m\n\u001b[1;32m      5\u001b[0m     \u001b[0mnew_dir\u001b[0m \u001b[0;34m=\u001b[0m \u001b[0mfile_path\u001b[0m\u001b[0;34m.\u001b[0m\u001b[0mrsplit\u001b[0m\u001b[0;34m(\u001b[0m\u001b[0;34m'_20'\u001b[0m\u001b[0;34m,\u001b[0m \u001b[0;36m1\u001b[0m\u001b[0;34m)\u001b[0m\u001b[0;34m[\u001b[0m\u001b[0;36m0\u001b[0m\u001b[0;34m]\u001b[0m\u001b[0;34m\u001b[0m\u001b[0;34m\u001b[0m\u001b[0m\n",
      "\u001b[0;31mNameError\u001b[0m: name 'glob' is not defined"
     ]
    }
   ],
   "source": [
    "# Organize folders based on city\n",
    "\n",
    "for file_path in glob.glob(os.path.join(folder, '*_20*')):\n",
    "    \n",
    "    new_dir = file_path.rsplit('_20', 1)[0]\n",
    "    new_dir = data_dir + \"/\" + new_dir.rsplit('/')[-1]\n",
    "    \n",
    "    try:\n",
    "        os.mkdir(os.path.join(folder, new_dir))\n",
    "    except FileExistsError:\n",
    "        # Handle the case where the target dir already exist\n",
    "        pass\n",
    "    shutil.move(file_path, os.path.join(new_dir, os.path.basename(file_path)))"
   ]
  }
 ],
 "metadata": {
  "kernelspec": {
   "display_name": "Python 3",
   "language": "python",
   "name": "python3"
  },
  "language_info": {
   "codemirror_mode": {
    "name": "ipython",
    "version": 3
   },
   "file_extension": ".py",
   "mimetype": "text/x-python",
   "name": "python",
   "nbconvert_exporter": "python",
   "pygments_lexer": "ipython3",
   "version": "3.8.8"
  }
 },
 "nbformat": 4,
 "nbformat_minor": 2
}
