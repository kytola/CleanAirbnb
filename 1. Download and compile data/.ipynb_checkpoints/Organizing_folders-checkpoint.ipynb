{
 "cells": [
  {
   "cell_type": "markdown",
   "metadata": {},
   "source": [
    "# Organizing Folders\n",
    "\n",
    "This short Jupyter Notebook enables a researcher to organize previously downloaded Inside Airbnb data from \"Inside Airbnb scrape\" into folders by location."
   ]
  },
  {
   "cell_type": "code",
   "execution_count": 22,
   "metadata": {},
   "outputs": [],
   "source": [
    "# Import libraries \n",
    "\n",
    "import glob \n",
    "import os\n",
    "import shutil"
   ]
  },
  {
   "cell_type": "code",
   "execution_count": 26,
   "metadata": {},
   "outputs": [],
   "source": [
    "# Get the current directory \n",
    "folder = os.getcwd()\n",
    "\n",
    "# Organize folders based on city\n",
    "for file_path in glob.glob(os.path.join(folder, '*_20*')):\n",
    "    new_dir = file_path.rsplit('_20', 1)[0]\n",
    "    try:\n",
    "        os.mkdir(os.path.join(folder, new_dir))\n",
    "    except FileExistsError:\n",
    "        # Handle the case where the target dir already exist.\n",
    "        pass\n",
    "    shutil.move(file_path, os.path.join(new_dir, os.path.basename(file_path)))"
   ]
  }
 ],
 "metadata": {
  "kernelspec": {
   "display_name": "Python 3 (ipykernel)",
   "language": "python",
   "name": "python3"
  },
  "language_info": {
   "codemirror_mode": {
    "name": "ipython",
    "version": 3
   },
   "file_extension": ".py",
   "mimetype": "text/x-python",
   "name": "python",
   "nbconvert_exporter": "python",
   "pygments_lexer": "ipython3",
   "version": "3.9.7"
  }
 },
 "nbformat": 4,
 "nbformat_minor": 2
}
