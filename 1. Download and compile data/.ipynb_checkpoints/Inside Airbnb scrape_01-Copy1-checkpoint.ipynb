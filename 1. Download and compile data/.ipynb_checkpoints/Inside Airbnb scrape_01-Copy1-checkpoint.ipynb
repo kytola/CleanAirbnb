{
 "cells": [
  {
   "cell_type": "markdown",
   "metadata": {},
   "source": [
    "## First version created: November 15, 2018\n",
    "\n",
    "This short Jupyter Notebook enables a researcher to download Inside Airbnb data in bulk through webscraping."
   ]
  },
  {
   "cell_type": "code",
   "execution_count": 1,
   "metadata": {},
   "outputs": [],
   "source": [
    "# Import libraries \n",
    "\n",
    "from bs4 import BeautifulSoup\n",
    "from time import sleep\n",
    "import requests\n",
    "import os, os.path, csv\n",
    "import shutil"
   ]
  },
  {
   "cell_type": "code",
   "execution_count": 2,
   "metadata": {},
   "outputs": [],
   "source": [
    "response = requests.get(\"http://insideairbnb.com/get-the-data.html\").text\n",
    "soup = BeautifulSoup(response, \"html.parser\")"
   ]
  },
  {
   "cell_type": "markdown",
   "metadata": {},
   "source": [
    "# Demo\n",
    "Here I download one file to demonstrate how the code works."
   ]
  },
  {
   "cell_type": "code",
   "execution_count": 3,
   "metadata": {},
   "outputs": [
    {
     "name": "stdout",
     "output_type": "stream",
     "text": [
      "Success\n"
     ]
    }
   ],
   "source": [
    "url = \"http://data.insideairbnb.com/united-states/ca/san-francisco/2021-10-06/data/listings.csv.gz\"\n",
    "\n",
    "r = requests.get(url, verify=False, stream=True)\n",
    "r.raw.decode_content = True\n",
    "split = url.split(\"/\")\n",
    "\n",
    "with open(split[3]+\"_\"+split[5]+\"_\"+split[8],'wb') as f:\n",
    "    shutil.copyfileobj(r.raw, f)\n",
    "    print(\"Success\")"
   ]
  },
  {
   "cell_type": "markdown",
   "metadata": {},
   "source": [
    "# Full download\n",
    "Download all desired files using a loop. If a researcher is only interested in a specific file type, then they can change the 'endswith('csv.gz') code to target type. For example:\n",
    "* *For only listings data:* Change second line to 'if link['href'].endswith('listings.csv.gz'):' \n",
    "* *For only calendar data:* Change second line to 'if link['href'].endswith('calendar.csv.gz'):' \n",
    "* *For only reviews data:* Change second line to 'if link['href'].endswith('reviews.csv.gz'):' "
   ]
  },
  {
   "cell_type": "code",
   "execution_count": 4,
   "metadata": {},
   "outputs": [
    {
     "name": "stdout",
     "output_type": "stream",
     "text": [
      "Downloading http://data.insideairbnb.com/united-states/ca/san-francisco/2021-10-06/data/listings.csv.gz\n",
      "Success\n",
      "Downloading http://data.insideairbnb.com/united-states/ca/san-francisco/2021-10-06/data/calendar.csv.gz\n",
      "Success\n",
      "Downloading http://data.insideairbnb.com/united-states/ca/san-francisco/2021-10-06/data/reviews.csv.gz\n",
      "Success\n",
      "Downloading http://data.insideairbnb.com/united-states/ca/san-francisco/2021-09-01/data/listings.csv.gz\n",
      "Success\n",
      "Downloading http://data.insideairbnb.com/united-states/ca/san-francisco/2021-09-01/data/calendar.csv.gz\n",
      "Success\n",
      "Downloading http://data.insideairbnb.com/united-states/ca/san-francisco/2021-09-01/data/reviews.csv.gz\n",
      "Success\n",
      "Downloading http://data.insideairbnb.com/united-states/ca/san-francisco/2021-08-04/data/listings.csv.gz\n",
      "Success\n",
      "Downloading http://data.insideairbnb.com/united-states/ca/san-francisco/2021-08-04/data/calendar.csv.gz\n",
      "Success\n",
      "Downloading http://data.insideairbnb.com/united-states/ca/san-francisco/2021-08-04/data/reviews.csv.gz\n",
      "Success\n",
      "Downloading http://data.insideairbnb.com/united-states/ca/san-francisco/2021-07-03/data/listings.csv.gz\n",
      "Success\n",
      "Downloading http://data.insideairbnb.com/united-states/ca/san-francisco/2021-07-03/data/calendar.csv.gz\n",
      "Success\n",
      "Downloading http://data.insideairbnb.com/united-states/ca/san-francisco/2021-07-03/data/reviews.csv.gz\n",
      "Success\n",
      "Downloading http://data.insideairbnb.com/united-states/ca/san-francisco/2021-06-02/data/listings.csv.gz\n",
      "Success\n",
      "Downloading http://data.insideairbnb.com/united-states/ca/san-francisco/2021-06-02/data/calendar.csv.gz\n",
      "Success\n",
      "Downloading http://data.insideairbnb.com/united-states/ca/san-francisco/2021-06-02/data/reviews.csv.gz\n",
      "Success\n",
      "Downloading http://data.insideairbnb.com/united-states/ca/san-francisco/2021-05-06/data/listings.csv.gz\n",
      "Success\n",
      "Downloading http://data.insideairbnb.com/united-states/ca/san-francisco/2021-05-06/data/calendar.csv.gz\n",
      "Success\n",
      "Downloading http://data.insideairbnb.com/united-states/ca/san-francisco/2021-05-06/data/reviews.csv.gz\n",
      "Success\n",
      "Downloading http://data.insideairbnb.com/united-states/ca/san-francisco/2021-04-07/data/listings.csv.gz\n",
      "Success\n",
      "Downloading http://data.insideairbnb.com/united-states/ca/san-francisco/2021-04-07/data/calendar.csv.gz\n",
      "Success\n",
      "Downloading http://data.insideairbnb.com/united-states/ca/san-francisco/2021-04-07/data/reviews.csv.gz\n",
      "Success\n",
      "Downloading http://data.insideairbnb.com/united-states/ca/san-francisco/2021-03-01/data/listings.csv.gz\n",
      "Success\n",
      "Downloading http://data.insideairbnb.com/united-states/ca/san-francisco/2021-03-01/data/calendar.csv.gz\n",
      "Success\n",
      "Downloading http://data.insideairbnb.com/united-states/ca/san-francisco/2021-03-01/data/reviews.csv.gz\n",
      "Success\n",
      "Downloading http://data.insideairbnb.com/united-states/ca/san-francisco/2021-02-04/data/listings.csv.gz\n",
      "Success\n",
      "Downloading http://data.insideairbnb.com/united-states/ca/san-francisco/2021-02-04/data/calendar.csv.gz\n",
      "Success\n",
      "Downloading http://data.insideairbnb.com/united-states/ca/san-francisco/2021-02-04/data/reviews.csv.gz\n",
      "Success\n",
      "Downloading http://data.insideairbnb.com/united-states/ca/san-francisco/2021-01-08/data/listings.csv.gz\n",
      "Success\n",
      "Downloading http://data.insideairbnb.com/united-states/ca/san-francisco/2021-01-08/data/calendar.csv.gz\n",
      "Success\n",
      "Downloading http://data.insideairbnb.com/united-states/ca/san-francisco/2021-01-08/data/reviews.csv.gz\n",
      "Success\n",
      "Downloading http://data.insideairbnb.com/united-states/ca/san-francisco/2020-12-10/data/listings.csv.gz\n",
      "Success\n",
      "Downloading http://data.insideairbnb.com/united-states/ca/san-francisco/2020-12-10/data/calendar.csv.gz\n",
      "Success\n",
      "Downloading http://data.insideairbnb.com/united-states/ca/san-francisco/2020-12-10/data/reviews.csv.gz\n",
      "Success\n",
      "Downloading http://data.insideairbnb.com/united-states/ca/san-francisco/2020-11-02/data/listings.csv.gz\n",
      "Success\n",
      "Downloading http://data.insideairbnb.com/united-states/ca/san-francisco/2020-11-02/data/calendar.csv.gz\n",
      "Success\n",
      "Downloading http://data.insideairbnb.com/united-states/ca/san-francisco/2020-11-02/data/reviews.csv.gz\n",
      "Success\n"
     ]
    }
   ],
   "source": [
    "for link in soup.find_all('a', href=True):\n",
    "\n",
    "    if link['href'].endswith('csv.gz'):\n",
    "        \n",
    "        url = link['href']\n",
    "        split = url.split(\"/\")\n",
    "                    \n",
    "        # For now downloads are restricted to San Francisco files. \n",
    "        # By removing this split[5] condition, one can download all city scrape files on the website\n",
    "        \n",
    "        if split[5] == 'san-francisco':\n",
    "            r = requests.get(url, verify=False, stream=True)\n",
    "            r.raw.decode_content = True\n",
    "            print('Downloading %s' % link['href'])\n",
    "            with open(split[3]+\"_\"+split[5]+\"_\"+split[6]+\"_\"+split[8],'wb') as f:\n",
    "                shutil.copyfileobj(r.raw, f)\n",
    "                print(\"Success\")\n",
    "            sleep(5) # Pause between calls to the website\n",
    "        else:\n",
    "            pass"
   ]
  }
 ],
 "metadata": {
  "kernelspec": {
   "display_name": "Python 3",
   "language": "python",
   "name": "python3"
  },
  "language_info": {
   "codemirror_mode": {
    "name": "ipython",
    "version": 3
   },
   "file_extension": ".py",
   "mimetype": "text/x-python",
   "name": "python",
   "nbconvert_exporter": "python",
   "pygments_lexer": "ipython3",
   "version": "3.8.8"
  }
 },
 "nbformat": 4,
 "nbformat_minor": 2
}
