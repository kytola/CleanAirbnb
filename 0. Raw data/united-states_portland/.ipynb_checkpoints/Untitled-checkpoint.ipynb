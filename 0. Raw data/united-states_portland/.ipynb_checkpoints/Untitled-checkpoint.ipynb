{
 "cells": [
  {
   "cell_type": "code",
   "execution_count": 1,
   "id": "da68ebdb",
   "metadata": {},
   "outputs": [],
   "source": [
    "import os\n",
    "import csv\n",
    "import numpy as np\n",
    "import pandas as pd\n",
    "import gzip\n",
    "from itertools import compress"
   ]
  },
  {
   "cell_type": "code",
   "execution_count": 6,
   "id": "95f508db",
   "metadata": {},
   "outputs": [
    {
     "data": {
      "text/plain": [
       "'/Users/Lauri/github/CleanAirbnb/0. Raw data/united-states_portland'"
      ]
     },
     "execution_count": 6,
     "metadata": {},
     "output_type": "execute_result"
    }
   ],
   "source": []
  },
  {
   "cell_type": "code",
   "execution_count": 21,
   "id": "103209b0",
   "metadata": {},
   "outputs": [
    {
     "ename": "TypeError",
     "evalue": "remove: path should be string, bytes or os.PathLike, not DataFrame",
     "output_type": "error",
     "traceback": [
      "\u001b[0;31m---------------------------------------------------------------------------\u001b[0m",
      "\u001b[0;31mTypeError\u001b[0m                                 Traceback (most recent call last)",
      "\u001b[0;32m/var/folders/nx/l6t8st49137cl77yqnxy4z2m0000gn/T/ipykernel_41661/3745816912.py\u001b[0m in \u001b[0;36m<module>\u001b[0;34m\u001b[0m\n\u001b[1;32m      5\u001b[0m         \u001b[0mdf_i\u001b[0m \u001b[0;34m=\u001b[0m \u001b[0mpd\u001b[0m\u001b[0;34m.\u001b[0m\u001b[0mread_csv\u001b[0m\u001b[0;34m(\u001b[0m\u001b[0mfileNames\u001b[0m\u001b[0;34m)\u001b[0m\u001b[0;34m\u001b[0m\u001b[0;34m\u001b[0m\u001b[0m\n\u001b[1;32m      6\u001b[0m         \u001b[0mdf_i\u001b[0m\u001b[0;34m.\u001b[0m\u001b[0mto_csv\u001b[0m\u001b[0;34m(\u001b[0m\u001b[0mfileNames\u001b[0m \u001b[0;34m+\u001b[0m \u001b[0;34m'.gz'\u001b[0m\u001b[0;34m,\u001b[0m \u001b[0mcompression\u001b[0m\u001b[0;34m=\u001b[0m\u001b[0;34m'gzip'\u001b[0m\u001b[0;34m)\u001b[0m\u001b[0;34m\u001b[0m\u001b[0;34m\u001b[0m\u001b[0m\n\u001b[0;32m----> 7\u001b[0;31m         \u001b[0mos\u001b[0m\u001b[0;34m.\u001b[0m\u001b[0mremove\u001b[0m\u001b[0;34m(\u001b[0m\u001b[0mdf_i\u001b[0m\u001b[0;34m)\u001b[0m\u001b[0;34m\u001b[0m\u001b[0;34m\u001b[0m\u001b[0m\n\u001b[0m",
      "\u001b[0;31mTypeError\u001b[0m: remove: path should be string, bytes or os.PathLike, not DataFrame"
     ]
    }
   ],
   "source": [
    "numFiles = []\n",
    "fileNames = os.listdir(os.getcwd())\n",
    "for fileNames in fileNames:\n",
    "    if fileNames.endswith(\"_listings.csv\"):\n",
    "        df_i = pd.read_csv(fileNames)\n",
    "        df_i.to_csv(fileNames + '.gz', compression='gzip')\n",
    "        os.remove(df_i)"
   ]
  },
  {
   "cell_type": "code",
   "execution_count": 8,
   "id": "4454765a",
   "metadata": {},
   "outputs": [
    {
     "data": {
      "text/plain": [
       "['united-states_portland_2016-09-04_listings.csv',\n",
       " 'united-states_portland_2019-01-13_listings.csv',\n",
       " 'united-states_portland_2017-02-09_listings.csv',\n",
       " 'united-states_portland_2016-06-03_listings.csv',\n",
       " 'united-states_portland_2015-09-02_listings.csv',\n",
       " 'united-states_portland_2018-01-16_listings.csv',\n",
       " 'united-states_portland_2017-09-12_listings.csv',\n",
       " 'united-states_portland_2017-03-05_listings.csv',\n",
       " 'united-states_portland_2015-03-01_listings.csv',\n",
       " 'united-states_portland_2015-05-12_listings.csv',\n",
       " 'united-states_portland_2018-10-09_listings.csv',\n",
       " 'united-states_portland_2017-12-09_listings.csv',\n",
       " 'united-states_portland_2017-08-06_listings.csv',\n",
       " 'united-states_portland_2017-11-13_listings.csv',\n",
       " 'united-states_portland_2018-05-13_listings.csv',\n",
       " 'united-states_portland_2018-07-10_listings.csv',\n",
       " 'united-states_portland_2016-08-04_listings.csv',\n",
       " 'united-states_portland_2015-11-02_listings.csv',\n",
       " 'united-states_portland_2016-07-04_listings.csv',\n",
       " 'united-states_portland_2017-07-06_listings.csv',\n",
       " 'united-states_portland_2016-02-03_listings.csv',\n",
       " 'united-states_portland_2016-11-06_listings.csv',\n",
       " 'united-states_portland_2018-11-07_listings.csv',\n",
       " 'united-states_portland_2017-05-07_listings.csv',\n",
       " 'united-states_portland_2016-12-08_listings.csv',\n",
       " 'united-states_portland_2019-02-06_listings.csv',\n",
       " 'united-states_portland_2018-08-14_listings.csv',\n",
       " 'united-states_portland_2016-05-03_listings.csv',\n",
       " 'united-states_portland_2017-01-04_listings.csv',\n",
       " 'united-states_portland_2016-01-01_listings.csv',\n",
       " 'united-states_portland_2017-06-05_listings.csv',\n",
       " 'united-states_portland_2018-12-10_listings.csv',\n",
       " 'united-states_portland_2018-09-14_listings.csv',\n",
       " 'united-states_portland_2015-12-02_listings.csv',\n",
       " 'united-states_portland_2018-02-08_listings.csv',\n",
       " 'united-states_portland_2018-04-11_listings.csv',\n",
       " 'united-states_portland_2017-10-04_listings.csv',\n",
       " 'united-states_portland_2016-04-05_listings.csv',\n",
       " 'united-states_portland_2017-04-07_listings.csv']"
      ]
     },
     "execution_count": 8,
     "metadata": {},
     "output_type": "execute_result"
    }
   ],
   "source": [
    "numFiles"
   ]
  },
  {
   "cell_type": "code",
   "execution_count": null,
   "id": "bd1f2f2a",
   "metadata": {},
   "outputs": [],
   "source": []
  }
 ],
 "metadata": {
  "kernelspec": {
   "display_name": "Python 3 (ipykernel)",
   "language": "python",
   "name": "python3"
  },
  "language_info": {
   "codemirror_mode": {
    "name": "ipython",
    "version": 3
   },
   "file_extension": ".py",
   "mimetype": "text/x-python",
   "name": "python",
   "nbconvert_exporter": "python",
   "pygments_lexer": "ipython3",
   "version": "3.9.7"
  }
 },
 "nbformat": 4,
 "nbformat_minor": 5
}
