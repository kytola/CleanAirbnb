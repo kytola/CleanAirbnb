{
 "cells": [
  {
   "cell_type": "markdown",
   "metadata": {},
   "source": [
    "# 2nd Stage Panel Data Cleaning\n",
    "\n",
    "This notebook loads in the first stage cleaned csv file and adds criteria for dropping certain observations from the data. Drop criteria may want to be adjusted in future revisions, this is why this notebook has been formally separated from the first stage file. Some preliminary visualizations of the data are also included."
   ]
  },
  {
   "cell_type": "markdown",
   "metadata": {},
   "source": [
    "# Import and Setup Universal Directory"
   ]
  },
  {
   "cell_type": "code",
   "execution_count": 1,
   "metadata": {},
   "outputs": [],
   "source": [
    "import numpy as np\n",
    "import pandas as pd\n",
    "import os\n",
    "import datetime\n",
    "import operator # This allows one to pass operators into a Python function\n",
    "import matplotlib.pyplot as plt # For graphics"
   ]
  },
  {
   "cell_type": "code",
   "execution_count": 2,
   "metadata": {},
   "outputs": [],
   "source": [
    "# Universal directory setup\n",
    "cwd1 = os.getcwd() \n",
    "\n",
    "# Go up one directory level\n",
    "os.chdir('..')\n",
    "cwd2 = os.getcwd()\n",
    "\n",
    "# Make sure repository has a 2. Clean data and Saved data folders!\n",
    "csv_path = cwd2 + '/2. Clean data/'\n",
    "csv_save_path = cwd2 + '/Saved data/'"
   ]
  },
  {
   "cell_type": "code",
   "execution_count": 3,
   "metadata": {},
   "outputs": [
    {
     "data": {
      "text/html": [
       "<div>\n",
       "<style scoped>\n",
       "    .dataframe tbody tr th:only-of-type {\n",
       "        vertical-align: middle;\n",
       "    }\n",
       "\n",
       "    .dataframe tbody tr th {\n",
       "        vertical-align: top;\n",
       "    }\n",
       "\n",
       "    .dataframe thead th {\n",
       "        text-align: right;\n",
       "    }\n",
       "</style>\n",
       "<table border=\"1\" class=\"dataframe\">\n",
       "  <thead>\n",
       "    <tr style=\"text-align: right;\">\n",
       "      <th></th>\n",
       "      <th>id</th>\n",
       "      <th>month</th>\n",
       "      <th>List_month</th>\n",
       "      <th>last_scraped</th>\n",
       "      <th>host_id</th>\n",
       "      <th>host_name</th>\n",
       "      <th>host_since</th>\n",
       "      <th>host_location</th>\n",
       "      <th>host_response_time</th>\n",
       "      <th>host_response_rate</th>\n",
       "      <th>...</th>\n",
       "      <th>fixed_lag</th>\n",
       "      <th>NOR_diff</th>\n",
       "      <th>host_is_superhost_dum</th>\n",
       "      <th>room_type_dum</th>\n",
       "      <th>instant_bookable_dum</th>\n",
       "      <th>zipcode_dum</th>\n",
       "      <th>avg_lat</th>\n",
       "      <th>avg_lon</th>\n",
       "      <th>neighbourhood_dum</th>\n",
       "      <th>days_since_calup</th>\n",
       "    </tr>\n",
       "  </thead>\n",
       "  <tbody>\n",
       "    <tr>\n",
       "      <th>0</th>\n",
       "      <td>7893</td>\n",
       "      <td>0</td>\n",
       "      <td>0</td>\n",
       "      <td>NaT</td>\n",
       "      <td>21489.0</td>\n",
       "      <td>Jesse</td>\n",
       "      <td>2009-06-14</td>\n",
       "      <td>US</td>\n",
       "      <td>NaN</td>\n",
       "      <td>NaN</td>\n",
       "      <td>...</td>\n",
       "      <td>NaN</td>\n",
       "      <td>NaN</td>\n",
       "      <td>-1</td>\n",
       "      <td>0</td>\n",
       "      <td>0</td>\n",
       "      <td>23</td>\n",
       "      <td>45.575479</td>\n",
       "      <td>-122.666777</td>\n",
       "      <td>62</td>\n",
       "      <td>NaN</td>\n",
       "    </tr>\n",
       "    <tr>\n",
       "      <th>1</th>\n",
       "      <td>7893</td>\n",
       "      <td>1</td>\n",
       "      <td>0</td>\n",
       "      <td>NaT</td>\n",
       "      <td>21489.0</td>\n",
       "      <td>Jesse</td>\n",
       "      <td>2009-06-14</td>\n",
       "      <td>US</td>\n",
       "      <td>NaN</td>\n",
       "      <td>NaN</td>\n",
       "      <td>...</td>\n",
       "      <td>NaN</td>\n",
       "      <td>NaN</td>\n",
       "      <td>-1</td>\n",
       "      <td>0</td>\n",
       "      <td>0</td>\n",
       "      <td>23</td>\n",
       "      <td>45.575479</td>\n",
       "      <td>-122.666777</td>\n",
       "      <td>62</td>\n",
       "      <td>NaN</td>\n",
       "    </tr>\n",
       "    <tr>\n",
       "      <th>2</th>\n",
       "      <td>7893</td>\n",
       "      <td>2</td>\n",
       "      <td>0</td>\n",
       "      <td>NaT</td>\n",
       "      <td>21489.0</td>\n",
       "      <td>Jesse</td>\n",
       "      <td>2009-06-14</td>\n",
       "      <td>US</td>\n",
       "      <td>NaN</td>\n",
       "      <td>NaN</td>\n",
       "      <td>...</td>\n",
       "      <td>NaN</td>\n",
       "      <td>NaN</td>\n",
       "      <td>-1</td>\n",
       "      <td>0</td>\n",
       "      <td>0</td>\n",
       "      <td>23</td>\n",
       "      <td>45.575479</td>\n",
       "      <td>-122.666777</td>\n",
       "      <td>62</td>\n",
       "      <td>NaN</td>\n",
       "    </tr>\n",
       "    <tr>\n",
       "      <th>3</th>\n",
       "      <td>7893</td>\n",
       "      <td>3</td>\n",
       "      <td>1</td>\n",
       "      <td>2016-01-01</td>\n",
       "      <td>21489.0</td>\n",
       "      <td>Jesse</td>\n",
       "      <td>2009-06-14</td>\n",
       "      <td>US</td>\n",
       "      <td>NaN</td>\n",
       "      <td>NaN</td>\n",
       "      <td>...</td>\n",
       "      <td>NaN</td>\n",
       "      <td>NaN</td>\n",
       "      <td>0</td>\n",
       "      <td>0</td>\n",
       "      <td>0</td>\n",
       "      <td>23</td>\n",
       "      <td>45.575479</td>\n",
       "      <td>-122.666777</td>\n",
       "      <td>62</td>\n",
       "      <td>21.0</td>\n",
       "    </tr>\n",
       "    <tr>\n",
       "      <th>4</th>\n",
       "      <td>7893</td>\n",
       "      <td>4</td>\n",
       "      <td>0</td>\n",
       "      <td>NaT</td>\n",
       "      <td>21489.0</td>\n",
       "      <td>Jesse</td>\n",
       "      <td>2009-06-14</td>\n",
       "      <td>US</td>\n",
       "      <td>NaN</td>\n",
       "      <td>NaN</td>\n",
       "      <td>...</td>\n",
       "      <td>2.0</td>\n",
       "      <td>NaN</td>\n",
       "      <td>-1</td>\n",
       "      <td>0</td>\n",
       "      <td>0</td>\n",
       "      <td>23</td>\n",
       "      <td>45.575479</td>\n",
       "      <td>-122.666777</td>\n",
       "      <td>62</td>\n",
       "      <td>NaN</td>\n",
       "    </tr>\n",
       "  </tbody>\n",
       "</table>\n",
       "<p>5 rows × 173 columns</p>\n",
       "</div>"
      ],
      "text/plain": [
       "     id  month  List_month last_scraped  host_id host_name host_since  \\\n",
       "0  7893      0           0          NaT  21489.0     Jesse 2009-06-14   \n",
       "1  7893      1           0          NaT  21489.0     Jesse 2009-06-14   \n",
       "2  7893      2           0          NaT  21489.0     Jesse 2009-06-14   \n",
       "3  7893      3           1   2016-01-01  21489.0     Jesse 2009-06-14   \n",
       "4  7893      4           0          NaT  21489.0     Jesse 2009-06-14   \n",
       "\n",
       "  host_location host_response_time host_response_rate  ... fixed_lag  \\\n",
       "0            US                NaN                NaN  ...       NaN   \n",
       "1            US                NaN                NaN  ...       NaN   \n",
       "2            US                NaN                NaN  ...       NaN   \n",
       "3            US                NaN                NaN  ...       NaN   \n",
       "4            US                NaN                NaN  ...       2.0   \n",
       "\n",
       "   NOR_diff  host_is_superhost_dum room_type_dum instant_bookable_dum  \\\n",
       "0       NaN                     -1             0                    0   \n",
       "1       NaN                     -1             0                    0   \n",
       "2       NaN                     -1             0                    0   \n",
       "3       NaN                      0             0                    0   \n",
       "4       NaN                     -1             0                    0   \n",
       "\n",
       "  zipcode_dum    avg_lat     avg_lon  neighbourhood_dum days_since_calup  \n",
       "0          23  45.575479 -122.666777                 62              NaN  \n",
       "1          23  45.575479 -122.666777                 62              NaN  \n",
       "2          23  45.575479 -122.666777                 62              NaN  \n",
       "3          23  45.575479 -122.666777                 62             21.0  \n",
       "4          23  45.575479 -122.666777                 62              NaN  \n",
       "\n",
       "[5 rows x 173 columns]"
      ]
     },
     "execution_count": 3,
     "metadata": {},
     "output_type": "execute_result"
    }
   ],
   "source": [
    "# Load in first stage cleaned data. Need to save 1st Stage Clean data in the same folder as this Notebook!\n",
    "os.chdir(csv_path) \n",
    "dateCols =['last_scraped', 'host_since', 'first_review', 'last_review', 'scrape_batch']\n",
    "df = pd.read_csv('1stStageClean_Portland.csv.gz', low_memory=False, compression='gzip', parse_dates=dateCols)\n",
    "df.head(5)"
   ]
  },
  {
   "cell_type": "markdown",
   "metadata": {},
   "source": [
    "--------------------"
   ]
  },
  {
   "cell_type": "markdown",
   "metadata": {},
   "source": [
    "# Cleaning Part 2"
   ]
  },
  {
   "cell_type": "code",
   "execution_count": 4,
   "metadata": {},
   "outputs": [],
   "source": [
    "def create_lagsleads(var, lag_range, df, title):\n",
    "    \"\"\"\n",
    "    This function creates lag and lead variables for a given variable and dataframe.    \n",
    "    \"\"\"\n",
    "    df = df.sort_values(by = ['id', 'month'])\n",
    "    \n",
    "    for i in range(-lag_range, lag_range + 1):\n",
    "        \n",
    "        if i == 0:\n",
    "            continue\n",
    "        \n",
    "        if i < 0:\n",
    "            df.loc[:, title + \"lead\" + str(abs(i)) ] = df.groupby('id')[var].shift(i)\n",
    "                \n",
    "        if i > 0: \n",
    "            df.loc[:, title + \"lag\" + str(abs(i)) ] = df.groupby('id')[var].shift(i)\n",
    "            \n",
    "    return df"
   ]
  },
  {
   "cell_type": "code",
   "execution_count": 5,
   "metadata": {},
   "outputs": [],
   "source": [
    "Confidence_cutoff = 1.960 \n",
    "df.loc[:, 'corrected_NOR'] = df.groupby(['id'])['number_of_reviews'].rolling(19, min_periods=1).max().reset_index(level=0, drop=True)\n",
    "df = create_lagsleads('corrected_NOR', 12, df, \"NOR\") \n",
    "df.loc[:, \"NOR_diff\"] = df['corrected_NOR'] - df['NORlag1']\n",
    "bounds = df.groupby('id')['NOR_diff'].mean() + Confidence_cutoff*df.groupby('id')['NOR_diff'].std()/np.sqrt(df.groupby('id')['List_month'].sum())\n",
    "df.loc[:, \"NOR_diff_bound\"] = bounds[df['id']].values"
   ]
  },
  {
   "cell_type": "code",
   "execution_count": 6,
   "metadata": {},
   "outputs": [],
   "source": [
    "def timedelta_formatter(var):\n",
    "    \"\"\"\n",
    "    This function formats the time delta for a passed variable.\n",
    "    \"\"\"\n",
    "    df.loc[:, var] = pd.to_timedelta(df[var]).dt.days\n",
    "    \n",
    "for deltas in ['days_since_rev', 'days_since_first_rev', 'host_length']:\n",
    "    timedelta_formatter(deltas)"
   ]
  },
  {
   "cell_type": "code",
   "execution_count": 7,
   "metadata": {},
   "outputs": [],
   "source": [
    "def test_var_change(var, cutoff, relate, df):\n",
    "    \"\"\"\n",
    "    This function lists ids where the variable of interest changes (\"var\").\n",
    "    \"\"\"\n",
    "    ops = {'>': operator.gt,\n",
    "       '<': operator.lt,\n",
    "       '>=': operator.ge,\n",
    "       '<=': operator.le,\n",
    "       '==': operator.eq}\n",
    "    \n",
    "    # Take ids and variable of interest and drop any na's\n",
    "    repetition_arr = np.array(df[['id', var]].dropna().drop_duplicates()) # Need drop_duplicates to identify actual price changes\n",
    "    counts = np.unique(repetition_arr[:,0], return_counts = True)\n",
    "    return counts[0][ops[relate](counts[1], cutoff)], counts[1][ops[relate](counts[1], cutoff)]"
   ]
  },
  {
   "cell_type": "code",
   "execution_count": 8,
   "metadata": {},
   "outputs": [],
   "source": [
    "# Store the ids for which the property type changes at least twice\n",
    "change_ids, change_counts = test_var_change('property_type', 2, '>=', df)"
   ]
  },
  {
   "cell_type": "code",
   "execution_count": 9,
   "metadata": {},
   "outputs": [],
   "source": [
    "# This gives the location of the first month hosted\n",
    "first_host_ind = df.groupby('id').List_month.idxmax()\n",
    "df.loc[:, \"first_appearance\"] = (df.index == first_host_ind[df['id']]).astype(float)"
   ]
  },
  {
   "cell_type": "code",
   "execution_count": 10,
   "metadata": {},
   "outputs": [],
   "source": [
    "# This gives the last month hosted\n",
    "df_list = df[df['List_month'] == 1]\n",
    "last = df_list.groupby('id')['month'].last()\n",
    "\n",
    "df.loc[:, 'last_app'] = (df['month'].values == last[df['id']].values).astype(float)"
   ]
  },
  {
   "cell_type": "code",
   "execution_count": 11,
   "metadata": {},
   "outputs": [],
   "source": [
    "# Calculate cumulative listings for a given host\n",
    "host_cumlists = df.groupby(['host_id', 'month'])['first_appearance'].sum().unstack().cumsum(axis=1).stack().astype(int)\n",
    "host_cumlists.name = 'cum_sum'\n",
    "df = df.join(host_cumlists, on=['host_id', 'month'], rsuffix='_cumsum')\n",
    "\n",
    "# --- Calculate other summary statistics about host holdings ---\n",
    "\n",
    "# Host listings per month\n",
    "df = df.join(df.groupby(['host_id', 'month'])['List_month'].sum(), on=['host_id', 'month'], rsuffix='_byhost_month')\n",
    "\n",
    "# Host overall listings over the dataset\n",
    "df = df.join(df.groupby(['host_id'])['List_month'].sum(), on=['host_id'], rsuffix='_host_overall')\n",
    "\n",
    "# Total times a given property is listed\n",
    "df = df.join(df.groupby(['id'])['List_month'].sum(), on=['id'], rsuffix='_id_overall')"
   ]
  },
  {
   "cell_type": "code",
   "execution_count": 12,
   "metadata": {},
   "outputs": [],
   "source": [
    "# Identify hotels in my data\n",
    "df.loc[:, 'hotel_dum'] = np.array((df['property_type'] == \"Boutique hotel\") |\n",
    "                                  (df['property_type'] == \"Bed and breakfast\") | \n",
    "                                  (df['property_type'] == \"Boutique hotel\") | \n",
    "                                  (df['property_type'] == \"Aparthotel\")| \n",
    "                                  (df['property_type'] == \"Hotel\")| \n",
    "                                  (df['property_type'] == \"Resort\")| \n",
    "                                  (df['property_type'] == \"Serviced apartment\") )*1"
   ]
  },
  {
   "cell_type": "code",
   "execution_count": 13,
   "metadata": {},
   "outputs": [],
   "source": [
    "# Create a preliminary measure for an entrant Airbnb listing.\n",
    "df.loc[:,\"entrant\"] =  np.array((df['first_appearance'] == 1) &\n",
    "                                (df['days_since_first_rev'] < 30 ) & \n",
    "                                (df['number_of_reviews'] < 10 ))*1"
   ]
  },
  {
   "cell_type": "code",
   "execution_count": 14,
   "metadata": {},
   "outputs": [
    {
     "data": {
      "text/html": [
       "<div>\n",
       "<style scoped>\n",
       "    .dataframe tbody tr th:only-of-type {\n",
       "        vertical-align: middle;\n",
       "    }\n",
       "\n",
       "    .dataframe tbody tr th {\n",
       "        vertical-align: top;\n",
       "    }\n",
       "\n",
       "    .dataframe thead th {\n",
       "        text-align: right;\n",
       "    }\n",
       "</style>\n",
       "<table border=\"1\" class=\"dataframe\">\n",
       "  <thead>\n",
       "    <tr style=\"text-align: right;\">\n",
       "      <th></th>\n",
       "      <th>id</th>\n",
       "      <th>month</th>\n",
       "      <th>neighbourhood</th>\n",
       "      <th>List_month_byneigh</th>\n",
       "      <th>List_month_lag_byneigh</th>\n",
       "    </tr>\n",
       "  </thead>\n",
       "  <tbody>\n",
       "    <tr>\n",
       "      <th>11359</th>\n",
       "      <td>681972</td>\n",
       "      <td>0</td>\n",
       "      <td>Alameda</td>\n",
       "      <td>15</td>\n",
       "      <td>NaN</td>\n",
       "    </tr>\n",
       "    <tr>\n",
       "      <th>19388</th>\n",
       "      <td>1125125</td>\n",
       "      <td>0</td>\n",
       "      <td>Alameda</td>\n",
       "      <td>15</td>\n",
       "      <td>NaN</td>\n",
       "    </tr>\n",
       "    <tr>\n",
       "      <th>19425</th>\n",
       "      <td>1128026</td>\n",
       "      <td>0</td>\n",
       "      <td>Alameda</td>\n",
       "      <td>15</td>\n",
       "      <td>NaN</td>\n",
       "    </tr>\n",
       "    <tr>\n",
       "      <th>22496</th>\n",
       "      <td>1268272</td>\n",
       "      <td>0</td>\n",
       "      <td>Alameda</td>\n",
       "      <td>15</td>\n",
       "      <td>NaN</td>\n",
       "    </tr>\n",
       "    <tr>\n",
       "      <th>24827</th>\n",
       "      <td>1420478</td>\n",
       "      <td>0</td>\n",
       "      <td>Alameda</td>\n",
       "      <td>15</td>\n",
       "      <td>NaN</td>\n",
       "    </tr>\n",
       "    <tr>\n",
       "      <th>...</th>\n",
       "      <td>...</td>\n",
       "      <td>...</td>\n",
       "      <td>...</td>\n",
       "      <td>...</td>\n",
       "      <td>...</td>\n",
       "    </tr>\n",
       "    <tr>\n",
       "      <th>406518</th>\n",
       "      <td>29884092</td>\n",
       "      <td>36</td>\n",
       "      <td>Woodstock</td>\n",
       "      <td>93</td>\n",
       "      <td>90.0</td>\n",
       "    </tr>\n",
       "    <tr>\n",
       "      <th>407628</th>\n",
       "      <td>30010653</td>\n",
       "      <td>36</td>\n",
       "      <td>Woodstock</td>\n",
       "      <td>93</td>\n",
       "      <td>90.0</td>\n",
       "    </tr>\n",
       "    <tr>\n",
       "      <th>408294</th>\n",
       "      <td>30085303</td>\n",
       "      <td>36</td>\n",
       "      <td>Woodstock</td>\n",
       "      <td>93</td>\n",
       "      <td>90.0</td>\n",
       "    </tr>\n",
       "    <tr>\n",
       "      <th>413104</th>\n",
       "      <td>31043503</td>\n",
       "      <td>36</td>\n",
       "      <td>Woodstock</td>\n",
       "      <td>93</td>\n",
       "      <td>90.0</td>\n",
       "    </tr>\n",
       "    <tr>\n",
       "      <th>414325</th>\n",
       "      <td>31291509</td>\n",
       "      <td>36</td>\n",
       "      <td>Woodstock</td>\n",
       "      <td>93</td>\n",
       "      <td>90.0</td>\n",
       "    </tr>\n",
       "  </tbody>\n",
       "</table>\n",
       "<p>418359 rows × 5 columns</p>\n",
       "</div>"
      ],
      "text/plain": [
       "              id  month neighbourhood  List_month_byneigh  \\\n",
       "11359     681972      0       Alameda                  15   \n",
       "19388    1125125      0       Alameda                  15   \n",
       "19425    1128026      0       Alameda                  15   \n",
       "22496    1268272      0       Alameda                  15   \n",
       "24827    1420478      0       Alameda                  15   \n",
       "...          ...    ...           ...                 ...   \n",
       "406518  29884092     36     Woodstock                  93   \n",
       "407628  30010653     36     Woodstock                  93   \n",
       "408294  30085303     36     Woodstock                  93   \n",
       "413104  31043503     36     Woodstock                  93   \n",
       "414325  31291509     36     Woodstock                  93   \n",
       "\n",
       "        List_month_lag_byneigh  \n",
       "11359                      NaN  \n",
       "19388                      NaN  \n",
       "19425                      NaN  \n",
       "22496                      NaN  \n",
       "24827                      NaN  \n",
       "...                        ...  \n",
       "406518                    90.0  \n",
       "407628                    90.0  \n",
       "408294                    90.0  \n",
       "413104                    90.0  \n",
       "414325                    90.0  \n",
       "\n",
       "[418359 rows x 5 columns]"
      ]
     },
     "execution_count": 14,
     "metadata": {},
     "output_type": "execute_result"
    }
   ],
   "source": [
    "# CALCULATE LISTINGS PER NEIGHBORHOOD\n",
    "\n",
    "# Calculate the number of listings in a neighborhood on the Airbnb platform for a given month\n",
    "df = df.join(df.groupby(['neighbourhood', 'month'])['List_month'].sum(), \n",
    "             on=['neighbourhood', 'month'], rsuffix='_byneigh')\n",
    "\n",
    "# Calculate the lagged number of listings in a neighborhood on the Airbnb platform for a given month\n",
    "df = df.join(df.sort_values(by=['neighbourhood', 'month']).groupby(['neighbourhood', 'month'])['List_month'].sum().shift(1), \n",
    "             on=['neighbourhood', 'month'], rsuffix='_lag_byneigh')\n",
    "\n",
    "df.loc[:,'List_month_lag_byneigh'] =  df['List_month_lag_byneigh'].mask(df['month'] == 3, np.nan)\n",
    "\n",
    "df.sort_values(by=['neighbourhood', 'month'])[['id', 'month', 'neighbourhood', 'List_month_byneigh', 'List_month_lag_byneigh']]"
   ]
  },
  {
   "cell_type": "markdown",
   "metadata": {},
   "source": [
    "------"
   ]
  },
  {
   "cell_type": "markdown",
   "metadata": {},
   "source": [
    "# 2. Drop Indicators "
   ]
  },
  {
   "cell_type": "markdown",
   "metadata": {},
   "source": [
    "### No reviews\n"
   ]
  },
  {
   "cell_type": "code",
   "execution_count": 15,
   "metadata": {},
   "outputs": [
    {
     "data": {
      "text/plain": [
       "92722"
      ]
     },
     "execution_count": 15,
     "metadata": {},
     "output_type": "execute_result"
    }
   ],
   "source": [
    "df.loc[:, 'drop_indicator'] = 0\n",
    "\n",
    "max_NORdiff = df.groupby('id')['NOR_diff'].max()\n",
    "df.loc[:, 'max_NORdiff'] = max_NORdiff[df['id']].values\n",
    "\n",
    "no_revs_ind = (df['max_NORdiff'] == 0).values*1\n",
    "df.loc[:, 'drop_indicator'] = df['drop_indicator'].replace({ 0: no_revs_ind})\n",
    "\n",
    "df['drop_indicator'].sum()"
   ]
  },
  {
   "cell_type": "markdown",
   "metadata": {},
   "source": [
    "### Extremely low or high prices"
   ]
  },
  {
   "cell_type": "code",
   "execution_count": 16,
   "metadata": {},
   "outputs": [
    {
     "data": {
      "text/plain": [
       "100270"
      ]
     },
     "execution_count": 16,
     "metadata": {},
     "output_type": "execute_result"
    }
   ],
   "source": [
    "price_1per = df.price.quantile(.01)\n",
    "price_99per = df.price.quantile(.99)\n",
    "\n",
    "low_price = (df.groupby('id')['price'].min()[df['id']].values < price_1per)*1\n",
    "high_price = (df.groupby('id')['price'].min()[df['id']].values > price_99per)*1\n",
    "\n",
    "df.loc[:, 'drop_indicator'] = df['drop_indicator'].replace({ 0: low_price})\n",
    "df.loc[:, 'drop_indicator'] = df['drop_indicator'].replace({ 0: high_price})\n",
    "\n",
    "df['drop_indicator'].sum()"
   ]
  },
  {
   "cell_type": "markdown",
   "metadata": {},
   "source": [
    "### Never state a day of availability "
   ]
  },
  {
   "cell_type": "code",
   "execution_count": 17,
   "metadata": {},
   "outputs": [
    {
     "data": {
      "text/plain": [
       "101491"
      ]
     },
     "execution_count": 17,
     "metadata": {},
     "output_type": "execute_result"
    }
   ],
   "source": [
    "never_avail = (df.groupby('id')['availability_365'].max()[df['id']].values == 0)*1\n",
    "df.loc[:, 'drop_indicator'] = df['drop_indicator'].replace({ 0: never_avail})\n",
    "\n",
    "df['drop_indicator'].sum()"
   ]
  },
  {
   "cell_type": "markdown",
   "metadata": {},
   "source": [
    "### Minimum nights"
   ]
  },
  {
   "cell_type": "code",
   "execution_count": 18,
   "metadata": {},
   "outputs": [
    {
     "data": {
      "text/plain": [
       "102194"
      ]
     },
     "execution_count": 18,
     "metadata": {},
     "output_type": "execute_result"
    }
   ],
   "source": [
    "long_term_rental = (df.groupby(['id'])['minimum_nights'].min()[df['id']].values > 30)*1\n",
    "df.loc[:, 'drop_indicator'] = df['drop_indicator'].replace({ 0: long_term_rental})\n",
    "df['drop_indicator'].sum()"
   ]
  },
  {
   "cell_type": "markdown",
   "metadata": {},
   "source": [
    "### Hotel indicator"
   ]
  },
  {
   "cell_type": "code",
   "execution_count": 19,
   "metadata": {},
   "outputs": [
    {
     "data": {
      "text/plain": [
       "107337"
      ]
     },
     "execution_count": 19,
     "metadata": {},
     "output_type": "execute_result"
    }
   ],
   "source": [
    "hotel_ind = (df.groupby(['id'])['hotel_dum'].max()[df['id']].values == 1)*1\n",
    "df.loc[:, 'drop_indicator'] = df['drop_indicator'].replace({ 0: hotel_ind})\n",
    "\n",
    "df['drop_indicator'].sum()"
   ]
  },
  {
   "cell_type": "code",
   "execution_count": 20,
   "metadata": {},
   "outputs": [
    {
     "name": "stdout",
     "output_type": "stream",
     "text": [
      "107337\n",
      "311022\n"
     ]
    }
   ],
   "source": [
    "print(len(df[df['drop_indicator'] == 1]))\n",
    "print(len(df[df['drop_indicator'] == 0]))"
   ]
  },
  {
   "cell_type": "markdown",
   "metadata": {},
   "source": [
    "# 3. Save CSV"
   ]
  },
  {
   "cell_type": "code",
   "execution_count": 21,
   "metadata": {},
   "outputs": [],
   "source": [
    "os.chdir(csv_save_path)"
   ]
  },
  {
   "cell_type": "code",
   "execution_count": 22,
   "metadata": {},
   "outputs": [],
   "source": [
    "df.to_csv('2ndStageClean_Portland.csv.gz', compression='gzip', index=False, date_format='%Y-%m-%d %H:%M:%S')"
   ]
  },
  {
   "cell_type": "markdown",
   "metadata": {},
   "source": [
    "--------\n",
    "# Preliminary visualizations"
   ]
  },
  {
   "cell_type": "markdown",
   "metadata": {},
   "source": [
    "## Visualizing the raw number of listings in the data\n",
    "Below we present a visualization of the raw number of Airbnb listings in Portland before any listings have been dropped."
   ]
  },
  {
   "cell_type": "code",
   "execution_count": 23,
   "metadata": {},
   "outputs": [
    {
     "data": {
      "image/png": "[encoded data removed]",
      "text/plain": [
       "<Figure size 432x288 with 1 Axes>"
      ]
     },
     "metadata": {
      "needs_background": "light"
     },
     "output_type": "display_data"
    }
   ],
   "source": [
    "# Listing visualization\n",
    "\n",
    "dates = df[df['drop_indicator'] ==0].groupby('scrape_batch')['List_month'].sum().index\n",
    "counts = df[df['drop_indicator'] ==0].groupby('scrape_batch')['List_month'].sum().values\n",
    "\n",
    "count_max = counts.max()\n",
    "count_min = counts.min()\n",
    "count_std = counts.std()\n",
    "\n",
    "plt.plot(dates, counts)\n",
    "plt.ylim(0, count_max + 500)\n",
    "plt.xticks(rotation=\"vertical\")\n",
    "plt.axvline(datetime.datetime(2018, 1, 16, 0, 0), alpha=0.25, color='red', linestyle='--', label='STR regulation enforcement begins')\n",
    "plt.axvline(datetime.datetime(2020, 3, 16, 0, 0), alpha=0.25, color='orange', linestyle='--', label='COVID-19 shelter in place orders')\n",
    "plt.ylabel(\"Raw listing count\")\n",
    "plt.title(\"Number of Airbnb listings in Portland, over time\")\n",
    "plt.legend()\n",
    "\n",
    "plt.show()"
   ]
  },
  {
   "cell_type": "markdown",
   "metadata": {},
   "source": [
    "## Visualizing when new unique listings show up in the data."
   ]
  },
  {
   "cell_type": "code",
   "execution_count": 24,
   "metadata": {},
   "outputs": [
    {
     "data": {
      "image/png": "[encoded data removed]",
      "text/plain": [
       "<Figure size 432x288 with 1 Axes>"
      ]
     },
     "metadata": {
      "needs_background": "light"
     },
     "output_type": "display_data"
    }
   ],
   "source": [
    "plt.plot(df.groupby('scrape_batch')['last_app'].sum()[1:-1], label='Sum last appearance')\n",
    "plt.plot(df.groupby('scrape_batch')['first_appearance'].sum()[1:-1], label='Sum first appearances')\n",
    "plt.title('Count of first and last appearances of Airbnbs on platform in Portland (excluding first and last month, raw data)')\n",
    "plt.xticks(rotation=\"vertical\")\n",
    "plt.axvline(datetime.datetime(2018, 1, 16, 0, 0), alpha=0.25, color='red', linestyle='--', label='STR regulation enforcement begins')\n",
    "plt.legend()\n",
    "plt.show()"
   ]
  },
  {
   "cell_type": "markdown",
   "metadata": {},
   "source": [
    "## Visualizing of total hotels listing on Airbnb"
   ]
  },
  {
   "cell_type": "code",
   "execution_count": 25,
   "metadata": {},
   "outputs": [
    {
     "data": {
      "image/png": "[encoded data removed]",
      "text/plain": [
       "<Figure size 432x288 with 1 Axes>"
      ]
     },
     "metadata": {
      "needs_background": "light"
     },
     "output_type": "display_data"
    }
   ],
   "source": [
    "plt.plot(df.groupby('scrape_batch')['hotel_dum'].sum()[1:])\n",
    "plt.title(\"Count of hotels on Airbnb in Portland over time (raw data)\")\n",
    "plt.ylim(0, 1500)\n",
    "plt.show()"
   ]
  },
  {
   "cell_type": "markdown",
   "metadata": {},
   "source": [
    "## Visualization of \"entrant\" Airbnb listings\n",
    "My criteria for an \"entrant\" listing are:\n",
    "* First time listing is ever seen in the data \n",
    "* Days since first review is less than 30 days\n",
    "* Number of total reviews is less than 10"
   ]
  },
  {
   "cell_type": "code",
   "execution_count": 26,
   "metadata": {},
   "outputs": [
    {
     "data": {
      "image/png": "[encoded data removed]",
      "text/plain": [
       "<Figure size 432x288 with 1 Axes>"
      ]
     },
     "metadata": {
      "needs_background": "light"
     },
     "output_type": "display_data"
    }
   ],
   "source": [
    "plt.plot(df.groupby('scrape_batch')['entrant'].sum()[1:])\n",
    "plt.title(\"Count of 'entrants' onto Portland Airbnb over time (raw data)\")\n",
    "plt.show()"
   ]
  }
 ],
 "metadata": {
  "kernelspec": {
   "display_name": "Python 3 (ipykernel)",
   "language": "python",
   "name": "python3"
  },
  "language_info": {
   "codemirror_mode": {
    "name": "ipython",
    "version": 3
   },
   "file_extension": ".py",
   "mimetype": "text/x-python",
   "name": "python",
   "nbconvert_exporter": "python",
   "pygments_lexer": "ipython3",
   "version": "3.9.7"
  }
 },
 "nbformat": 4,
 "nbformat_minor": 2
}
