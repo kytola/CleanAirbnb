{
 "cells": [
  {
   "cell_type": "markdown",
   "metadata": {},
   "source": [
    "# Date create: January 8, 2022\n",
    "\n",
    "This file concatenates the different calendar file chunks into a single, compressed .npz file."
   ]
  },
  {
   "cell_type": "code",
   "execution_count": 1,
   "metadata": {},
   "outputs": [],
   "source": [
    "# Import libraries --\n",
    "\n",
    "import numpy as np\n",
    "import pandas as pd\n",
    "import os\n",
    "import time\n",
    "from datetime import datetime"
   ]
  },
  {
   "cell_type": "code",
   "execution_count": 2,
   "metadata": {},
   "outputs": [],
   "source": [
    "# Manage directories --\n",
    "\n",
    "# Universal directory setup\n",
    "cwd1 = os.getcwd() \n",
    "\n",
    "# Go up one directory level\n",
    "os.chdir('..')\n",
    "cwd2 = os.getcwd()\n",
    "\n",
    "data_path = cwd2 + '/Saved data/'"
   ]
  },
  {
   "cell_type": "code",
   "execution_count": 3,
   "metadata": {},
   "outputs": [
    {
     "data": {
      "text/html": [
       "<div>\n",
       "<style scoped>\n",
       "    .dataframe tbody tr th:only-of-type {\n",
       "        vertical-align: middle;\n",
       "    }\n",
       "\n",
       "    .dataframe tbody tr th {\n",
       "        vertical-align: top;\n",
       "    }\n",
       "\n",
       "    .dataframe thead th {\n",
       "        text-align: right;\n",
       "    }\n",
       "</style>\n",
       "<table border=\"1\" class=\"dataframe\">\n",
       "  <thead>\n",
       "    <tr style=\"text-align: right;\">\n",
       "      <th></th>\n",
       "      <th>Unnamed: 0</th>\n",
       "      <th>booked</th>\n",
       "      <th>id</th>\n",
       "      <th>res_date</th>\n",
       "      <th>never_avail</th>\n",
       "      <th>price</th>\n",
       "      <th>last_date</th>\n",
       "      <th>all_prices</th>\n",
       "      <th>final_prices</th>\n",
       "      <th>seen_avail</th>\n",
       "      <th>week_yr</th>\n",
       "      <th>mo_yr</th>\n",
       "    </tr>\n",
       "  </thead>\n",
       "  <tbody>\n",
       "    <tr>\n",
       "      <th>0</th>\n",
       "      <td>0</td>\n",
       "      <td>False</td>\n",
       "      <td>880611</td>\n",
       "      <td>2015-09-02</td>\n",
       "      <td>True</td>\n",
       "      <td>NaN</td>\n",
       "      <td>NaN</td>\n",
       "      <td>NaN</td>\n",
       "      <td>NaN</td>\n",
       "      <td>0</td>\n",
       "      <td>2015-35</td>\n",
       "      <td>2015-09</td>\n",
       "    </tr>\n",
       "    <tr>\n",
       "      <th>1</th>\n",
       "      <td>1</td>\n",
       "      <td>False</td>\n",
       "      <td>916916</td>\n",
       "      <td>2015-09-02</td>\n",
       "      <td>False</td>\n",
       "      <td>NaN</td>\n",
       "      <td>NaN</td>\n",
       "      <td>150.0</td>\n",
       "      <td>150.0</td>\n",
       "      <td>1</td>\n",
       "      <td>2015-35</td>\n",
       "      <td>2015-09</td>\n",
       "    </tr>\n",
       "    <tr>\n",
       "      <th>2</th>\n",
       "      <td>2</td>\n",
       "      <td>False</td>\n",
       "      <td>1024996</td>\n",
       "      <td>2015-09-02</td>\n",
       "      <td>True</td>\n",
       "      <td>NaN</td>\n",
       "      <td>NaN</td>\n",
       "      <td>NaN</td>\n",
       "      <td>NaN</td>\n",
       "      <td>0</td>\n",
       "      <td>2015-35</td>\n",
       "      <td>2015-09</td>\n",
       "    </tr>\n",
       "    <tr>\n",
       "      <th>3</th>\n",
       "      <td>3</td>\n",
       "      <td>False</td>\n",
       "      <td>921586</td>\n",
       "      <td>2015-09-02</td>\n",
       "      <td>True</td>\n",
       "      <td>NaN</td>\n",
       "      <td>NaN</td>\n",
       "      <td>NaN</td>\n",
       "      <td>NaN</td>\n",
       "      <td>0</td>\n",
       "      <td>2015-35</td>\n",
       "      <td>2015-09</td>\n",
       "    </tr>\n",
       "    <tr>\n",
       "      <th>4</th>\n",
       "      <td>4</td>\n",
       "      <td>False</td>\n",
       "      <td>1042814</td>\n",
       "      <td>2015-09-02</td>\n",
       "      <td>False</td>\n",
       "      <td>NaN</td>\n",
       "      <td>NaN</td>\n",
       "      <td>160.0</td>\n",
       "      <td>160.0</td>\n",
       "      <td>1</td>\n",
       "      <td>2015-35</td>\n",
       "      <td>2015-09</td>\n",
       "    </tr>\n",
       "  </tbody>\n",
       "</table>\n",
       "</div>"
      ],
      "text/plain": [
       "   Unnamed: 0  booked       id    res_date  never_avail  price last_date  \\\n",
       "0           0   False   880611  2015-09-02         True    NaN       NaN   \n",
       "1           1   False   916916  2015-09-02        False    NaN       NaN   \n",
       "2           2   False  1024996  2015-09-02         True    NaN       NaN   \n",
       "3           3   False   921586  2015-09-02         True    NaN       NaN   \n",
       "4           4   False  1042814  2015-09-02        False    NaN       NaN   \n",
       "\n",
       "   all_prices  final_prices  seen_avail  week_yr    mo_yr  \n",
       "0         NaN           NaN           0  2015-35  2015-09  \n",
       "1       150.0         150.0           1  2015-35  2015-09  \n",
       "2         NaN           NaN           0  2015-35  2015-09  \n",
       "3         NaN           NaN           0  2015-35  2015-09  \n",
       "4       160.0         160.0           1  2015-35  2015-09  "
      ]
     },
     "execution_count": 3,
     "metadata": {},
     "output_type": "execute_result"
    }
   ],
   "source": [
    "# Example of loading one chunk --\n",
    "\n",
    "os.chdir(data_path)\n",
    "\n",
    "# Read in one example chunk and look at it.\n",
    "test_df = pd.read_csv('booked_df_v2_3.csv')\n",
    "test_df.head(5)"
   ]
  },
  {
   "cell_type": "markdown",
   "metadata": {},
   "source": [
    "# Concatenating chunks back together"
   ]
  },
  {
   "cell_type": "code",
   "execution_count": 4,
   "metadata": {},
   "outputs": [],
   "source": [
    "def chunk_simplified(file_name, keep_cols):\n",
    "    \n",
    "    \"\"\" This function takes a csv that has been saved through Pandas\n",
    "    and returns a numpy array. The keep_cols list specifies which columns\n",
    "    should be kept from the CSV file. \"\"\"\n",
    "    \n",
    "    df = pd.read_csv(file_name)\n",
    "    df = df[keep_cols]\n",
    "    \n",
    "    # Make booked a boolean\n",
    "    df.loc[:, 'booked'] = df['booked'].values*1\n",
    "    \n",
    "    return df.values"
   ]
  },
  {
   "cell_type": "code",
   "execution_count": 5,
   "metadata": {
    "scrolled": true
   },
   "outputs": [
    {
     "name": "stdout",
     "output_type": "stream",
     "text": [
      "booked_df_v2_0.csv\n",
      "booked_df_v2_1.csv\n",
      "booked_df_v2_2.csv\n",
      "booked_df_v2_3.csv\n",
      "booked_df_v2_4.csv\n",
      "booked_df_v2_5.csv\n",
      "booked_df_v2_6.csv\n",
      "booked_df_v2_7.csv\n",
      "booked_df_v2_8.csv\n",
      "booked_df_v2_9.csv\n",
      "booked_df_v2_10.csv\n",
      "booked_df_v2_11.csv\n",
      "booked_df_v2_12.csv\n",
      "booked_df_v2_13.csv\n",
      "booked_df_v2_14.csv\n",
      "booked_df_v2_15.csv\n",
      "booked_df_v2_16.csv\n",
      "booked_df_v2_17.csv\n",
      "booked_df_v2_18.csv\n",
      "booked_df_v2_19.csv\n",
      "booked_df_v2_20.csv\n",
      "booked_df_v2_21.csv\n",
      "booked_df_v2_22.csv\n",
      "booked_df_v2_23.csv\n",
      "booked_df_v2_24.csv\n",
      "booked_df_v2_25.csv\n",
      "booked_df_v2_26.csv\n",
      "booked_df_v2_27.csv\n",
      "booked_df_v2_28.csv\n",
      "booked_df_v2_29.csv\n",
      "booked_df_v2_30.csv\n",
      "booked_df_v2_31.csv\n",
      "booked_df_v2_32.csv\n",
      "booked_df_v2_33.csv\n",
      "booked_df_v2_34.csv\n",
      "booked_df_v2_35.csv\n",
      "booked_df_v2_36.csv\n",
      "booked_df_v2_37.csv\n",
      "booked_df_v2_38.csv\n",
      "booked_df_v2_39.csv\n",
      "booked_df_v2_40.csv\n",
      "booked_df_v2_41.csv\n",
      "booked_df_v2_42.csv\n",
      "booked_df_v2_43.csv\n",
      "booked_df_v2_44.csv\n",
      "booked_df_v2_45.csv\n",
      "booked_df_v2_46.csv\n",
      "booked_df_v2_47.csv\n",
      "booked_df_v2_48.csv\n",
      "booked_df_v2_49.csv\n",
      "booked_df_v2_50.csv\n",
      "booked_df_v2_51.csv\n",
      "booked_df_v2_52.csv\n",
      "booked_df_v2_53.csv\n",
      "booked_df_v2_54.csv\n",
      "booked_df_v2_55.csv\n",
      "booked_df_v2_56.csv\n",
      "booked_df_v2_57.csv\n"
     ]
    },
    {
     "name": "stderr",
     "output_type": "stream",
     "text": [
      "/tmp/ipykernel_83792/3653569010.py:22: DtypeWarning: Columns (6) have mixed types.Specify dtype option on import or set low_memory=False.\n",
      "  arr_i = chunk_simplified(file_i, my_cols)\n"
     ]
    },
    {
     "name": "stdout",
     "output_type": "stream",
     "text": [
      "booked_df_v2_58.csv\n",
      "booked_df_v2_59.csv\n",
      "booked_df_v2_60.csv\n",
      "booked_df_v2_61.csv\n",
      "booked_df_v2_62.csv\n",
      "booked_df_v2_63.csv\n",
      "booked_df_v2_64.csv\n",
      "booked_df_v2_65.csv\n",
      "booked_df_v2_66.csv\n",
      "booked_df_v2_67.csv\n",
      "booked_df_v2_68.csv\n",
      "booked_df_v2_69.csv\n",
      "booked_df_v2_70.csv\n",
      "booked_df_v2_71.csv\n",
      "booked_df_v2_72.csv\n",
      "booked_df_v2_73.csv\n",
      "booked_df_v2_74.csv\n",
      "booked_df_v2_75.csv\n",
      "booked_df_v2_76.csv\n",
      "booked_df_v2_77.csv\n",
      "booked_df_v2_78.csv\n",
      "booked_df_v2_79.csv\n",
      "booked_df_v2_80.csv\n",
      "Minutes for concatenation loop:\n",
      "0.4977\n"
     ]
    }
   ],
   "source": [
    "# Concatenate chunks --\n",
    "\n",
    "# Extract all files in the directory\n",
    "dir_files = os.listdir(os.getcwd())\n",
    "\n",
    "# Count how many chunk files we have\n",
    "N_chunk_files = len([s for s in dir_files if \"booked_df_v2\" in s])-1\n",
    "\n",
    "# Select columns to keep \n",
    "# Delete 'Unnamed: 0', 'never_avail', 'price', 'all_prices' columns. \n",
    "my_cols = ['id', 'res_date','booked', 'seen_avail', 'final_prices', 'last_date', 'week_yr', 'mo_yr']\n",
    "\n",
    "file_name_base = 'booked_df_v2_'\n",
    "\n",
    "my_loop_timer = time.time()\n",
    "\n",
    "for ind in range(N_chunk_files):\n",
    "\n",
    "    file_i = file_name_base + str(ind) + \".csv\"\n",
    "    print(file_i)\n",
    "    \n",
    "    arr_i = chunk_simplified(file_i, my_cols)\n",
    "    \n",
    "    if ind == 0:\n",
    "        \n",
    "        full_arr = arr_i\n",
    "        \n",
    "    if ind > 0:\n",
    "        full_arr = np.concatenate([full_arr, arr_i], axis=0)\n",
    "\n",
    "# =======================================================\n",
    "\n",
    "mins_to_run = (time.time() - my_loop_timer)/60\n",
    "\n",
    "print(\"Minutes for concatenation loop:\")\n",
    "print(np.round(mins_to_run, 4))"
   ]
  },
  {
   "cell_type": "markdown",
   "metadata": {},
   "source": [
    "# Saving compressed data"
   ]
  },
  {
   "cell_type": "code",
   "execution_count": 12,
   "metadata": {},
   "outputs": [],
   "source": [
    "# Save compressed file --\n",
    "\n",
    "npz_file_name = \"Portland_booked_df\"\n",
    "\n",
    "my_date = str(datetime.now().year) + \"_\" + str(datetime.now().month) + \"_\" + str(datetime.now().day)\n",
    "\n",
    "my_save_timer = time.time()\n",
    "\n",
    "np.savez_compressed(npz_file_name, \n",
    "                    list_id = full_arr[:,0], \n",
    "                    res_date = full_arr[:,1],\n",
    "                    book_status = full_arr[:,2],\n",
    "                    seen_avail = full_arr[:, 3],\n",
    "                    prices = full_arr[:, 4],\n",
    "                    other_dates = full_arr[:, -3:], # These dates might end up being pretty important for merging later on.\n",
    "                    col_names = my_cols,\n",
    "                    date_of_file = my_date)\n",
    "\n",
    "# =======================================================\n",
    "\n",
    "#save_mins_to_run = (time.time() - my_save_timer)/60\n",
    "\n",
    "#print(\"Minutes for concatenation loop:\")\n",
    "#print(np.round(save_mins_to_run, 4))"
   ]
  },
  {
   "cell_type": "markdown",
   "metadata": {},
   "source": [
    "# Loading in data after it has been saved"
   ]
  },
  {
   "cell_type": "code",
   "execution_count": 7,
   "metadata": {},
   "outputs": [
    {
     "name": "stdout",
     "output_type": "stream",
     "text": [
      "['list_id', 'res_date', 'book_status', 'seen_avail', 'prices', 'other_dates', 'col_names', 'date_of_file']\n"
     ]
    }
   ],
   "source": [
    "quick_test = np.load('Portland_booked_df.npz', allow_pickle=True)\n",
    "print(quick_test.files)"
   ]
  },
  {
   "cell_type": "code",
   "execution_count": 8,
   "metadata": {},
   "outputs": [],
   "source": [
    "# Load in ids and dates\n",
    "\n",
    "my_ids = quick_test['list_id']\n",
    "my_dates = quick_test['res_date']"
   ]
  },
  {
   "cell_type": "code",
   "execution_count": 9,
   "metadata": {},
   "outputs": [
    {
     "data": {
      "text/plain": [
       "((12911400, 1), (12911400, 1))"
      ]
     },
     "execution_count": 9,
     "metadata": {},
     "output_type": "execute_result"
    }
   ],
   "source": [
    "# Add a second axis to arrays\n",
    "\n",
    "np.array([my_ids]).T.shape, np.array([my_dates]).T.shape"
   ]
  },
  {
   "cell_type": "code",
   "execution_count": 10,
   "metadata": {},
   "outputs": [
    {
     "name": "stdout",
     "output_type": "stream",
     "text": [
      "(12911400, 2)\n"
     ]
    }
   ],
   "source": [
    "# Use concatenation to create a new numpy array\n",
    "\n",
    "rejoined_example = np.concatenate([np.array([my_ids]).T, np.array([my_dates]).T], axis=1)\n",
    "print(rejoined_example.shape)"
   ]
  },
  {
   "cell_type": "code",
   "execution_count": 11,
   "metadata": {},
   "outputs": [
    {
     "data": {
      "text/html": [
       "<div>\n",
       "<style scoped>\n",
       "    .dataframe tbody tr th:only-of-type {\n",
       "        vertical-align: middle;\n",
       "    }\n",
       "\n",
       "    .dataframe tbody tr th {\n",
       "        vertical-align: top;\n",
       "    }\n",
       "\n",
       "    .dataframe thead th {\n",
       "        text-align: right;\n",
       "    }\n",
       "</style>\n",
       "<table border=\"1\" class=\"dataframe\">\n",
       "  <thead>\n",
       "    <tr style=\"text-align: right;\">\n",
       "      <th></th>\n",
       "      <th>id</th>\n",
       "      <th>res_date</th>\n",
       "    </tr>\n",
       "  </thead>\n",
       "  <tbody>\n",
       "    <tr>\n",
       "      <th>0</th>\n",
       "      <td>9356</td>\n",
       "      <td>2015-09-02</td>\n",
       "    </tr>\n",
       "    <tr>\n",
       "      <th>1</th>\n",
       "      <td>39938</td>\n",
       "      <td>2015-09-02</td>\n",
       "    </tr>\n",
       "    <tr>\n",
       "      <th>2</th>\n",
       "      <td>156479</td>\n",
       "      <td>2015-09-02</td>\n",
       "    </tr>\n",
       "    <tr>\n",
       "      <th>3</th>\n",
       "      <td>41601</td>\n",
       "      <td>2015-09-02</td>\n",
       "    </tr>\n",
       "    <tr>\n",
       "      <th>4</th>\n",
       "      <td>187797</td>\n",
       "      <td>2015-09-02</td>\n",
       "    </tr>\n",
       "    <tr>\n",
       "      <th>5</th>\n",
       "      <td>145199</td>\n",
       "      <td>2015-09-02</td>\n",
       "    </tr>\n",
       "    <tr>\n",
       "      <th>6</th>\n",
       "      <td>203797</td>\n",
       "      <td>2015-09-02</td>\n",
       "    </tr>\n",
       "    <tr>\n",
       "      <th>7</th>\n",
       "      <td>240583</td>\n",
       "      <td>2015-09-02</td>\n",
       "    </tr>\n",
       "    <tr>\n",
       "      <th>8</th>\n",
       "      <td>263318</td>\n",
       "      <td>2015-09-02</td>\n",
       "    </tr>\n",
       "    <tr>\n",
       "      <th>9</th>\n",
       "      <td>42347</td>\n",
       "      <td>2015-09-02</td>\n",
       "    </tr>\n",
       "  </tbody>\n",
       "</table>\n",
       "</div>"
      ],
      "text/plain": [
       "       id    res_date\n",
       "0    9356  2015-09-02\n",
       "1   39938  2015-09-02\n",
       "2  156479  2015-09-02\n",
       "3   41601  2015-09-02\n",
       "4  187797  2015-09-02\n",
       "5  145199  2015-09-02\n",
       "6  203797  2015-09-02\n",
       "7  240583  2015-09-02\n",
       "8  263318  2015-09-02\n",
       "9   42347  2015-09-02"
      ]
     },
     "execution_count": 11,
     "metadata": {},
     "output_type": "execute_result"
    }
   ],
   "source": [
    "# Can rebuild DataFrame in this way\n",
    "\n",
    "example_df = pd.DataFrame(rejoined_example[0:10,:]) # Slice just to make it smaller. This is just illustrative\n",
    "example_df.columns = quick_test['col_names'][0:2]\n",
    "\n",
    "example_df"
   ]
  }
 ],
 "metadata": {
  "kernelspec": {
   "display_name": "Python 3 (ipykernel)",
   "language": "python",
   "name": "python3"
  },
  "language_info": {
   "codemirror_mode": {
    "name": "ipython",
    "version": 3
   },
   "file_extension": ".py",
   "mimetype": "text/x-python",
   "name": "python",
   "nbconvert_exporter": "python",
   "pygments_lexer": "ipython3",
   "version": "3.9.7"
  }
 },
 "nbformat": 4,
 "nbformat_minor": 4
}
