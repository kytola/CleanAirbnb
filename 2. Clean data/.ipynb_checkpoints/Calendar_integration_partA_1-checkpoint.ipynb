{
 "cells": [
  {
   "cell_type": "markdown",
   "metadata": {},
   "source": [
    "# Calendar_integration_partA\n",
    "\n",
    "## Created June 19, 2020\n",
    "\n",
    "This file is the first half of the file \"CALENDAR DATA_05\" and it produces a dataframe named \"booked_df_v2.h5\" "
   ]
  },
  {
   "cell_type": "markdown",
   "metadata": {},
   "source": [
    "# Import libraries and initial setup"
   ]
  },
  {
   "cell_type": "code",
   "execution_count": 2,
   "metadata": {},
   "outputs": [],
   "source": [
    "import os\n",
    "import pandas as pd\n",
    "import numpy as np\n",
    "from functools import reduce"
   ]
  },
  {
   "cell_type": "code",
   "execution_count": 3,
   "metadata": {},
   "outputs": [],
   "source": [
    "# Various paths to work with \n",
    "\n",
    "# Universal directory setup\n",
    "cwd1 = os.getcwd() \n",
    "\n",
    "# Go up one directory level\n",
    "os.chdir('..')\n",
    "cwd2 = os.getcwd()\n",
    "\n",
    "# Set paths\n",
    "graphics_folder = cwd2 + '/3. Graphics/'\n",
    "data_path = cwd2 + '/Saved data/'\n",
    "csv_path = cwd2 + '/0. Raw data/'\n",
    "# Revert to preliminary directory\n",
    "os.chdir(cwd1)"
   ]
  },
  {
   "cell_type": "code",
   "execution_count": 4,
   "metadata": {},
   "outputs": [
    {
     "name": "stdout",
     "output_type": "stream",
     "text": [
      "['2016-12-03', '2015-11-01', '2018-01-10', '2015-12-02', '2019-07-08', '2018-09-08', '2019-04-03', '2017-09-02', '2020-02-12', '2020-05-06', '2018-07-05', '2016-08-02', '2020-06-08', '2020-01-02', '2017-04-02', '2016-02-02', '2016-10-01', '2015-05-04', '2017-05-02', '2016-11-02', '2017-08-02', '2019-03-06', '2018-04-06', '2018-03-04', '2018-05-09', '2020-03-13', '2019-05-03', '2017-03-02', '2019-11-01', '2016-07-02', '2018-10-03', '2019-02-01', '2019-06-02', '2019-09-12', '2016-04-03', '2017-11-08', '2020-04-07', '2017-12-07', '2018-08-06', '2019-10-14', '2018-12-06', '2019-08-06', '2015-09-02', '2017-11-01', '2016-09-02', '2019-12-04', '2016-06-02', '2017-07-02', '2018-02-02', '2017-01-01', '2020-01-04', '2017-06-02', '2018-01-17', '2017-12-02', '2019-01-09', '2017-02-02', '2018-11-03', '2016-05-02', '2017-10-02']\n"
     ]
    }
   ],
   "source": [
    "# This loop aggregates all calendar file names\n",
    "\n",
    "calFiles = []\n",
    "fileNames = os.listdir(csv_path)\n",
    "for fileNames in fileNames:\n",
    "    if fileNames.endswith(\"calendar.csv.gz\"):\n",
    "        calFiles.append(fileNames)\n",
    "        \n",
    "file_dates = []\n",
    "\n",
    "for i in range(len(calFiles)):\n",
    "    file_dates.append(calFiles[i].split('_')[2])\n",
    "    \n",
    "init_dates = file_dates\n",
    "\n",
    "print(init_dates)"
   ]
  },
  {
   "cell_type": "code",
   "execution_count": 5,
   "metadata": {},
   "outputs": [],
   "source": [
    "#Read 2nd stage cleaned dataframe\n",
    "os.chdir(data_path)\n",
    "\n",
    "dateCols =['last_scraped', 'host_since', 'first_review', 'last_review']\n",
    "listings_df = pd.read_csv('2ndStageClean_SF.csv.gz', compression = 'gzip', low_memory=False, parse_dates=dateCols)\n"
   ]
  },
  {
   "cell_type": "code",
   "execution_count": 6,
   "metadata": {},
   "outputs": [],
   "source": [
    "def complex_extract_cal_list(date, cal_start, cal_end, update_cutoff=90, avail_cutoff=0):\n",
    "    \n",
    "    \"\"\"\n",
    "    The point of this function is to remove listings that seem dormant \n",
    "    on Airbnb from the calendar files that we will be using.\n",
    "    \"\"\"\n",
    "    \n",
    " \n",
    "    \n",
    "    # Managing listings dataframe \n",
    "    dateCols =['last_scraped', 'host_since', 'first_review', 'last_review']\n",
    "    list_file = pd.read_csv(\"united-states_san-francisco_\" + date + \"_listings.csv.gz\", low_memory = False, parse_dates = dateCols, compression='gzip')\n",
    "    \n",
    "    # Here I try to identify which listing calendars should be trusted, I try not to be too harsh.\n",
    "  \n",
    "    # Harrison: The cleaning file should now create this update_numeric\n",
    "    small = list_file['calendar_updated'].str.split(' ', 3, expand=True)\n",
    "    small.columns = ['count', 'measure', 'length']\n",
    "    small = small[['count', 'measure']]\n",
    "\n",
    "    small = small.replace([\"days\", 'week', 'weeks', 'months', 'today', 'never','yesterday'], \n",
    "                          [1, 7, 7, 30, 0, 999, 1])\n",
    "    \n",
    "    small['count'] = small['count'].replace('a', 1)\n",
    "    small = small.fillna(1)\n",
    "\n",
    "    list_file.loc[:, 'update_numeric'] = small['count'].astype(float)*small['measure'].astype(float)\n",
    "\n",
    "    checks = list_file[['update_numeric', 'instant_bookable', 'last_scraped', 'last_review', 'availability_365']]\n",
    "    checks.loc[:, 'DSR'] = (checks['last_scraped'] - checks['last_review']).dt.days\n",
    "    checks = checks[['update_numeric', 'instant_bookable', 'DSR', 'availability_365']]\n",
    "       \n",
    "   # list_file.drop(list_file[list_file['property_type'] == 'Hotel'], inplace = True)\n",
    "   # Need to talk through LTRs with you\n",
    "    \n",
    "    list_file.loc[:, 'DSR'] = checks['DSR']\n",
    "    list_file.loc[:, 'cal_trust'] = (((checks['update_numeric'] <= update_cutoff) | (checks['instant_bookable'] =='t') \n",
    "                                     | (checks['availability_365'] > avail_cutoff))*1) # \n",
    "            \n",
    "    trusted_ids = list_file[list_file['cal_trust'] == 1]['id'].unique()\n",
    "    \n",
    "    \n",
    "    list_file['price'] = list_file.price.replace('[\\$,]', '', regex=True).astype(float)\n",
    "    \n",
    "     # Reduce the size of variables in the listings dataframe, this can always be modified in the future \n",
    "    list_file_small = list_file[['id', 'price', 'host_listings_count','bedrooms', 'bathrooms', 'neighbourhood', 'zipcode', 'room_type', \n",
    "                                 'instant_bookable', 'update_numeric', 'DSR', 'cal_trust', 'availability_365']]\n",
    "   \n",
    "    list_file_small.columns = ['id', 'headline_price', 'host_lists', 'bedrooms', \n",
    "                               'bathrooms', 'neigh', 'zip', 'type', 'instant', \n",
    "                               'DSupdate', 'DSReview', 'Active_flag', 'avail365']\n",
    "\n",
    "    # Managing calendar dataframe\n",
    "    cal_file = pd.read_csv(\"united-states_san-francisco_\" + date + \"_calendar.csv.gz\", compression = 'gzip')\n",
    "    cal_file = cal_file[['listing_id', 'date','available', 'price']] # This is needed because newer calendar files add cols\n",
    "    cal_file = cal_file[(cal_file['date'] >= cal_start)& (cal_file['date'] <= cal_end)] # Deal with different scrape times\n",
    "    cal_file['price'] = cal_file.price.replace('[\\$,]', '', regex=True).astype(float)   # Prices converted to floats\n",
    "    \n",
    "    print(\"----Cleaning calendar and listings data for \" + date + \"----\")\n",
    "    print(\"Listing-dates removed: \" + str(float(len(cal_file) - len(cal_file[cal_file['listing_id'].isin(trusted_ids)]))))\n",
    "    print(\"Unique listings removed: \" + str(float((len(cal_file) - len(cal_file[cal_file['listing_id'].isin(trusted_ids)]))/365)))\n",
    "    print(\"                                                           \")\n",
    "    \n",
    "    cal_file = cal_file[cal_file['listing_id'].isin(trusted_ids)] # Removes questionable calendar data\n",
    "   \n",
    "    # Rename my columns\n",
    "    cal_file.columns = ['id', 'date', 'avail', 'night_price']\n",
    "    \n",
    "    return cal_file, list_file_small"
   ]
  },
  {
   "cell_type": "code",
   "execution_count": 7,
   "metadata": {},
   "outputs": [],
   "source": [
    "#listings_df.loc[:, 'List_month'] = listings_df['List_month'] - listings_df['Occasional_LTR'] \n",
    "\n",
    "#listings_df = listings_df[listings_df['Occasional_LTR'] == 0] # This may mess up some of the dimensionsl\n",
    "\n",
    "os.chdir(csv_path)"
   ]
  },
  {
   "cell_type": "markdown",
   "metadata": {},
   "source": [
    "# Initial data cleaning and merge"
   ]
  },
  {
   "cell_type": "code",
   "execution_count": 8,
   "metadata": {
    "scrolled": true
   },
   "outputs": [
    {
     "name": "stdout",
     "output_type": "stream",
     "text": [
      "['2015-09-02' '2015-11-01' '2015-12-02' '2016-02-02' '2016-04-03'\n",
      " '2016-05-02' '2016-06-02' '2016-07-02' '2016-08-02' '2016-09-02'\n",
      " '2016-10-01' '2016-11-02' '2016-12-03' '2017-01-01' '2017-02-02'\n",
      " '2017-03-02' '2017-04-02' '2017-05-02' '2017-06-02' '2017-07-02'\n",
      " '2017-08-02' '2017-09-02' '2017-10-02' '2017-11-01' '2017-11-08'\n",
      " '2017-12-02' '2017-12-07' '2018-01-10' '2018-01-17' '2018-02-02'\n",
      " '2018-03-04' '2018-04-06' '2018-05-09' '2018-07-05' '2018-08-06'\n",
      " '2018-09-08' '2018-10-03' '2018-11-03' '2018-12-06' '2019-01-09'\n",
      " '2019-02-01' '2019-03-06' '2019-04-03' '2019-05-03' '2019-06-02'\n",
      " '2019-07-08' '2019-08-06' '2019-09-12' '2019-10-14' '2019-11-01'\n",
      " '2019-12-04']\n"
     ]
    }
   ],
   "source": [
    "#This section focuses on date formatting and array creation:\n",
    "from datetime import datetime\n",
    "\n",
    "arr_dates_init = np.array(init_dates).astype('datetime64')\n",
    "arr_dates_init.sort()\n",
    "arr_dates = np.delete(arr_dates_init, [0,-1, -2, -3, -4, -5, -6, -7])\n",
    "print(arr_dates)"
   ]
  },
  {
   "cell_type": "code",
   "execution_count": 9,
   "metadata": {},
   "outputs": [],
   "source": [
    "init_dates_2 = list((arr_dates).astype(str))"
   ]
  },
  {
   "cell_type": "code",
   "execution_count": 10,
   "metadata": {
    "scrolled": true
   },
   "outputs": [
    {
     "name": "stdout",
     "output_type": "stream",
     "text": [
      "0\n",
      "No issue\n",
      "1\n",
      "Issue!\n",
      "['2015-11-02T00:00:00.000000000' '2015-11-01T00:00:00.000000000']\n",
      "2\n",
      "No issue\n",
      "3\n",
      "No issue\n",
      "4\n",
      "No issue\n",
      "5\n",
      "No issue\n",
      "6\n",
      "No issue\n",
      "7\n",
      "No issue\n",
      "8\n",
      "Issue!\n",
      "['2016-08-02T00:00:00.000000000' '2016-08-03T00:00:00.000000000']\n",
      "9\n",
      "No issue\n",
      "10\n",
      "No issue\n",
      "11\n",
      "No issue\n",
      "12\n",
      "Issue!\n",
      "['2016-12-03T00:00:00.000000000' '2016-12-04T00:00:00.000000000']\n",
      "13\n",
      "No issue\n",
      "14\n",
      "No issue\n",
      "15\n",
      "No issue\n",
      "16\n",
      "No issue\n",
      "17\n",
      "Issue!\n",
      "['2017-05-02T00:00:00.000000000' '2017-05-03T00:00:00.000000000']\n",
      "18\n",
      "No issue\n",
      "19\n",
      "Issue!\n",
      "['2017-07-02T00:00:00.000000000' '2017-07-03T00:00:00.000000000']\n",
      "20\n",
      "No issue\n",
      "21\n",
      "No issue\n",
      "22\n",
      "No issue\n",
      "23\n",
      "No issue\n",
      "24\n",
      "No issue\n",
      "25\n",
      "Issue!\n",
      "['2017-12-02T00:00:00.000000000' '2017-12-03T00:00:00.000000000']\n",
      "26\n",
      "No issue\n",
      "27\n",
      "No issue\n",
      "28\n",
      "No issue\n",
      "29\n",
      "No issue\n",
      "30\n",
      "Issue!\n",
      "['2018-03-04T00:00:00.000000000' '2018-03-06T00:00:00.000000000']\n",
      "31\n",
      "Issue!\n",
      "['2018-04-06T00:00:00.000000000' '2018-04-07T00:00:00.000000000']\n",
      "32\n",
      "No issue\n",
      "33\n",
      "No issue\n",
      "34\n",
      "No issue\n",
      "35\n",
      "No issue\n",
      "36\n",
      "No issue\n",
      "37\n",
      "No issue\n",
      "38\n",
      "No issue\n",
      "39\n",
      "No issue\n",
      "40\n",
      "No issue\n",
      "41\n",
      "No issue\n",
      "42\n",
      "Issue!\n",
      "['2019-04-03T00:00:00.000000000' '2019-04-05T00:00:00.000000000']\n",
      "43\n",
      "No issue\n",
      "44\n",
      "No issue\n",
      "45\n",
      "No issue\n",
      "46\n",
      "Issue!\n",
      "['2019-08-06T00:00:00.000000000' '2019-08-13T00:00:00.000000000']\n",
      "47\n",
      "No issue\n",
      "48\n",
      "No issue\n",
      "49\n",
      "Issue!\n",
      "['2019-11-01T00:00:00.000000000' '2019-11-02T00:00:00.000000000']\n",
      "50\n",
      "Issue!\n",
      "['2019-12-04T00:00:00.000000000' '2019-12-05T00:00:00.000000000']\n"
     ]
    },
    {
     "data": {
      "text/plain": [
       "[0,\n",
       " 2,\n",
       " 0,\n",
       " 0,\n",
       " 0,\n",
       " 0,\n",
       " 0,\n",
       " 0,\n",
       " 2,\n",
       " 0,\n",
       " 0,\n",
       " 0,\n",
       " 2,\n",
       " 0,\n",
       " 0,\n",
       " 0,\n",
       " 0,\n",
       " 2,\n",
       " 0,\n",
       " 2,\n",
       " 0,\n",
       " 0,\n",
       " 0,\n",
       " 0,\n",
       " 0,\n",
       " 2,\n",
       " 0,\n",
       " 0,\n",
       " 0,\n",
       " 0,\n",
       " 2,\n",
       " 2,\n",
       " 0,\n",
       " 0,\n",
       " 0,\n",
       " 0,\n",
       " 0,\n",
       " 0,\n",
       " 0,\n",
       " 0,\n",
       " 0,\n",
       " 0,\n",
       " 2,\n",
       " 0,\n",
       " 0,\n",
       " 0,\n",
       " 2,\n",
       " 0,\n",
       " 0,\n",
       " 2,\n",
       " 2]"
      ]
     },
     "execution_count": 10,
     "metadata": {},
     "output_type": "execute_result"
    }
   ],
   "source": [
    "# This loop simply identifies when a scrape took more than one day, \n",
    "# and creates an adjustment layer based on this information\n",
    "os.chdir(csv_path)\n",
    "i = 0\n",
    "adjustment_layer = []\n",
    "for date in init_dates_2:\n",
    "    dateCols =['last_scraped', 'host_since', 'first_review', 'last_review']\n",
    "    list_file = pd.read_csv(\"united-states_san-francisco_\" + date + \"_listings.csv.gz\", low_memory = False, compression='gzip', parse_dates = dateCols)\n",
    "    print(i)\n",
    "    if len(list_file.last_scraped.unique()) > 1:\n",
    "        print(\"Issue!\")\n",
    "        print(list_file.last_scraped.unique())\n",
    "        adjustment_layer.append(len(list_file.last_scraped.unique()))\n",
    "    else:\n",
    "        print(\"No issue\")\n",
    "        adjustment_layer.append(0)\n",
    "    i += 1\n",
    "adjustment_layer"
   ]
  },
  {
   "cell_type": "code",
   "execution_count": 11,
   "metadata": {},
   "outputs": [
    {
     "name": "stderr",
     "output_type": "stream",
     "text": [
      "/home/natfern/anaconda3/lib/python3.8/site-packages/pandas/core/indexing.py:1597: SettingWithCopyWarning: \n",
      "A value is trying to be set on a copy of a slice from a DataFrame.\n",
      "Try using .loc[row_indexer,col_indexer] = value instead\n",
      "\n",
      "See the caveats in the documentation: https://pandas.pydata.org/pandas-docs/stable/user_guide/indexing.html#returning-a-view-versus-a-copy\n",
      "  self.obj[key] = value\n",
      "/home/natfern/anaconda3/lib/python3.8/site-packages/pandas/core/indexing.py:1676: SettingWithCopyWarning: \n",
      "A value is trying to be set on a copy of a slice from a DataFrame.\n",
      "Try using .loc[row_indexer,col_indexer] = value instead\n",
      "\n",
      "See the caveats in the documentation: https://pandas.pydata.org/pandas-docs/stable/user_guide/indexing.html#returning-a-view-versus-a-copy\n",
      "  self._setitem_single_column(ilocs[0], value, pi)\n"
     ]
    },
    {
     "name": "stdout",
     "output_type": "stream",
     "text": [
      "----Cleaning calendar and listings data for 2015-09-02----\n",
      "Listing-dates removed: 15325.0\n",
      "Unique listings removed: 41.986301369863014\n",
      "                                                           \n"
     ]
    },
    {
     "name": "stderr",
     "output_type": "stream",
     "text": [
      "/home/natfern/anaconda3/lib/python3.8/site-packages/pandas/core/indexing.py:1597: SettingWithCopyWarning: \n",
      "A value is trying to be set on a copy of a slice from a DataFrame.\n",
      "Try using .loc[row_indexer,col_indexer] = value instead\n",
      "\n",
      "See the caveats in the documentation: https://pandas.pydata.org/pandas-docs/stable/user_guide/indexing.html#returning-a-view-versus-a-copy\n",
      "  self.obj[key] = value\n",
      "/home/natfern/anaconda3/lib/python3.8/site-packages/pandas/core/indexing.py:1676: SettingWithCopyWarning: \n",
      "A value is trying to be set on a copy of a slice from a DataFrame.\n",
      "Try using .loc[row_indexer,col_indexer] = value instead\n",
      "\n",
      "See the caveats in the documentation: https://pandas.pydata.org/pandas-docs/stable/user_guide/indexing.html#returning-a-view-versus-a-copy\n",
      "  self._setitem_single_column(ilocs[0], value, pi)\n"
     ]
    },
    {
     "name": "stdout",
     "output_type": "stream",
     "text": [
      "----Cleaning calendar and listings data for 2015-11-01----\n",
      "Listing-dates removed: 19239.0\n",
      "Unique listings removed: 52.70958904109589\n",
      "                                                           \n"
     ]
    },
    {
     "name": "stderr",
     "output_type": "stream",
     "text": [
      "/home/natfern/anaconda3/lib/python3.8/site-packages/pandas/core/indexing.py:1597: SettingWithCopyWarning: \n",
      "A value is trying to be set on a copy of a slice from a DataFrame.\n",
      "Try using .loc[row_indexer,col_indexer] = value instead\n",
      "\n",
      "See the caveats in the documentation: https://pandas.pydata.org/pandas-docs/stable/user_guide/indexing.html#returning-a-view-versus-a-copy\n",
      "  self.obj[key] = value\n",
      "/home/natfern/anaconda3/lib/python3.8/site-packages/pandas/core/indexing.py:1676: SettingWithCopyWarning: \n",
      "A value is trying to be set on a copy of a slice from a DataFrame.\n",
      "Try using .loc[row_indexer,col_indexer] = value instead\n",
      "\n",
      "See the caveats in the documentation: https://pandas.pydata.org/pandas-docs/stable/user_guide/indexing.html#returning-a-view-versus-a-copy\n",
      "  self._setitem_single_column(ilocs[0], value, pi)\n"
     ]
    },
    {
     "name": "stdout",
     "output_type": "stream",
     "text": [
      "----Cleaning calendar and listings data for 2015-12-02----\n",
      "Listing-dates removed: 19710.0\n",
      "Unique listings removed: 54.0\n",
      "                                                           \n"
     ]
    },
    {
     "name": "stderr",
     "output_type": "stream",
     "text": [
      "/home/natfern/anaconda3/lib/python3.8/site-packages/pandas/core/indexing.py:1597: SettingWithCopyWarning: \n",
      "A value is trying to be set on a copy of a slice from a DataFrame.\n",
      "Try using .loc[row_indexer,col_indexer] = value instead\n",
      "\n",
      "See the caveats in the documentation: https://pandas.pydata.org/pandas-docs/stable/user_guide/indexing.html#returning-a-view-versus-a-copy\n",
      "  self.obj[key] = value\n",
      "/home/natfern/anaconda3/lib/python3.8/site-packages/pandas/core/indexing.py:1676: SettingWithCopyWarning: \n",
      "A value is trying to be set on a copy of a slice from a DataFrame.\n",
      "Try using .loc[row_indexer,col_indexer] = value instead\n",
      "\n",
      "See the caveats in the documentation: https://pandas.pydata.org/pandas-docs/stable/user_guide/indexing.html#returning-a-view-versus-a-copy\n",
      "  self._setitem_single_column(ilocs[0], value, pi)\n"
     ]
    },
    {
     "name": "stdout",
     "output_type": "stream",
     "text": [
      "----Cleaning calendar and listings data for 2016-02-02----\n",
      "Listing-dates removed: 156220.0\n",
      "Unique listings removed: 428.0\n",
      "                                                           \n"
     ]
    },
    {
     "name": "stderr",
     "output_type": "stream",
     "text": [
      "/home/natfern/anaconda3/lib/python3.8/site-packages/pandas/core/indexing.py:1597: SettingWithCopyWarning: \n",
      "A value is trying to be set on a copy of a slice from a DataFrame.\n",
      "Try using .loc[row_indexer,col_indexer] = value instead\n",
      "\n",
      "See the caveats in the documentation: https://pandas.pydata.org/pandas-docs/stable/user_guide/indexing.html#returning-a-view-versus-a-copy\n",
      "  self.obj[key] = value\n",
      "/home/natfern/anaconda3/lib/python3.8/site-packages/pandas/core/indexing.py:1676: SettingWithCopyWarning: \n",
      "A value is trying to be set on a copy of a slice from a DataFrame.\n",
      "Try using .loc[row_indexer,col_indexer] = value instead\n",
      "\n",
      "See the caveats in the documentation: https://pandas.pydata.org/pandas-docs/stable/user_guide/indexing.html#returning-a-view-versus-a-copy\n",
      "  self._setitem_single_column(ilocs[0], value, pi)\n"
     ]
    },
    {
     "name": "stdout",
     "output_type": "stream",
     "text": [
      "----Cleaning calendar and listings data for 2016-04-03----\n",
      "Listing-dates removed: 219690.0\n",
      "Unique listings removed: 601.8904109589041\n",
      "                                                           \n"
     ]
    },
    {
     "name": "stderr",
     "output_type": "stream",
     "text": [
      "/home/natfern/anaconda3/lib/python3.8/site-packages/pandas/core/indexing.py:1597: SettingWithCopyWarning: \n",
      "A value is trying to be set on a copy of a slice from a DataFrame.\n",
      "Try using .loc[row_indexer,col_indexer] = value instead\n",
      "\n",
      "See the caveats in the documentation: https://pandas.pydata.org/pandas-docs/stable/user_guide/indexing.html#returning-a-view-versus-a-copy\n",
      "  self.obj[key] = value\n",
      "/home/natfern/anaconda3/lib/python3.8/site-packages/pandas/core/indexing.py:1676: SettingWithCopyWarning: \n",
      "A value is trying to be set on a copy of a slice from a DataFrame.\n",
      "Try using .loc[row_indexer,col_indexer] = value instead\n",
      "\n",
      "See the caveats in the documentation: https://pandas.pydata.org/pandas-docs/stable/user_guide/indexing.html#returning-a-view-versus-a-copy\n",
      "  self._setitem_single_column(ilocs[0], value, pi)\n"
     ]
    },
    {
     "name": "stdout",
     "output_type": "stream",
     "text": [
      "----Cleaning calendar and listings data for 2016-05-02----\n",
      "Listing-dates removed: 258648.0\n",
      "Unique listings removed: 708.6246575342466\n",
      "                                                           \n"
     ]
    },
    {
     "name": "stderr",
     "output_type": "stream",
     "text": [
      "/home/natfern/anaconda3/lib/python3.8/site-packages/pandas/core/indexing.py:1597: SettingWithCopyWarning: \n",
      "A value is trying to be set on a copy of a slice from a DataFrame.\n",
      "Try using .loc[row_indexer,col_indexer] = value instead\n",
      "\n",
      "See the caveats in the documentation: https://pandas.pydata.org/pandas-docs/stable/user_guide/indexing.html#returning-a-view-versus-a-copy\n",
      "  self.obj[key] = value\n",
      "/home/natfern/anaconda3/lib/python3.8/site-packages/pandas/core/indexing.py:1676: SettingWithCopyWarning: \n",
      "A value is trying to be set on a copy of a slice from a DataFrame.\n",
      "Try using .loc[row_indexer,col_indexer] = value instead\n",
      "\n",
      "See the caveats in the documentation: https://pandas.pydata.org/pandas-docs/stable/user_guide/indexing.html#returning-a-view-versus-a-copy\n",
      "  self._setitem_single_column(ilocs[0], value, pi)\n"
     ]
    },
    {
     "name": "stdout",
     "output_type": "stream",
     "text": [
      "----Cleaning calendar and listings data for 2016-06-02----\n",
      "Listing-dates removed: 479984.0\n",
      "Unique listings removed: 1315.0246575342467\n",
      "                                                           \n"
     ]
    },
    {
     "name": "stderr",
     "output_type": "stream",
     "text": [
      "/home/natfern/anaconda3/lib/python3.8/site-packages/pandas/core/indexing.py:1597: SettingWithCopyWarning: \n",
      "A value is trying to be set on a copy of a slice from a DataFrame.\n",
      "Try using .loc[row_indexer,col_indexer] = value instead\n",
      "\n",
      "See the caveats in the documentation: https://pandas.pydata.org/pandas-docs/stable/user_guide/indexing.html#returning-a-view-versus-a-copy\n",
      "  self.obj[key] = value\n",
      "/home/natfern/anaconda3/lib/python3.8/site-packages/pandas/core/indexing.py:1676: SettingWithCopyWarning: \n",
      "A value is trying to be set on a copy of a slice from a DataFrame.\n",
      "Try using .loc[row_indexer,col_indexer] = value instead\n",
      "\n",
      "See the caveats in the documentation: https://pandas.pydata.org/pandas-docs/stable/user_guide/indexing.html#returning-a-view-versus-a-copy\n",
      "  self._setitem_single_column(ilocs[0], value, pi)\n"
     ]
    },
    {
     "name": "stdout",
     "output_type": "stream",
     "text": [
      "----Cleaning calendar and listings data for 2016-07-02----\n",
      "Listing-dates removed: 492750.0\n",
      "Unique listings removed: 1350.0\n",
      "                                                           \n"
     ]
    },
    {
     "name": "stderr",
     "output_type": "stream",
     "text": [
      "/home/natfern/anaconda3/lib/python3.8/site-packages/pandas/core/indexing.py:1597: SettingWithCopyWarning: \n",
      "A value is trying to be set on a copy of a slice from a DataFrame.\n",
      "Try using .loc[row_indexer,col_indexer] = value instead\n",
      "\n",
      "See the caveats in the documentation: https://pandas.pydata.org/pandas-docs/stable/user_guide/indexing.html#returning-a-view-versus-a-copy\n",
      "  self.obj[key] = value\n",
      "/home/natfern/anaconda3/lib/python3.8/site-packages/pandas/core/indexing.py:1676: SettingWithCopyWarning: \n",
      "A value is trying to be set on a copy of a slice from a DataFrame.\n",
      "Try using .loc[row_indexer,col_indexer] = value instead\n",
      "\n",
      "See the caveats in the documentation: https://pandas.pydata.org/pandas-docs/stable/user_guide/indexing.html#returning-a-view-versus-a-copy\n",
      "  self._setitem_single_column(ilocs[0], value, pi)\n"
     ]
    },
    {
     "name": "stdout",
     "output_type": "stream",
     "text": [
      "----Cleaning calendar and listings data for 2016-08-02----\n",
      "Listing-dates removed: 490050.0\n",
      "Unique listings removed: 1342.6027397260275\n",
      "                                                           \n"
     ]
    },
    {
     "name": "stderr",
     "output_type": "stream",
     "text": [
      "/home/natfern/anaconda3/lib/python3.8/site-packages/pandas/core/indexing.py:1597: SettingWithCopyWarning: \n",
      "A value is trying to be set on a copy of a slice from a DataFrame.\n",
      "Try using .loc[row_indexer,col_indexer] = value instead\n",
      "\n",
      "See the caveats in the documentation: https://pandas.pydata.org/pandas-docs/stable/user_guide/indexing.html#returning-a-view-versus-a-copy\n",
      "  self.obj[key] = value\n",
      "/home/natfern/anaconda3/lib/python3.8/site-packages/pandas/core/indexing.py:1676: SettingWithCopyWarning: \n",
      "A value is trying to be set on a copy of a slice from a DataFrame.\n",
      "Try using .loc[row_indexer,col_indexer] = value instead\n",
      "\n",
      "See the caveats in the documentation: https://pandas.pydata.org/pandas-docs/stable/user_guide/indexing.html#returning-a-view-versus-a-copy\n",
      "  self._setitem_single_column(ilocs[0], value, pi)\n"
     ]
    },
    {
     "name": "stdout",
     "output_type": "stream",
     "text": [
      "----Cleaning calendar and listings data for 2016-09-02----\n",
      "Listing-dates removed: 502240.0\n",
      "Unique listings removed: 1376.0\n",
      "                                                           \n"
     ]
    },
    {
     "name": "stderr",
     "output_type": "stream",
     "text": [
      "/home/natfern/anaconda3/lib/python3.8/site-packages/pandas/core/indexing.py:1597: SettingWithCopyWarning: \n",
      "A value is trying to be set on a copy of a slice from a DataFrame.\n",
      "Try using .loc[row_indexer,col_indexer] = value instead\n",
      "\n",
      "See the caveats in the documentation: https://pandas.pydata.org/pandas-docs/stable/user_guide/indexing.html#returning-a-view-versus-a-copy\n",
      "  self.obj[key] = value\n",
      "/home/natfern/anaconda3/lib/python3.8/site-packages/pandas/core/indexing.py:1676: SettingWithCopyWarning: \n",
      "A value is trying to be set on a copy of a slice from a DataFrame.\n",
      "Try using .loc[row_indexer,col_indexer] = value instead\n",
      "\n",
      "See the caveats in the documentation: https://pandas.pydata.org/pandas-docs/stable/user_guide/indexing.html#returning-a-view-versus-a-copy\n",
      "  self._setitem_single_column(ilocs[0], value, pi)\n"
     ]
    },
    {
     "name": "stdout",
     "output_type": "stream",
     "text": [
      "----Cleaning calendar and listings data for 2016-10-01----\n",
      "Listing-dates removed: 511000.0\n",
      "Unique listings removed: 1400.0\n",
      "                                                           \n"
     ]
    },
    {
     "name": "stderr",
     "output_type": "stream",
     "text": [
      "/home/natfern/anaconda3/lib/python3.8/site-packages/pandas/core/indexing.py:1597: SettingWithCopyWarning: \n",
      "A value is trying to be set on a copy of a slice from a DataFrame.\n",
      "Try using .loc[row_indexer,col_indexer] = value instead\n",
      "\n",
      "See the caveats in the documentation: https://pandas.pydata.org/pandas-docs/stable/user_guide/indexing.html#returning-a-view-versus-a-copy\n",
      "  self.obj[key] = value\n",
      "/home/natfern/anaconda3/lib/python3.8/site-packages/pandas/core/indexing.py:1676: SettingWithCopyWarning: \n",
      "A value is trying to be set on a copy of a slice from a DataFrame.\n",
      "Try using .loc[row_indexer,col_indexer] = value instead\n",
      "\n",
      "See the caveats in the documentation: https://pandas.pydata.org/pandas-docs/stable/user_guide/indexing.html#returning-a-view-versus-a-copy\n",
      "  self._setitem_single_column(ilocs[0], value, pi)\n"
     ]
    },
    {
     "name": "stdout",
     "output_type": "stream",
     "text": [
      "----Cleaning calendar and listings data for 2016-11-02----\n",
      "Listing-dates removed: 542774.0\n",
      "Unique listings removed: 1487.0520547945205\n",
      "                                                           \n"
     ]
    },
    {
     "name": "stderr",
     "output_type": "stream",
     "text": [
      "/home/natfern/anaconda3/lib/python3.8/site-packages/pandas/core/indexing.py:1597: SettingWithCopyWarning: \n",
      "A value is trying to be set on a copy of a slice from a DataFrame.\n",
      "Try using .loc[row_indexer,col_indexer] = value instead\n",
      "\n",
      "See the caveats in the documentation: https://pandas.pydata.org/pandas-docs/stable/user_guide/indexing.html#returning-a-view-versus-a-copy\n",
      "  self.obj[key] = value\n",
      "/home/natfern/anaconda3/lib/python3.8/site-packages/pandas/core/indexing.py:1676: SettingWithCopyWarning: \n",
      "A value is trying to be set on a copy of a slice from a DataFrame.\n",
      "Try using .loc[row_indexer,col_indexer] = value instead\n",
      "\n",
      "See the caveats in the documentation: https://pandas.pydata.org/pandas-docs/stable/user_guide/indexing.html#returning-a-view-versus-a-copy\n",
      "  self._setitem_single_column(ilocs[0], value, pi)\n"
     ]
    },
    {
     "name": "stdout",
     "output_type": "stream",
     "text": [
      "----Cleaning calendar and listings data for 2016-12-03----\n",
      "Listing-dates removed: 565554.0\n",
      "Unique listings removed: 1549.4630136986302\n",
      "                                                           \n"
     ]
    },
    {
     "name": "stderr",
     "output_type": "stream",
     "text": [
      "/home/natfern/anaconda3/lib/python3.8/site-packages/pandas/core/indexing.py:1597: SettingWithCopyWarning: \n",
      "A value is trying to be set on a copy of a slice from a DataFrame.\n",
      "Try using .loc[row_indexer,col_indexer] = value instead\n",
      "\n",
      "See the caveats in the documentation: https://pandas.pydata.org/pandas-docs/stable/user_guide/indexing.html#returning-a-view-versus-a-copy\n",
      "  self.obj[key] = value\n",
      "/home/natfern/anaconda3/lib/python3.8/site-packages/pandas/core/indexing.py:1676: SettingWithCopyWarning: \n",
      "A value is trying to be set on a copy of a slice from a DataFrame.\n",
      "Try using .loc[row_indexer,col_indexer] = value instead\n",
      "\n",
      "See the caveats in the documentation: https://pandas.pydata.org/pandas-docs/stable/user_guide/indexing.html#returning-a-view-versus-a-copy\n",
      "  self._setitem_single_column(ilocs[0], value, pi)\n"
     ]
    },
    {
     "name": "stdout",
     "output_type": "stream",
     "text": [
      "----Cleaning calendar and listings data for 2017-01-01----\n",
      "Listing-dates removed: 585825.0\n",
      "Unique listings removed: 1605.0\n",
      "                                                           \n"
     ]
    },
    {
     "name": "stderr",
     "output_type": "stream",
     "text": [
      "/home/natfern/anaconda3/lib/python3.8/site-packages/pandas/core/indexing.py:1597: SettingWithCopyWarning: \n",
      "A value is trying to be set on a copy of a slice from a DataFrame.\n",
      "Try using .loc[row_indexer,col_indexer] = value instead\n",
      "\n",
      "See the caveats in the documentation: https://pandas.pydata.org/pandas-docs/stable/user_guide/indexing.html#returning-a-view-versus-a-copy\n",
      "  self.obj[key] = value\n",
      "/home/natfern/anaconda3/lib/python3.8/site-packages/pandas/core/indexing.py:1676: SettingWithCopyWarning: \n",
      "A value is trying to be set on a copy of a slice from a DataFrame.\n",
      "Try using .loc[row_indexer,col_indexer] = value instead\n",
      "\n",
      "See the caveats in the documentation: https://pandas.pydata.org/pandas-docs/stable/user_guide/indexing.html#returning-a-view-versus-a-copy\n",
      "  self._setitem_single_column(ilocs[0], value, pi)\n"
     ]
    },
    {
     "name": "stdout",
     "output_type": "stream",
     "text": [
      "----Cleaning calendar and listings data for 2017-02-02----\n",
      "Listing-dates removed: 615025.0\n",
      "Unique listings removed: 1685.0\n",
      "                                                           \n"
     ]
    },
    {
     "name": "stderr",
     "output_type": "stream",
     "text": [
      "/home/natfern/anaconda3/lib/python3.8/site-packages/pandas/core/indexing.py:1597: SettingWithCopyWarning: \n",
      "A value is trying to be set on a copy of a slice from a DataFrame.\n",
      "Try using .loc[row_indexer,col_indexer] = value instead\n",
      "\n",
      "See the caveats in the documentation: https://pandas.pydata.org/pandas-docs/stable/user_guide/indexing.html#returning-a-view-versus-a-copy\n",
      "  self.obj[key] = value\n",
      "/home/natfern/anaconda3/lib/python3.8/site-packages/pandas/core/indexing.py:1676: SettingWithCopyWarning: \n",
      "A value is trying to be set on a copy of a slice from a DataFrame.\n",
      "Try using .loc[row_indexer,col_indexer] = value instead\n",
      "\n",
      "See the caveats in the documentation: https://pandas.pydata.org/pandas-docs/stable/user_guide/indexing.html#returning-a-view-versus-a-copy\n",
      "  self._setitem_single_column(ilocs[0], value, pi)\n"
     ]
    },
    {
     "name": "stdout",
     "output_type": "stream",
     "text": [
      "----Cleaning calendar and listings data for 2017-03-02----\n",
      "Listing-dates removed: 619724.0\n",
      "Unique listings removed: 1697.8739726027397\n",
      "                                                           \n"
     ]
    },
    {
     "name": "stderr",
     "output_type": "stream",
     "text": [
      "/home/natfern/anaconda3/lib/python3.8/site-packages/pandas/core/indexing.py:1597: SettingWithCopyWarning: \n",
      "A value is trying to be set on a copy of a slice from a DataFrame.\n",
      "Try using .loc[row_indexer,col_indexer] = value instead\n",
      "\n",
      "See the caveats in the documentation: https://pandas.pydata.org/pandas-docs/stable/user_guide/indexing.html#returning-a-view-versus-a-copy\n",
      "  self.obj[key] = value\n",
      "/home/natfern/anaconda3/lib/python3.8/site-packages/pandas/core/indexing.py:1676: SettingWithCopyWarning: \n",
      "A value is trying to be set on a copy of a slice from a DataFrame.\n",
      "Try using .loc[row_indexer,col_indexer] = value instead\n",
      "\n",
      "See the caveats in the documentation: https://pandas.pydata.org/pandas-docs/stable/user_guide/indexing.html#returning-a-view-versus-a-copy\n",
      "  self._setitem_single_column(ilocs[0], value, pi)\n"
     ]
    },
    {
     "name": "stdout",
     "output_type": "stream",
     "text": [
      "----Cleaning calendar and listings data for 2017-04-02----\n",
      "Listing-dates removed: 629606.0\n",
      "Unique listings removed: 1724.9479452054795\n",
      "                                                           \n"
     ]
    },
    {
     "name": "stderr",
     "output_type": "stream",
     "text": [
      "/home/natfern/anaconda3/lib/python3.8/site-packages/pandas/core/indexing.py:1597: SettingWithCopyWarning: \n",
      "A value is trying to be set on a copy of a slice from a DataFrame.\n",
      "Try using .loc[row_indexer,col_indexer] = value instead\n",
      "\n",
      "See the caveats in the documentation: https://pandas.pydata.org/pandas-docs/stable/user_guide/indexing.html#returning-a-view-versus-a-copy\n",
      "  self.obj[key] = value\n",
      "/home/natfern/anaconda3/lib/python3.8/site-packages/pandas/core/indexing.py:1676: SettingWithCopyWarning: \n",
      "A value is trying to be set on a copy of a slice from a DataFrame.\n",
      "Try using .loc[row_indexer,col_indexer] = value instead\n",
      "\n",
      "See the caveats in the documentation: https://pandas.pydata.org/pandas-docs/stable/user_guide/indexing.html#returning-a-view-versus-a-copy\n",
      "  self._setitem_single_column(ilocs[0], value, pi)\n"
     ]
    },
    {
     "name": "stdout",
     "output_type": "stream",
     "text": [
      "----Cleaning calendar and listings data for 2017-05-02----\n",
      "Listing-dates removed: 638154.0\n",
      "Unique listings removed: 1748.3671232876711\n",
      "                                                           \n"
     ]
    },
    {
     "name": "stderr",
     "output_type": "stream",
     "text": [
      "/home/natfern/anaconda3/lib/python3.8/site-packages/pandas/core/indexing.py:1597: SettingWithCopyWarning: \n",
      "A value is trying to be set on a copy of a slice from a DataFrame.\n",
      "Try using .loc[row_indexer,col_indexer] = value instead\n",
      "\n",
      "See the caveats in the documentation: https://pandas.pydata.org/pandas-docs/stable/user_guide/indexing.html#returning-a-view-versus-a-copy\n",
      "  self.obj[key] = value\n",
      "/home/natfern/anaconda3/lib/python3.8/site-packages/pandas/core/indexing.py:1676: SettingWithCopyWarning: \n",
      "A value is trying to be set on a copy of a slice from a DataFrame.\n",
      "Try using .loc[row_indexer,col_indexer] = value instead\n",
      "\n",
      "See the caveats in the documentation: https://pandas.pydata.org/pandas-docs/stable/user_guide/indexing.html#returning-a-view-versus-a-copy\n",
      "  self._setitem_single_column(ilocs[0], value, pi)\n"
     ]
    },
    {
     "name": "stdout",
     "output_type": "stream",
     "text": [
      "----Cleaning calendar and listings data for 2017-06-02----\n",
      "Listing-dates removed: 639153.0\n",
      "Unique listings removed: 1751.1041095890412\n",
      "                                                           \n"
     ]
    },
    {
     "name": "stderr",
     "output_type": "stream",
     "text": [
      "/home/natfern/anaconda3/lib/python3.8/site-packages/pandas/core/indexing.py:1597: SettingWithCopyWarning: \n",
      "A value is trying to be set on a copy of a slice from a DataFrame.\n",
      "Try using .loc[row_indexer,col_indexer] = value instead\n",
      "\n",
      "See the caveats in the documentation: https://pandas.pydata.org/pandas-docs/stable/user_guide/indexing.html#returning-a-view-versus-a-copy\n",
      "  self.obj[key] = value\n",
      "/home/natfern/anaconda3/lib/python3.8/site-packages/pandas/core/indexing.py:1676: SettingWithCopyWarning: \n",
      "A value is trying to be set on a copy of a slice from a DataFrame.\n",
      "Try using .loc[row_indexer,col_indexer] = value instead\n",
      "\n",
      "See the caveats in the documentation: https://pandas.pydata.org/pandas-docs/stable/user_guide/indexing.html#returning-a-view-versus-a-copy\n",
      "  self._setitem_single_column(ilocs[0], value, pi)\n"
     ]
    },
    {
     "name": "stdout",
     "output_type": "stream",
     "text": [
      "----Cleaning calendar and listings data for 2017-07-02----\n",
      "Listing-dates removed: 644325.0\n",
      "Unique listings removed: 1765.2739726027398\n",
      "                                                           \n"
     ]
    },
    {
     "name": "stderr",
     "output_type": "stream",
     "text": [
      "/home/natfern/anaconda3/lib/python3.8/site-packages/pandas/core/indexing.py:1597: SettingWithCopyWarning: \n",
      "A value is trying to be set on a copy of a slice from a DataFrame.\n",
      "Try using .loc[row_indexer,col_indexer] = value instead\n",
      "\n",
      "See the caveats in the documentation: https://pandas.pydata.org/pandas-docs/stable/user_guide/indexing.html#returning-a-view-versus-a-copy\n",
      "  self.obj[key] = value\n",
      "/home/natfern/anaconda3/lib/python3.8/site-packages/pandas/core/indexing.py:1676: SettingWithCopyWarning: \n",
      "A value is trying to be set on a copy of a slice from a DataFrame.\n",
      "Try using .loc[row_indexer,col_indexer] = value instead\n",
      "\n",
      "See the caveats in the documentation: https://pandas.pydata.org/pandas-docs/stable/user_guide/indexing.html#returning-a-view-versus-a-copy\n",
      "  self._setitem_single_column(ilocs[0], value, pi)\n"
     ]
    },
    {
     "name": "stdout",
     "output_type": "stream",
     "text": [
      "----Cleaning calendar and listings data for 2017-08-02----\n",
      "Listing-dates removed: 662583.0\n",
      "Unique listings removed: 1815.295890410959\n",
      "                                                           \n"
     ]
    },
    {
     "name": "stderr",
     "output_type": "stream",
     "text": [
      "/home/natfern/anaconda3/lib/python3.8/site-packages/pandas/core/indexing.py:1597: SettingWithCopyWarning: \n",
      "A value is trying to be set on a copy of a slice from a DataFrame.\n",
      "Try using .loc[row_indexer,col_indexer] = value instead\n",
      "\n",
      "See the caveats in the documentation: https://pandas.pydata.org/pandas-docs/stable/user_guide/indexing.html#returning-a-view-versus-a-copy\n",
      "  self.obj[key] = value\n",
      "/home/natfern/anaconda3/lib/python3.8/site-packages/pandas/core/indexing.py:1676: SettingWithCopyWarning: \n",
      "A value is trying to be set on a copy of a slice from a DataFrame.\n",
      "Try using .loc[row_indexer,col_indexer] = value instead\n",
      "\n",
      "See the caveats in the documentation: https://pandas.pydata.org/pandas-docs/stable/user_guide/indexing.html#returning-a-view-versus-a-copy\n",
      "  self._setitem_single_column(ilocs[0], value, pi)\n"
     ]
    },
    {
     "name": "stdout",
     "output_type": "stream",
     "text": [
      "----Cleaning calendar and listings data for 2017-09-02----\n",
      "Listing-dates removed: 678170.0\n",
      "Unique listings removed: 1858.0\n",
      "                                                           \n"
     ]
    },
    {
     "name": "stderr",
     "output_type": "stream",
     "text": [
      "/home/natfern/anaconda3/lib/python3.8/site-packages/pandas/core/indexing.py:1597: SettingWithCopyWarning: \n",
      "A value is trying to be set on a copy of a slice from a DataFrame.\n",
      "Try using .loc[row_indexer,col_indexer] = value instead\n",
      "\n",
      "See the caveats in the documentation: https://pandas.pydata.org/pandas-docs/stable/user_guide/indexing.html#returning-a-view-versus-a-copy\n",
      "  self.obj[key] = value\n",
      "/home/natfern/anaconda3/lib/python3.8/site-packages/pandas/core/indexing.py:1676: SettingWithCopyWarning: \n",
      "A value is trying to be set on a copy of a slice from a DataFrame.\n",
      "Try using .loc[row_indexer,col_indexer] = value instead\n",
      "\n",
      "See the caveats in the documentation: https://pandas.pydata.org/pandas-docs/stable/user_guide/indexing.html#returning-a-view-versus-a-copy\n",
      "  self._setitem_single_column(ilocs[0], value, pi)\n"
     ]
    },
    {
     "name": "stdout",
     "output_type": "stream",
     "text": [
      "----Cleaning calendar and listings data for 2017-10-02----\n",
      "Listing-dates removed: 701895.0\n",
      "Unique listings removed: 1923.0\n",
      "                                                           \n"
     ]
    },
    {
     "name": "stderr",
     "output_type": "stream",
     "text": [
      "/home/natfern/anaconda3/lib/python3.8/site-packages/pandas/core/indexing.py:1597: SettingWithCopyWarning: \n",
      "A value is trying to be set on a copy of a slice from a DataFrame.\n",
      "Try using .loc[row_indexer,col_indexer] = value instead\n",
      "\n",
      "See the caveats in the documentation: https://pandas.pydata.org/pandas-docs/stable/user_guide/indexing.html#returning-a-view-versus-a-copy\n",
      "  self.obj[key] = value\n",
      "/home/natfern/anaconda3/lib/python3.8/site-packages/pandas/core/indexing.py:1676: SettingWithCopyWarning: \n",
      "A value is trying to be set on a copy of a slice from a DataFrame.\n",
      "Try using .loc[row_indexer,col_indexer] = value instead\n",
      "\n",
      "See the caveats in the documentation: https://pandas.pydata.org/pandas-docs/stable/user_guide/indexing.html#returning-a-view-versus-a-copy\n",
      "  self._setitem_single_column(ilocs[0], value, pi)\n"
     ]
    },
    {
     "name": "stdout",
     "output_type": "stream",
     "text": [
      "----Cleaning calendar and listings data for 2017-11-01----\n",
      "Listing-dates removed: 708830.0\n",
      "Unique listings removed: 1942.0\n",
      "                                                           \n"
     ]
    },
    {
     "name": "stderr",
     "output_type": "stream",
     "text": [
      "/home/natfern/anaconda3/lib/python3.8/site-packages/pandas/core/indexing.py:1597: SettingWithCopyWarning: \n",
      "A value is trying to be set on a copy of a slice from a DataFrame.\n",
      "Try using .loc[row_indexer,col_indexer] = value instead\n",
      "\n",
      "See the caveats in the documentation: https://pandas.pydata.org/pandas-docs/stable/user_guide/indexing.html#returning-a-view-versus-a-copy\n",
      "  self.obj[key] = value\n",
      "/home/natfern/anaconda3/lib/python3.8/site-packages/pandas/core/indexing.py:1676: SettingWithCopyWarning: \n",
      "A value is trying to be set on a copy of a slice from a DataFrame.\n",
      "Try using .loc[row_indexer,col_indexer] = value instead\n",
      "\n",
      "See the caveats in the documentation: https://pandas.pydata.org/pandas-docs/stable/user_guide/indexing.html#returning-a-view-versus-a-copy\n",
      "  self._setitem_single_column(ilocs[0], value, pi)\n"
     ]
    },
    {
     "name": "stdout",
     "output_type": "stream",
     "text": [
      "----Cleaning calendar and listings data for 2017-11-08----\n",
      "Listing-dates removed: 176660.0\n",
      "Unique listings removed: 484.0\n",
      "                                                           \n"
     ]
    },
    {
     "name": "stderr",
     "output_type": "stream",
     "text": [
      "/home/natfern/anaconda3/lib/python3.8/site-packages/pandas/core/indexing.py:1597: SettingWithCopyWarning: \n",
      "A value is trying to be set on a copy of a slice from a DataFrame.\n",
      "Try using .loc[row_indexer,col_indexer] = value instead\n",
      "\n",
      "See the caveats in the documentation: https://pandas.pydata.org/pandas-docs/stable/user_guide/indexing.html#returning-a-view-versus-a-copy\n",
      "  self.obj[key] = value\n",
      "/home/natfern/anaconda3/lib/python3.8/site-packages/pandas/core/indexing.py:1676: SettingWithCopyWarning: \n",
      "A value is trying to be set on a copy of a slice from a DataFrame.\n",
      "Try using .loc[row_indexer,col_indexer] = value instead\n",
      "\n",
      "See the caveats in the documentation: https://pandas.pydata.org/pandas-docs/stable/user_guide/indexing.html#returning-a-view-versus-a-copy\n",
      "  self._setitem_single_column(ilocs[0], value, pi)\n"
     ]
    },
    {
     "name": "stdout",
     "output_type": "stream",
     "text": [
      "----Cleaning calendar and listings data for 2017-12-02----\n",
      "Listing-dates removed: 191870.0\n",
      "Unique listings removed: 525.6712328767123\n",
      "                                                           \n"
     ]
    },
    {
     "name": "stderr",
     "output_type": "stream",
     "text": [
      "/home/natfern/anaconda3/lib/python3.8/site-packages/pandas/core/indexing.py:1597: SettingWithCopyWarning: \n",
      "A value is trying to be set on a copy of a slice from a DataFrame.\n",
      "Try using .loc[row_indexer,col_indexer] = value instead\n",
      "\n",
      "See the caveats in the documentation: https://pandas.pydata.org/pandas-docs/stable/user_guide/indexing.html#returning-a-view-versus-a-copy\n",
      "  self.obj[key] = value\n",
      "/home/natfern/anaconda3/lib/python3.8/site-packages/pandas/core/indexing.py:1676: SettingWithCopyWarning: \n",
      "A value is trying to be set on a copy of a slice from a DataFrame.\n",
      "Try using .loc[row_indexer,col_indexer] = value instead\n",
      "\n",
      "See the caveats in the documentation: https://pandas.pydata.org/pandas-docs/stable/user_guide/indexing.html#returning-a-view-versus-a-copy\n",
      "  self._setitem_single_column(ilocs[0], value, pi)\n"
     ]
    },
    {
     "name": "stdout",
     "output_type": "stream",
     "text": [
      "----Cleaning calendar and listings data for 2017-12-07----\n",
      "Listing-dates removed: 166116.0\n",
      "Unique listings removed: 455.1123287671233\n",
      "                                                           \n"
     ]
    },
    {
     "name": "stderr",
     "output_type": "stream",
     "text": [
      "/home/natfern/anaconda3/lib/python3.8/site-packages/pandas/core/indexing.py:1597: SettingWithCopyWarning: \n",
      "A value is trying to be set on a copy of a slice from a DataFrame.\n",
      "Try using .loc[row_indexer,col_indexer] = value instead\n",
      "\n",
      "See the caveats in the documentation: https://pandas.pydata.org/pandas-docs/stable/user_guide/indexing.html#returning-a-view-versus-a-copy\n",
      "  self.obj[key] = value\n",
      "/home/natfern/anaconda3/lib/python3.8/site-packages/pandas/core/indexing.py:1676: SettingWithCopyWarning: \n",
      "A value is trying to be set on a copy of a slice from a DataFrame.\n",
      "Try using .loc[row_indexer,col_indexer] = value instead\n",
      "\n",
      "See the caveats in the documentation: https://pandas.pydata.org/pandas-docs/stable/user_guide/indexing.html#returning-a-view-versus-a-copy\n",
      "  self._setitem_single_column(ilocs[0], value, pi)\n"
     ]
    },
    {
     "name": "stdout",
     "output_type": "stream",
     "text": [
      "----Cleaning calendar and listings data for 2018-01-10----\n",
      "Listing-dates removed: 187245.0\n",
      "Unique listings removed: 513.0\n",
      "                                                           \n"
     ]
    },
    {
     "name": "stderr",
     "output_type": "stream",
     "text": [
      "/home/natfern/anaconda3/lib/python3.8/site-packages/pandas/core/indexing.py:1597: SettingWithCopyWarning: \n",
      "A value is trying to be set on a copy of a slice from a DataFrame.\n",
      "Try using .loc[row_indexer,col_indexer] = value instead\n",
      "\n",
      "See the caveats in the documentation: https://pandas.pydata.org/pandas-docs/stable/user_guide/indexing.html#returning-a-view-versus-a-copy\n",
      "  self.obj[key] = value\n",
      "/home/natfern/anaconda3/lib/python3.8/site-packages/pandas/core/indexing.py:1676: SettingWithCopyWarning: \n",
      "A value is trying to be set on a copy of a slice from a DataFrame.\n",
      "Try using .loc[row_indexer,col_indexer] = value instead\n",
      "\n",
      "See the caveats in the documentation: https://pandas.pydata.org/pandas-docs/stable/user_guide/indexing.html#returning-a-view-versus-a-copy\n",
      "  self._setitem_single_column(ilocs[0], value, pi)\n"
     ]
    },
    {
     "name": "stdout",
     "output_type": "stream",
     "text": [
      "----Cleaning calendar and listings data for 2018-01-17----\n",
      "Listing-dates removed: 85045.0\n",
      "Unique listings removed: 233.0\n",
      "                                                           \n"
     ]
    },
    {
     "name": "stderr",
     "output_type": "stream",
     "text": [
      "/home/natfern/anaconda3/lib/python3.8/site-packages/pandas/core/indexing.py:1597: SettingWithCopyWarning: \n",
      "A value is trying to be set on a copy of a slice from a DataFrame.\n",
      "Try using .loc[row_indexer,col_indexer] = value instead\n",
      "\n",
      "See the caveats in the documentation: https://pandas.pydata.org/pandas-docs/stable/user_guide/indexing.html#returning-a-view-versus-a-copy\n",
      "  self.obj[key] = value\n",
      "/home/natfern/anaconda3/lib/python3.8/site-packages/pandas/core/indexing.py:1676: SettingWithCopyWarning: \n",
      "A value is trying to be set on a copy of a slice from a DataFrame.\n",
      "Try using .loc[row_indexer,col_indexer] = value instead\n",
      "\n",
      "See the caveats in the documentation: https://pandas.pydata.org/pandas-docs/stable/user_guide/indexing.html#returning-a-view-versus-a-copy\n",
      "  self._setitem_single_column(ilocs[0], value, pi)\n"
     ]
    },
    {
     "name": "stdout",
     "output_type": "stream",
     "text": [
      "----Cleaning calendar and listings data for 2018-02-02----\n",
      "Listing-dates removed: 35405.0\n",
      "Unique listings removed: 97.0\n",
      "                                                           \n"
     ]
    },
    {
     "name": "stderr",
     "output_type": "stream",
     "text": [
      "/home/natfern/anaconda3/lib/python3.8/site-packages/pandas/core/indexing.py:1597: SettingWithCopyWarning: \n",
      "A value is trying to be set on a copy of a slice from a DataFrame.\n",
      "Try using .loc[row_indexer,col_indexer] = value instead\n",
      "\n",
      "See the caveats in the documentation: https://pandas.pydata.org/pandas-docs/stable/user_guide/indexing.html#returning-a-view-versus-a-copy\n",
      "  self.obj[key] = value\n",
      "/home/natfern/anaconda3/lib/python3.8/site-packages/pandas/core/indexing.py:1676: SettingWithCopyWarning: \n",
      "A value is trying to be set on a copy of a slice from a DataFrame.\n",
      "Try using .loc[row_indexer,col_indexer] = value instead\n",
      "\n",
      "See the caveats in the documentation: https://pandas.pydata.org/pandas-docs/stable/user_guide/indexing.html#returning-a-view-versus-a-copy\n",
      "  self._setitem_single_column(ilocs[0], value, pi)\n"
     ]
    },
    {
     "name": "stdout",
     "output_type": "stream",
     "text": [
      "----Cleaning calendar and listings data for 2018-03-04----\n",
      "Listing-dates removed: 38076.0\n",
      "Unique listings removed: 104.31780821917808\n",
      "                                                           \n"
     ]
    },
    {
     "name": "stderr",
     "output_type": "stream",
     "text": [
      "/home/natfern/anaconda3/lib/python3.8/site-packages/pandas/core/indexing.py:1597: SettingWithCopyWarning: \n",
      "A value is trying to be set on a copy of a slice from a DataFrame.\n",
      "Try using .loc[row_indexer,col_indexer] = value instead\n",
      "\n",
      "See the caveats in the documentation: https://pandas.pydata.org/pandas-docs/stable/user_guide/indexing.html#returning-a-view-versus-a-copy\n",
      "  self.obj[key] = value\n",
      "/home/natfern/anaconda3/lib/python3.8/site-packages/pandas/core/indexing.py:1676: SettingWithCopyWarning: \n",
      "A value is trying to be set on a copy of a slice from a DataFrame.\n",
      "Try using .loc[row_indexer,col_indexer] = value instead\n",
      "\n",
      "See the caveats in the documentation: https://pandas.pydata.org/pandas-docs/stable/user_guide/indexing.html#returning-a-view-versus-a-copy\n",
      "  self._setitem_single_column(ilocs[0], value, pi)\n"
     ]
    },
    {
     "name": "stdout",
     "output_type": "stream",
     "text": [
      "----Cleaning calendar and listings data for 2018-04-06----\n",
      "Listing-dates removed: 41382.0\n",
      "Unique listings removed: 113.37534246575342\n",
      "                                                           \n"
     ]
    },
    {
     "name": "stderr",
     "output_type": "stream",
     "text": [
      "/home/natfern/anaconda3/lib/python3.8/site-packages/pandas/core/indexing.py:1597: SettingWithCopyWarning: \n",
      "A value is trying to be set on a copy of a slice from a DataFrame.\n",
      "Try using .loc[row_indexer,col_indexer] = value instead\n",
      "\n",
      "See the caveats in the documentation: https://pandas.pydata.org/pandas-docs/stable/user_guide/indexing.html#returning-a-view-versus-a-copy\n",
      "  self.obj[key] = value\n",
      "/home/natfern/anaconda3/lib/python3.8/site-packages/pandas/core/indexing.py:1676: SettingWithCopyWarning: \n",
      "A value is trying to be set on a copy of a slice from a DataFrame.\n",
      "Try using .loc[row_indexer,col_indexer] = value instead\n",
      "\n",
      "See the caveats in the documentation: https://pandas.pydata.org/pandas-docs/stable/user_guide/indexing.html#returning-a-view-versus-a-copy\n",
      "  self._setitem_single_column(ilocs[0], value, pi)\n"
     ]
    },
    {
     "name": "stdout",
     "output_type": "stream",
     "text": [
      "----Cleaning calendar and listings data for 2018-05-09----\n",
      "Listing-dates removed: 45260.0\n",
      "Unique listings removed: 124.0\n",
      "                                                           \n"
     ]
    },
    {
     "name": "stderr",
     "output_type": "stream",
     "text": [
      "/home/natfern/anaconda3/lib/python3.8/site-packages/pandas/core/indexing.py:1597: SettingWithCopyWarning: \n",
      "A value is trying to be set on a copy of a slice from a DataFrame.\n",
      "Try using .loc[row_indexer,col_indexer] = value instead\n",
      "\n",
      "See the caveats in the documentation: https://pandas.pydata.org/pandas-docs/stable/user_guide/indexing.html#returning-a-view-versus-a-copy\n",
      "  self.obj[key] = value\n",
      "/home/natfern/anaconda3/lib/python3.8/site-packages/pandas/core/indexing.py:1676: SettingWithCopyWarning: \n",
      "A value is trying to be set on a copy of a slice from a DataFrame.\n",
      "Try using .loc[row_indexer,col_indexer] = value instead\n",
      "\n",
      "See the caveats in the documentation: https://pandas.pydata.org/pandas-docs/stable/user_guide/indexing.html#returning-a-view-versus-a-copy\n",
      "  self._setitem_single_column(ilocs[0], value, pi)\n"
     ]
    },
    {
     "name": "stdout",
     "output_type": "stream",
     "text": [
      "----Cleaning calendar and listings data for 2018-07-05----\n",
      "Listing-dates removed: 49275.0\n",
      "Unique listings removed: 135.0\n",
      "                                                           \n"
     ]
    },
    {
     "name": "stderr",
     "output_type": "stream",
     "text": [
      "/home/natfern/anaconda3/lib/python3.8/site-packages/pandas/core/indexing.py:1597: SettingWithCopyWarning: \n",
      "A value is trying to be set on a copy of a slice from a DataFrame.\n",
      "Try using .loc[row_indexer,col_indexer] = value instead\n",
      "\n",
      "See the caveats in the documentation: https://pandas.pydata.org/pandas-docs/stable/user_guide/indexing.html#returning-a-view-versus-a-copy\n",
      "  self.obj[key] = value\n",
      "/home/natfern/anaconda3/lib/python3.8/site-packages/pandas/core/indexing.py:1676: SettingWithCopyWarning: \n",
      "A value is trying to be set on a copy of a slice from a DataFrame.\n",
      "Try using .loc[row_indexer,col_indexer] = value instead\n",
      "\n",
      "See the caveats in the documentation: https://pandas.pydata.org/pandas-docs/stable/user_guide/indexing.html#returning-a-view-versus-a-copy\n",
      "  self._setitem_single_column(ilocs[0], value, pi)\n"
     ]
    },
    {
     "name": "stdout",
     "output_type": "stream",
     "text": [
      "----Cleaning calendar and listings data for 2018-08-06----\n",
      "Listing-dates removed: 55845.0\n",
      "Unique listings removed: 153.0\n",
      "                                                           \n"
     ]
    },
    {
     "name": "stderr",
     "output_type": "stream",
     "text": [
      "/home/natfern/anaconda3/lib/python3.8/site-packages/pandas/core/indexing.py:1597: SettingWithCopyWarning: \n",
      "A value is trying to be set on a copy of a slice from a DataFrame.\n",
      "Try using .loc[row_indexer,col_indexer] = value instead\n",
      "\n",
      "See the caveats in the documentation: https://pandas.pydata.org/pandas-docs/stable/user_guide/indexing.html#returning-a-view-versus-a-copy\n",
      "  self.obj[key] = value\n",
      "/home/natfern/anaconda3/lib/python3.8/site-packages/pandas/core/indexing.py:1676: SettingWithCopyWarning: \n",
      "A value is trying to be set on a copy of a slice from a DataFrame.\n",
      "Try using .loc[row_indexer,col_indexer] = value instead\n",
      "\n",
      "See the caveats in the documentation: https://pandas.pydata.org/pandas-docs/stable/user_guide/indexing.html#returning-a-view-versus-a-copy\n",
      "  self._setitem_single_column(ilocs[0], value, pi)\n"
     ]
    },
    {
     "name": "stdout",
     "output_type": "stream",
     "text": [
      "----Cleaning calendar and listings data for 2018-09-08----\n",
      "Listing-dates removed: 62415.0\n",
      "Unique listings removed: 171.0\n",
      "                                                           \n"
     ]
    },
    {
     "name": "stderr",
     "output_type": "stream",
     "text": [
      "/home/natfern/anaconda3/lib/python3.8/site-packages/pandas/core/indexing.py:1597: SettingWithCopyWarning: \n",
      "A value is trying to be set on a copy of a slice from a DataFrame.\n",
      "Try using .loc[row_indexer,col_indexer] = value instead\n",
      "\n",
      "See the caveats in the documentation: https://pandas.pydata.org/pandas-docs/stable/user_guide/indexing.html#returning-a-view-versus-a-copy\n",
      "  self.obj[key] = value\n",
      "/home/natfern/anaconda3/lib/python3.8/site-packages/pandas/core/indexing.py:1676: SettingWithCopyWarning: \n",
      "A value is trying to be set on a copy of a slice from a DataFrame.\n",
      "Try using .loc[row_indexer,col_indexer] = value instead\n",
      "\n",
      "See the caveats in the documentation: https://pandas.pydata.org/pandas-docs/stable/user_guide/indexing.html#returning-a-view-versus-a-copy\n",
      "  self._setitem_single_column(ilocs[0], value, pi)\n"
     ]
    },
    {
     "name": "stdout",
     "output_type": "stream",
     "text": [
      "----Cleaning calendar and listings data for 2018-10-03----\n",
      "Listing-dates removed: 64605.0\n",
      "Unique listings removed: 177.0\n",
      "                                                           \n"
     ]
    },
    {
     "name": "stderr",
     "output_type": "stream",
     "text": [
      "/home/natfern/anaconda3/lib/python3.8/site-packages/pandas/core/indexing.py:1597: SettingWithCopyWarning: \n",
      "A value is trying to be set on a copy of a slice from a DataFrame.\n",
      "Try using .loc[row_indexer,col_indexer] = value instead\n",
      "\n",
      "See the caveats in the documentation: https://pandas.pydata.org/pandas-docs/stable/user_guide/indexing.html#returning-a-view-versus-a-copy\n",
      "  self.obj[key] = value\n",
      "/home/natfern/anaconda3/lib/python3.8/site-packages/pandas/core/indexing.py:1676: SettingWithCopyWarning: \n",
      "A value is trying to be set on a copy of a slice from a DataFrame.\n",
      "Try using .loc[row_indexer,col_indexer] = value instead\n",
      "\n",
      "See the caveats in the documentation: https://pandas.pydata.org/pandas-docs/stable/user_guide/indexing.html#returning-a-view-versus-a-copy\n",
      "  self._setitem_single_column(ilocs[0], value, pi)\n"
     ]
    },
    {
     "name": "stdout",
     "output_type": "stream",
     "text": [
      "----Cleaning calendar and listings data for 2018-11-03----\n",
      "Listing-dates removed: 67890.0\n",
      "Unique listings removed: 186.0\n",
      "                                                           \n"
     ]
    },
    {
     "name": "stderr",
     "output_type": "stream",
     "text": [
      "/home/natfern/anaconda3/lib/python3.8/site-packages/pandas/core/indexing.py:1597: SettingWithCopyWarning: \n",
      "A value is trying to be set on a copy of a slice from a DataFrame.\n",
      "Try using .loc[row_indexer,col_indexer] = value instead\n",
      "\n",
      "See the caveats in the documentation: https://pandas.pydata.org/pandas-docs/stable/user_guide/indexing.html#returning-a-view-versus-a-copy\n",
      "  self.obj[key] = value\n",
      "/home/natfern/anaconda3/lib/python3.8/site-packages/pandas/core/indexing.py:1676: SettingWithCopyWarning: \n",
      "A value is trying to be set on a copy of a slice from a DataFrame.\n",
      "Try using .loc[row_indexer,col_indexer] = value instead\n",
      "\n",
      "See the caveats in the documentation: https://pandas.pydata.org/pandas-docs/stable/user_guide/indexing.html#returning-a-view-versus-a-copy\n",
      "  self._setitem_single_column(ilocs[0], value, pi)\n"
     ]
    },
    {
     "name": "stdout",
     "output_type": "stream",
     "text": [
      "----Cleaning calendar and listings data for 2018-12-06----\n",
      "Listing-dates removed: 69350.0\n",
      "Unique listings removed: 190.0\n",
      "                                                           \n"
     ]
    },
    {
     "name": "stderr",
     "output_type": "stream",
     "text": [
      "/home/natfern/anaconda3/lib/python3.8/site-packages/pandas/core/indexing.py:1597: SettingWithCopyWarning: \n",
      "A value is trying to be set on a copy of a slice from a DataFrame.\n",
      "Try using .loc[row_indexer,col_indexer] = value instead\n",
      "\n",
      "See the caveats in the documentation: https://pandas.pydata.org/pandas-docs/stable/user_guide/indexing.html#returning-a-view-versus-a-copy\n",
      "  self.obj[key] = value\n",
      "/home/natfern/anaconda3/lib/python3.8/site-packages/pandas/core/indexing.py:1676: SettingWithCopyWarning: \n",
      "A value is trying to be set on a copy of a slice from a DataFrame.\n",
      "Try using .loc[row_indexer,col_indexer] = value instead\n",
      "\n",
      "See the caveats in the documentation: https://pandas.pydata.org/pandas-docs/stable/user_guide/indexing.html#returning-a-view-versus-a-copy\n",
      "  self._setitem_single_column(ilocs[0], value, pi)\n"
     ]
    },
    {
     "name": "stdout",
     "output_type": "stream",
     "text": [
      "----Cleaning calendar and listings data for 2019-01-09----\n",
      "Listing-dates removed: 78840.0\n",
      "Unique listings removed: 216.0\n",
      "                                                           \n"
     ]
    },
    {
     "name": "stderr",
     "output_type": "stream",
     "text": [
      "/home/natfern/anaconda3/lib/python3.8/site-packages/pandas/core/indexing.py:1597: SettingWithCopyWarning: \n",
      "A value is trying to be set on a copy of a slice from a DataFrame.\n",
      "Try using .loc[row_indexer,col_indexer] = value instead\n",
      "\n",
      "See the caveats in the documentation: https://pandas.pydata.org/pandas-docs/stable/user_guide/indexing.html#returning-a-view-versus-a-copy\n",
      "  self.obj[key] = value\n",
      "/home/natfern/anaconda3/lib/python3.8/site-packages/pandas/core/indexing.py:1676: SettingWithCopyWarning: \n",
      "A value is trying to be set on a copy of a slice from a DataFrame.\n",
      "Try using .loc[row_indexer,col_indexer] = value instead\n",
      "\n",
      "See the caveats in the documentation: https://pandas.pydata.org/pandas-docs/stable/user_guide/indexing.html#returning-a-view-versus-a-copy\n",
      "  self._setitem_single_column(ilocs[0], value, pi)\n"
     ]
    },
    {
     "name": "stdout",
     "output_type": "stream",
     "text": [
      "----Cleaning calendar and listings data for 2019-02-01----\n",
      "Listing-dates removed: 85410.0\n",
      "Unique listings removed: 234.0\n",
      "                                                           \n"
     ]
    },
    {
     "name": "stderr",
     "output_type": "stream",
     "text": [
      "/home/natfern/anaconda3/lib/python3.8/site-packages/pandas/core/indexing.py:1597: SettingWithCopyWarning: \n",
      "A value is trying to be set on a copy of a slice from a DataFrame.\n",
      "Try using .loc[row_indexer,col_indexer] = value instead\n",
      "\n",
      "See the caveats in the documentation: https://pandas.pydata.org/pandas-docs/stable/user_guide/indexing.html#returning-a-view-versus-a-copy\n",
      "  self.obj[key] = value\n",
      "/home/natfern/anaconda3/lib/python3.8/site-packages/pandas/core/indexing.py:1676: SettingWithCopyWarning: \n",
      "A value is trying to be set on a copy of a slice from a DataFrame.\n",
      "Try using .loc[row_indexer,col_indexer] = value instead\n",
      "\n",
      "See the caveats in the documentation: https://pandas.pydata.org/pandas-docs/stable/user_guide/indexing.html#returning-a-view-versus-a-copy\n",
      "  self._setitem_single_column(ilocs[0], value, pi)\n"
     ]
    },
    {
     "name": "stdout",
     "output_type": "stream",
     "text": [
      "----Cleaning calendar and listings data for 2019-03-06----\n",
      "Listing-dates removed: 89060.0\n",
      "Unique listings removed: 244.0\n",
      "                                                           \n"
     ]
    },
    {
     "name": "stderr",
     "output_type": "stream",
     "text": [
      "/home/natfern/anaconda3/lib/python3.8/site-packages/pandas/core/indexing.py:1597: SettingWithCopyWarning: \n",
      "A value is trying to be set on a copy of a slice from a DataFrame.\n",
      "Try using .loc[row_indexer,col_indexer] = value instead\n",
      "\n",
      "See the caveats in the documentation: https://pandas.pydata.org/pandas-docs/stable/user_guide/indexing.html#returning-a-view-versus-a-copy\n",
      "  self.obj[key] = value\n",
      "/home/natfern/anaconda3/lib/python3.8/site-packages/pandas/core/indexing.py:1676: SettingWithCopyWarning: \n",
      "A value is trying to be set on a copy of a slice from a DataFrame.\n",
      "Try using .loc[row_indexer,col_indexer] = value instead\n",
      "\n",
      "See the caveats in the documentation: https://pandas.pydata.org/pandas-docs/stable/user_guide/indexing.html#returning-a-view-versus-a-copy\n",
      "  self._setitem_single_column(ilocs[0], value, pi)\n"
     ]
    },
    {
     "name": "stdout",
     "output_type": "stream",
     "text": [
      "----Cleaning calendar and listings data for 2019-04-03----\n",
      "Listing-dates removed: 86031.0\n",
      "Unique listings removed: 235.7013698630137\n",
      "                                                           \n"
     ]
    },
    {
     "name": "stderr",
     "output_type": "stream",
     "text": [
      "/home/natfern/anaconda3/lib/python3.8/site-packages/pandas/core/indexing.py:1597: SettingWithCopyWarning: \n",
      "A value is trying to be set on a copy of a slice from a DataFrame.\n",
      "Try using .loc[row_indexer,col_indexer] = value instead\n",
      "\n",
      "See the caveats in the documentation: https://pandas.pydata.org/pandas-docs/stable/user_guide/indexing.html#returning-a-view-versus-a-copy\n",
      "  self.obj[key] = value\n",
      "/home/natfern/anaconda3/lib/python3.8/site-packages/pandas/core/indexing.py:1676: SettingWithCopyWarning: \n",
      "A value is trying to be set on a copy of a slice from a DataFrame.\n",
      "Try using .loc[row_indexer,col_indexer] = value instead\n",
      "\n",
      "See the caveats in the documentation: https://pandas.pydata.org/pandas-docs/stable/user_guide/indexing.html#returning-a-view-versus-a-copy\n",
      "  self._setitem_single_column(ilocs[0], value, pi)\n"
     ]
    },
    {
     "name": "stdout",
     "output_type": "stream",
     "text": [
      "----Cleaning calendar and listings data for 2019-05-03----\n",
      "Listing-dates removed: 93440.0\n",
      "Unique listings removed: 256.0\n",
      "                                                           \n"
     ]
    },
    {
     "name": "stderr",
     "output_type": "stream",
     "text": [
      "/home/natfern/anaconda3/lib/python3.8/site-packages/pandas/core/indexing.py:1597: SettingWithCopyWarning: \n",
      "A value is trying to be set on a copy of a slice from a DataFrame.\n",
      "Try using .loc[row_indexer,col_indexer] = value instead\n",
      "\n",
      "See the caveats in the documentation: https://pandas.pydata.org/pandas-docs/stable/user_guide/indexing.html#returning-a-view-versus-a-copy\n",
      "  self.obj[key] = value\n",
      "/home/natfern/anaconda3/lib/python3.8/site-packages/pandas/core/indexing.py:1676: SettingWithCopyWarning: \n",
      "A value is trying to be set on a copy of a slice from a DataFrame.\n",
      "Try using .loc[row_indexer,col_indexer] = value instead\n",
      "\n",
      "See the caveats in the documentation: https://pandas.pydata.org/pandas-docs/stable/user_guide/indexing.html#returning-a-view-versus-a-copy\n",
      "  self._setitem_single_column(ilocs[0], value, pi)\n"
     ]
    },
    {
     "name": "stdout",
     "output_type": "stream",
     "text": [
      "----Cleaning calendar and listings data for 2019-06-02----\n",
      "Listing-dates removed: 93805.0\n",
      "Unique listings removed: 257.0\n",
      "                                                           \n"
     ]
    },
    {
     "name": "stderr",
     "output_type": "stream",
     "text": [
      "/home/natfern/anaconda3/lib/python3.8/site-packages/pandas/core/indexing.py:1597: SettingWithCopyWarning: \n",
      "A value is trying to be set on a copy of a slice from a DataFrame.\n",
      "Try using .loc[row_indexer,col_indexer] = value instead\n",
      "\n",
      "See the caveats in the documentation: https://pandas.pydata.org/pandas-docs/stable/user_guide/indexing.html#returning-a-view-versus-a-copy\n",
      "  self.obj[key] = value\n",
      "/home/natfern/anaconda3/lib/python3.8/site-packages/pandas/core/indexing.py:1676: SettingWithCopyWarning: \n",
      "A value is trying to be set on a copy of a slice from a DataFrame.\n",
      "Try using .loc[row_indexer,col_indexer] = value instead\n",
      "\n",
      "See the caveats in the documentation: https://pandas.pydata.org/pandas-docs/stable/user_guide/indexing.html#returning-a-view-versus-a-copy\n",
      "  self._setitem_single_column(ilocs[0], value, pi)\n"
     ]
    },
    {
     "name": "stdout",
     "output_type": "stream",
     "text": [
      "----Cleaning calendar and listings data for 2019-07-08----\n",
      "Listing-dates removed: 102565.0\n",
      "Unique listings removed: 281.0\n",
      "                                                           \n"
     ]
    },
    {
     "name": "stderr",
     "output_type": "stream",
     "text": [
      "/home/natfern/anaconda3/lib/python3.8/site-packages/pandas/core/indexing.py:1597: SettingWithCopyWarning: \n",
      "A value is trying to be set on a copy of a slice from a DataFrame.\n",
      "Try using .loc[row_indexer,col_indexer] = value instead\n",
      "\n",
      "See the caveats in the documentation: https://pandas.pydata.org/pandas-docs/stable/user_guide/indexing.html#returning-a-view-versus-a-copy\n",
      "  self.obj[key] = value\n",
      "/home/natfern/anaconda3/lib/python3.8/site-packages/pandas/core/indexing.py:1676: SettingWithCopyWarning: \n",
      "A value is trying to be set on a copy of a slice from a DataFrame.\n",
      "Try using .loc[row_indexer,col_indexer] = value instead\n",
      "\n",
      "See the caveats in the documentation: https://pandas.pydata.org/pandas-docs/stable/user_guide/indexing.html#returning-a-view-versus-a-copy\n",
      "  self._setitem_single_column(ilocs[0], value, pi)\n"
     ]
    },
    {
     "name": "stdout",
     "output_type": "stream",
     "text": [
      "----Cleaning calendar and listings data for 2019-08-06----\n",
      "Listing-dates removed: 103092.0\n",
      "Unique listings removed: 282.4438356164384\n",
      "                                                           \n"
     ]
    },
    {
     "name": "stderr",
     "output_type": "stream",
     "text": [
      "/home/natfern/anaconda3/lib/python3.8/site-packages/pandas/core/indexing.py:1597: SettingWithCopyWarning: \n",
      "A value is trying to be set on a copy of a slice from a DataFrame.\n",
      "Try using .loc[row_indexer,col_indexer] = value instead\n",
      "\n",
      "See the caveats in the documentation: https://pandas.pydata.org/pandas-docs/stable/user_guide/indexing.html#returning-a-view-versus-a-copy\n",
      "  self.obj[key] = value\n",
      "/home/natfern/anaconda3/lib/python3.8/site-packages/pandas/core/indexing.py:1676: SettingWithCopyWarning: \n",
      "A value is trying to be set on a copy of a slice from a DataFrame.\n",
      "Try using .loc[row_indexer,col_indexer] = value instead\n",
      "\n",
      "See the caveats in the documentation: https://pandas.pydata.org/pandas-docs/stable/user_guide/indexing.html#returning-a-view-versus-a-copy\n",
      "  self._setitem_single_column(ilocs[0], value, pi)\n"
     ]
    },
    {
     "name": "stdout",
     "output_type": "stream",
     "text": [
      "----Cleaning calendar and listings data for 2019-09-12----\n",
      "Listing-dates removed: 116435.0\n",
      "Unique listings removed: 319.0\n",
      "                                                           \n"
     ]
    },
    {
     "name": "stderr",
     "output_type": "stream",
     "text": [
      "/home/natfern/anaconda3/lib/python3.8/site-packages/pandas/core/indexing.py:1597: SettingWithCopyWarning: \n",
      "A value is trying to be set on a copy of a slice from a DataFrame.\n",
      "Try using .loc[row_indexer,col_indexer] = value instead\n",
      "\n",
      "See the caveats in the documentation: https://pandas.pydata.org/pandas-docs/stable/user_guide/indexing.html#returning-a-view-versus-a-copy\n",
      "  self.obj[key] = value\n",
      "/home/natfern/anaconda3/lib/python3.8/site-packages/pandas/core/indexing.py:1676: SettingWithCopyWarning: \n",
      "A value is trying to be set on a copy of a slice from a DataFrame.\n",
      "Try using .loc[row_indexer,col_indexer] = value instead\n",
      "\n",
      "See the caveats in the documentation: https://pandas.pydata.org/pandas-docs/stable/user_guide/indexing.html#returning-a-view-versus-a-copy\n",
      "  self._setitem_single_column(ilocs[0], value, pi)\n"
     ]
    },
    {
     "name": "stdout",
     "output_type": "stream",
     "text": [
      "----Cleaning calendar and listings data for 2019-10-14----\n",
      "Listing-dates removed: 115340.0\n",
      "Unique listings removed: 316.0\n",
      "                                                           \n"
     ]
    },
    {
     "name": "stderr",
     "output_type": "stream",
     "text": [
      "/home/natfern/anaconda3/lib/python3.8/site-packages/pandas/core/indexing.py:1597: SettingWithCopyWarning: \n",
      "A value is trying to be set on a copy of a slice from a DataFrame.\n",
      "Try using .loc[row_indexer,col_indexer] = value instead\n",
      "\n",
      "See the caveats in the documentation: https://pandas.pydata.org/pandas-docs/stable/user_guide/indexing.html#returning-a-view-versus-a-copy\n",
      "  self.obj[key] = value\n",
      "/home/natfern/anaconda3/lib/python3.8/site-packages/pandas/core/indexing.py:1676: SettingWithCopyWarning: \n",
      "A value is trying to be set on a copy of a slice from a DataFrame.\n",
      "Try using .loc[row_indexer,col_indexer] = value instead\n",
      "\n",
      "See the caveats in the documentation: https://pandas.pydata.org/pandas-docs/stable/user_guide/indexing.html#returning-a-view-versus-a-copy\n",
      "  self._setitem_single_column(ilocs[0], value, pi)\n"
     ]
    },
    {
     "name": "stdout",
     "output_type": "stream",
     "text": [
      "----Cleaning calendar and listings data for 2019-11-01----\n",
      "Listing-dates removed: 115434.0\n",
      "Unique listings removed: 316.25753424657535\n",
      "                                                           \n"
     ]
    }
   ],
   "source": [
    "#This section creates a list of calendar and listing frames for each date range.\n",
    "my_cals =[]\n",
    "my_lists=[]\n",
    "for i in range (0,len(init_dates_2)-1):\n",
    "    if (adjustment_layer[i]!=0):\n",
    "        cal, listing = complex_extract_cal_list(str(arr_dates[i]), str(arr_dates[i] + adjustment_layer[i]), str(arr_dates[i] + 365 - (adjustment_layer[i]-1)))    \n",
    "        my_cals.append(cal)\n",
    "        my_lists.append(listing)\n",
    "    else:\n",
    "        cal, listing = complex_extract_cal_list(str(arr_dates[i]), str(arr_dates[i] + adjustment_layer[i]), str(arr_dates[i] + \\\n",
    "        (364)))\n",
    "        my_cals.append(cal)\n",
    "        my_lists.append(listing)\n",
    "                                                \n",
    "    "
   ]
  },
  {
   "cell_type": "markdown",
   "metadata": {},
   "source": [
    "# More Pythonic version"
   ]
  },
  {
   "cell_type": "code",
   "execution_count": 12,
   "metadata": {},
   "outputs": [],
   "source": [
    "listings_df = listings_df[(listings_df['scrape_batch'] >= str(arr_dates[0])) & (listings_df['scrape_batch'] <= str(arr_dates[-1]))]"
   ]
  },
  {
   "cell_type": "code",
   "execution_count": 13,
   "metadata": {},
   "outputs": [],
   "source": [
    "# Focus on ids that have been kept after our listings data cleaning process (listings_df)\n",
    "\n",
    "ids = []\n",
    "unq_dates = []\n",
    "\n",
    "for cal in my_cals:\n",
    "    ids.append(cal['id'].unique())\n",
    "    unq_dates.append(cal['date'].unique())\n",
    "\n",
    "all_ids = np.sort(np.unique(np.concatenate(ids)))    \n",
    "all_dates = np.sort(np.unique(np.concatenate(unq_dates)))\n",
    "\n",
    "# Now see if the data cleaning dropped any of the selected listings:\n",
    "mask = np.isin(all_ids, listings_df['id'].unique())\n",
    "all_ids = all_ids[mask] # I make sure the ID is in the listings dataframe"
   ]
  },
  {
   "cell_type": "code",
   "execution_count": 14,
   "metadata": {},
   "outputs": [],
   "source": [
    "# Make an array of all ids and all dates\n",
    "unique_ids = all_ids[:100]# Final run should not have a restriction\n",
    "unique_dates = all_dates # Here I set the limit on my dates. (Original 0 :688)\n",
    "\n",
    "# Save the number of ids and dates\n",
    "\n",
    "N_IDS = len(unique_ids) # I am using all the listing ids that I can right now.\n",
    "N_DATES = len(unique_dates) # I am using only dates up to the end of FEB 2020"
   ]
  },
  {
   "cell_type": "code",
   "execution_count": 15,
   "metadata": {},
   "outputs": [],
   "source": [
    "# Seems fast enough \n",
    "\n",
    "key_list = []\n",
    "\n",
    "for an_id in unique_ids:\n",
    "        for a_date in unique_dates:\n",
    "            key_list.append(an_id.astype(str) + \":\" + a_date)\n"
   ]
  },
  {
   "cell_type": "code",
   "execution_count": 16,
   "metadata": {},
   "outputs": [],
   "source": [
    "key_df = pd.DataFrame(key_list, columns=['key'])"
   ]
  },
  {
   "cell_type": "code",
   "execution_count": 17,
   "metadata": {},
   "outputs": [],
   "source": [
    "def cal_file(df):\n",
    "    return df[(df['date'].isin(unique_dates)) & \n",
    "              (df['id'].isin(unique_ids))].sort_values(by=['id','date']).reset_index(drop = True)"
   ]
  },
  {
   "cell_type": "markdown",
   "metadata": {},
   "source": [
    "_______________________"
   ]
  },
  {
   "cell_type": "code",
   "execution_count": 18,
   "metadata": {},
   "outputs": [],
   "source": [
    "############CHUNKING START HERE"
   ]
  },
  {
   "cell_type": "code",
   "execution_count": 19,
   "metadata": {},
   "outputs": [],
   "source": [
    "# This part is a little bit too manual, this code can be made a lot better! \n",
    "\n",
    "calendar_scrapes = []\n",
    "\n",
    "for my_cal in my_cals:\n",
    "    calendar_scrapes.append(cal_file(my_cal))\n",
    "\n",
    "N_CALS = len(calendar_scrapes)"
   ]
  },
  {
   "cell_type": "code",
   "execution_count": 20,
   "metadata": {},
   "outputs": [],
   "source": [
    "i = 1\n",
    "for cal_files in calendar_scrapes:\n",
    "    cal_files.loc[:, 'key'] = cal_files['id'].astype(str).str.strip() + \":\" + cal_files['date'].str.strip()\n",
    "    cal_files.columns = ['id' + str(i), 'date' + str(i), 'avail' + str(i), 'night_price' + str(i),\n",
    "                        'key']   \n",
    "    i+=1"
   ]
  },
  {
   "cell_type": "markdown",
   "metadata": {},
   "source": [
    "## Create a dataframe with all availabilities and prices for every listing and night across scrapes\n",
    "\n",
    "* This dataframe is then broken up into separate availability and price matrices\n",
    "* If separately extracting availabilities and prices would be much faster to run, it might be worth writing alternative code"
   ]
  },
  {
   "cell_type": "markdown",
   "metadata": {},
   "source": [
    "# When unrestricted kernel will die below."
   ]
  },
  {
   "cell_type": "code",
   "execution_count": 21,
   "metadata": {},
   "outputs": [],
   "source": [
    "# The merges here starts getting a little bit slow. This is the slowest part of this code when we are using a large\n",
    "# number of ids and dates\n",
    "\n",
    "\n",
    "\n",
    "### chunks should be made here NOT EARLIER!!!!!!!!!!!!!!!!!!!!\n",
    "cal_dfs = [key_df]\n",
    "\n",
    "for i in range(N_CALS):\n",
    "    count = i + 1 \n",
    "    cal_dfs.append(calendar_scrapes[i][[('avail' + str(count)), 'key', ('night_price' + str(count))]])\n",
    "    \n",
    "\n",
    "df_merged = reduce(lambda  left,right: pd.merge(left,right,on=['key'],\n",
    "                                            how='outer'), cal_dfs).fillna(np.nan) \n",
    "\n",
    "df_merged.loc[:, \"id\"], df_merged.loc[:, \"date\"] = (df_merged['key'].str.split(\":\", expand=True)[0].astype(int),\n",
    "                                              df_merged['key'].str.split(\":\", expand=True)[1])\n",
    "df_merged = df_merged.drop(columns=['key'])\n",
    "\n",
    "\n",
    "# df_merged has been double checked and looks good\n",
    "df_merged = df_merged.drop_duplicates()"
   ]
  },
  {
   "cell_type": "code",
   "execution_count": 22,
   "metadata": {},
   "outputs": [
    {
     "data": {
      "text/html": [
       "<div>\n",
       "<style scoped>\n",
       "    .dataframe tbody tr th:only-of-type {\n",
       "        vertical-align: middle;\n",
       "    }\n",
       "\n",
       "    .dataframe tbody tr th {\n",
       "        vertical-align: top;\n",
       "    }\n",
       "\n",
       "    .dataframe thead th {\n",
       "        text-align: right;\n",
       "    }\n",
       "</style>\n",
       "<table border=\"1\" class=\"dataframe\">\n",
       "  <thead>\n",
       "    <tr style=\"text-align: right;\">\n",
       "      <th></th>\n",
       "      <th>avail1</th>\n",
       "      <th>night_price1</th>\n",
       "      <th>avail2</th>\n",
       "      <th>night_price2</th>\n",
       "      <th>avail3</th>\n",
       "      <th>night_price3</th>\n",
       "      <th>avail4</th>\n",
       "      <th>night_price4</th>\n",
       "      <th>avail5</th>\n",
       "      <th>night_price5</th>\n",
       "      <th>...</th>\n",
       "      <th>avail47</th>\n",
       "      <th>night_price47</th>\n",
       "      <th>avail48</th>\n",
       "      <th>night_price48</th>\n",
       "      <th>avail49</th>\n",
       "      <th>night_price49</th>\n",
       "      <th>avail50</th>\n",
       "      <th>night_price50</th>\n",
       "      <th>id</th>\n",
       "      <th>date</th>\n",
       "    </tr>\n",
       "  </thead>\n",
       "  <tbody>\n",
       "    <tr>\n",
       "      <th>0</th>\n",
       "      <td>f</td>\n",
       "      <td>NaN</td>\n",
       "      <td>NaN</td>\n",
       "      <td>NaN</td>\n",
       "      <td>NaN</td>\n",
       "      <td>NaN</td>\n",
       "      <td>NaN</td>\n",
       "      <td>NaN</td>\n",
       "      <td>NaN</td>\n",
       "      <td>NaN</td>\n",
       "      <td>...</td>\n",
       "      <td>NaN</td>\n",
       "      <td>NaN</td>\n",
       "      <td>NaN</td>\n",
       "      <td>NaN</td>\n",
       "      <td>NaN</td>\n",
       "      <td>NaN</td>\n",
       "      <td>NaN</td>\n",
       "      <td>NaN</td>\n",
       "      <td>958</td>\n",
       "      <td>2015-09-02</td>\n",
       "    </tr>\n",
       "    <tr>\n",
       "      <th>1</th>\n",
       "      <td>f</td>\n",
       "      <td>NaN</td>\n",
       "      <td>NaN</td>\n",
       "      <td>NaN</td>\n",
       "      <td>NaN</td>\n",
       "      <td>NaN</td>\n",
       "      <td>NaN</td>\n",
       "      <td>NaN</td>\n",
       "      <td>NaN</td>\n",
       "      <td>NaN</td>\n",
       "      <td>...</td>\n",
       "      <td>NaN</td>\n",
       "      <td>NaN</td>\n",
       "      <td>NaN</td>\n",
       "      <td>NaN</td>\n",
       "      <td>NaN</td>\n",
       "      <td>NaN</td>\n",
       "      <td>NaN</td>\n",
       "      <td>NaN</td>\n",
       "      <td>958</td>\n",
       "      <td>2015-09-03</td>\n",
       "    </tr>\n",
       "    <tr>\n",
       "      <th>2</th>\n",
       "      <td>f</td>\n",
       "      <td>NaN</td>\n",
       "      <td>NaN</td>\n",
       "      <td>NaN</td>\n",
       "      <td>NaN</td>\n",
       "      <td>NaN</td>\n",
       "      <td>NaN</td>\n",
       "      <td>NaN</td>\n",
       "      <td>NaN</td>\n",
       "      <td>NaN</td>\n",
       "      <td>...</td>\n",
       "      <td>NaN</td>\n",
       "      <td>NaN</td>\n",
       "      <td>NaN</td>\n",
       "      <td>NaN</td>\n",
       "      <td>NaN</td>\n",
       "      <td>NaN</td>\n",
       "      <td>NaN</td>\n",
       "      <td>NaN</td>\n",
       "      <td>958</td>\n",
       "      <td>2015-09-04</td>\n",
       "    </tr>\n",
       "    <tr>\n",
       "      <th>3</th>\n",
       "      <td>f</td>\n",
       "      <td>NaN</td>\n",
       "      <td>NaN</td>\n",
       "      <td>NaN</td>\n",
       "      <td>NaN</td>\n",
       "      <td>NaN</td>\n",
       "      <td>NaN</td>\n",
       "      <td>NaN</td>\n",
       "      <td>NaN</td>\n",
       "      <td>NaN</td>\n",
       "      <td>...</td>\n",
       "      <td>NaN</td>\n",
       "      <td>NaN</td>\n",
       "      <td>NaN</td>\n",
       "      <td>NaN</td>\n",
       "      <td>NaN</td>\n",
       "      <td>NaN</td>\n",
       "      <td>NaN</td>\n",
       "      <td>NaN</td>\n",
       "      <td>958</td>\n",
       "      <td>2015-09-05</td>\n",
       "    </tr>\n",
       "    <tr>\n",
       "      <th>4</th>\n",
       "      <td>f</td>\n",
       "      <td>NaN</td>\n",
       "      <td>NaN</td>\n",
       "      <td>NaN</td>\n",
       "      <td>NaN</td>\n",
       "      <td>NaN</td>\n",
       "      <td>NaN</td>\n",
       "      <td>NaN</td>\n",
       "      <td>NaN</td>\n",
       "      <td>NaN</td>\n",
       "      <td>...</td>\n",
       "      <td>NaN</td>\n",
       "      <td>NaN</td>\n",
       "      <td>NaN</td>\n",
       "      <td>NaN</td>\n",
       "      <td>NaN</td>\n",
       "      <td>NaN</td>\n",
       "      <td>NaN</td>\n",
       "      <td>NaN</td>\n",
       "      <td>958</td>\n",
       "      <td>2015-09-06</td>\n",
       "    </tr>\n",
       "    <tr>\n",
       "      <th>...</th>\n",
       "      <td>...</td>\n",
       "      <td>...</td>\n",
       "      <td>...</td>\n",
       "      <td>...</td>\n",
       "      <td>...</td>\n",
       "      <td>...</td>\n",
       "      <td>...</td>\n",
       "      <td>...</td>\n",
       "      <td>...</td>\n",
       "      <td>...</td>\n",
       "      <td>...</td>\n",
       "      <td>...</td>\n",
       "      <td>...</td>\n",
       "      <td>...</td>\n",
       "      <td>...</td>\n",
       "      <td>...</td>\n",
       "      <td>...</td>\n",
       "      <td>...</td>\n",
       "      <td>...</td>\n",
       "      <td>...</td>\n",
       "      <td>...</td>\n",
       "    </tr>\n",
       "    <tr>\n",
       "      <th>495</th>\n",
       "      <td>NaN</td>\n",
       "      <td>NaN</td>\n",
       "      <td>NaN</td>\n",
       "      <td>NaN</td>\n",
       "      <td>NaN</td>\n",
       "      <td>NaN</td>\n",
       "      <td>t</td>\n",
       "      <td>170.0</td>\n",
       "      <td>t</td>\n",
       "      <td>170.0</td>\n",
       "      <td>...</td>\n",
       "      <td>NaN</td>\n",
       "      <td>NaN</td>\n",
       "      <td>NaN</td>\n",
       "      <td>NaN</td>\n",
       "      <td>NaN</td>\n",
       "      <td>NaN</td>\n",
       "      <td>NaN</td>\n",
       "      <td>NaN</td>\n",
       "      <td>958</td>\n",
       "      <td>2017-01-09</td>\n",
       "    </tr>\n",
       "    <tr>\n",
       "      <th>496</th>\n",
       "      <td>NaN</td>\n",
       "      <td>NaN</td>\n",
       "      <td>NaN</td>\n",
       "      <td>NaN</td>\n",
       "      <td>NaN</td>\n",
       "      <td>NaN</td>\n",
       "      <td>t</td>\n",
       "      <td>170.0</td>\n",
       "      <td>t</td>\n",
       "      <td>170.0</td>\n",
       "      <td>...</td>\n",
       "      <td>NaN</td>\n",
       "      <td>NaN</td>\n",
       "      <td>NaN</td>\n",
       "      <td>NaN</td>\n",
       "      <td>NaN</td>\n",
       "      <td>NaN</td>\n",
       "      <td>NaN</td>\n",
       "      <td>NaN</td>\n",
       "      <td>958</td>\n",
       "      <td>2017-01-10</td>\n",
       "    </tr>\n",
       "    <tr>\n",
       "      <th>497</th>\n",
       "      <td>NaN</td>\n",
       "      <td>NaN</td>\n",
       "      <td>NaN</td>\n",
       "      <td>NaN</td>\n",
       "      <td>NaN</td>\n",
       "      <td>NaN</td>\n",
       "      <td>t</td>\n",
       "      <td>170.0</td>\n",
       "      <td>t</td>\n",
       "      <td>170.0</td>\n",
       "      <td>...</td>\n",
       "      <td>NaN</td>\n",
       "      <td>NaN</td>\n",
       "      <td>NaN</td>\n",
       "      <td>NaN</td>\n",
       "      <td>NaN</td>\n",
       "      <td>NaN</td>\n",
       "      <td>NaN</td>\n",
       "      <td>NaN</td>\n",
       "      <td>958</td>\n",
       "      <td>2017-01-11</td>\n",
       "    </tr>\n",
       "    <tr>\n",
       "      <th>498</th>\n",
       "      <td>NaN</td>\n",
       "      <td>NaN</td>\n",
       "      <td>NaN</td>\n",
       "      <td>NaN</td>\n",
       "      <td>NaN</td>\n",
       "      <td>NaN</td>\n",
       "      <td>t</td>\n",
       "      <td>170.0</td>\n",
       "      <td>t</td>\n",
       "      <td>170.0</td>\n",
       "      <td>...</td>\n",
       "      <td>NaN</td>\n",
       "      <td>NaN</td>\n",
       "      <td>NaN</td>\n",
       "      <td>NaN</td>\n",
       "      <td>NaN</td>\n",
       "      <td>NaN</td>\n",
       "      <td>NaN</td>\n",
       "      <td>NaN</td>\n",
       "      <td>958</td>\n",
       "      <td>2017-01-12</td>\n",
       "    </tr>\n",
       "    <tr>\n",
       "      <th>499</th>\n",
       "      <td>NaN</td>\n",
       "      <td>NaN</td>\n",
       "      <td>NaN</td>\n",
       "      <td>NaN</td>\n",
       "      <td>NaN</td>\n",
       "      <td>NaN</td>\n",
       "      <td>t</td>\n",
       "      <td>176.0</td>\n",
       "      <td>t</td>\n",
       "      <td>176.0</td>\n",
       "      <td>...</td>\n",
       "      <td>NaN</td>\n",
       "      <td>NaN</td>\n",
       "      <td>NaN</td>\n",
       "      <td>NaN</td>\n",
       "      <td>NaN</td>\n",
       "      <td>NaN</td>\n",
       "      <td>NaN</td>\n",
       "      <td>NaN</td>\n",
       "      <td>958</td>\n",
       "      <td>2017-01-13</td>\n",
       "    </tr>\n",
       "  </tbody>\n",
       "</table>\n",
       "<p>500 rows × 102 columns</p>\n",
       "</div>"
      ],
      "text/plain": [
       "    avail1  night_price1 avail2  night_price2 avail3  night_price3 avail4  \\\n",
       "0        f           NaN    NaN           NaN    NaN           NaN    NaN   \n",
       "1        f           NaN    NaN           NaN    NaN           NaN    NaN   \n",
       "2        f           NaN    NaN           NaN    NaN           NaN    NaN   \n",
       "3        f           NaN    NaN           NaN    NaN           NaN    NaN   \n",
       "4        f           NaN    NaN           NaN    NaN           NaN    NaN   \n",
       "..     ...           ...    ...           ...    ...           ...    ...   \n",
       "495    NaN           NaN    NaN           NaN    NaN           NaN      t   \n",
       "496    NaN           NaN    NaN           NaN    NaN           NaN      t   \n",
       "497    NaN           NaN    NaN           NaN    NaN           NaN      t   \n",
       "498    NaN           NaN    NaN           NaN    NaN           NaN      t   \n",
       "499    NaN           NaN    NaN           NaN    NaN           NaN      t   \n",
       "\n",
       "     night_price4 avail5  night_price5  ... avail47  night_price47 avail48  \\\n",
       "0             NaN    NaN           NaN  ...     NaN            NaN     NaN   \n",
       "1             NaN    NaN           NaN  ...     NaN            NaN     NaN   \n",
       "2             NaN    NaN           NaN  ...     NaN            NaN     NaN   \n",
       "3             NaN    NaN           NaN  ...     NaN            NaN     NaN   \n",
       "4             NaN    NaN           NaN  ...     NaN            NaN     NaN   \n",
       "..            ...    ...           ...  ...     ...            ...     ...   \n",
       "495         170.0      t         170.0  ...     NaN            NaN     NaN   \n",
       "496         170.0      t         170.0  ...     NaN            NaN     NaN   \n",
       "497         170.0      t         170.0  ...     NaN            NaN     NaN   \n",
       "498         170.0      t         170.0  ...     NaN            NaN     NaN   \n",
       "499         176.0      t         176.0  ...     NaN            NaN     NaN   \n",
       "\n",
       "     night_price48 avail49  night_price49 avail50  night_price50   id  \\\n",
       "0              NaN     NaN            NaN     NaN            NaN  958   \n",
       "1              NaN     NaN            NaN     NaN            NaN  958   \n",
       "2              NaN     NaN            NaN     NaN            NaN  958   \n",
       "3              NaN     NaN            NaN     NaN            NaN  958   \n",
       "4              NaN     NaN            NaN     NaN            NaN  958   \n",
       "..             ...     ...            ...     ...            ...  ...   \n",
       "495            NaN     NaN            NaN     NaN            NaN  958   \n",
       "496            NaN     NaN            NaN     NaN            NaN  958   \n",
       "497            NaN     NaN            NaN     NaN            NaN  958   \n",
       "498            NaN     NaN            NaN     NaN            NaN  958   \n",
       "499            NaN     NaN            NaN     NaN            NaN  958   \n",
       "\n",
       "           date  \n",
       "0    2015-09-02  \n",
       "1    2015-09-03  \n",
       "2    2015-09-04  \n",
       "3    2015-09-05  \n",
       "4    2015-09-06  \n",
       "..          ...  \n",
       "495  2017-01-09  \n",
       "496  2017-01-10  \n",
       "497  2017-01-11  \n",
       "498  2017-01-12  \n",
       "499  2017-01-13  \n",
       "\n",
       "[500 rows x 102 columns]"
      ]
     },
     "execution_count": 22,
     "metadata": {},
     "output_type": "execute_result"
    }
   ],
   "source": [
    "df_merged[0:500]"
   ]
  },
  {
   "cell_type": "code",
   "execution_count": 23,
   "metadata": {},
   "outputs": [
    {
     "name": "stdout",
     "output_type": "stream",
     "text": [
      "DIMENSIONS ARE GOOD\n"
     ]
    }
   ],
   "source": [
    "# Check for duplicates and ensure the dataframe is the correct shape\n",
    "\n",
    "if N_DATES*N_IDS == df_merged.shape[0]:\n",
    "    print(\"DIMENSIONS ARE GOOD\")\n",
    "    \n",
    "else:\n",
    "    print(\"---CHECK DIMENSIONS---\")\n",
    "    print(\"(N_DATES) * (N_IDS) = \" + str(N_DATES*N_IDS))\n",
    "    print(\"LENGTH OF DATAFRAME = \" + str(df_merged.shape[0]))"
   ]
  },
  {
   "cell_type": "code",
   "execution_count": 24,
   "metadata": {},
   "outputs": [],
   "source": [
    "# This looks good! Really fast\n",
    "\n",
    "# Create a list of columns with only availabilities and the id and date\n",
    "avail_cols = df_merged.columns[df_merged.columns.str.contains('avail')]\n",
    "avail_cols = np.append(avail_cols, ('id','date'))\n",
    "\n",
    "# Avail_arr has been double checked\n",
    "avail_arr = df_merged[avail_cols].values\n",
    "\n",
    "# Avail_matrix has been double checked\n",
    "avail_matrix = np.reshape(avail_arr[:,0:N_CALS], (int(N_DATES), N_IDS, N_CALS), order='F') \n",
    "\n",
    "# This all looks fine\n",
    "avail_matrix = np.where(avail_matrix == 't', 1., avail_matrix) \n",
    "avail_matrix = np.where(avail_matrix == 'f', 0., avail_matrix)"
   ]
  },
  {
   "cell_type": "code",
   "execution_count": 25,
   "metadata": {},
   "outputs": [],
   "source": [
    "avail_change = np.diff(avail_matrix, axis=2) # This takes the difference between availability status across scrape files"
   ]
  },
  {
   "cell_type": "code",
   "execution_count": 26,
   "metadata": {},
   "outputs": [
    {
     "data": {
      "text/plain": [
       "(1886, 100, 49)"
      ]
     },
     "execution_count": 26,
     "metadata": {},
     "output_type": "execute_result"
    }
   ],
   "source": [
    "avail_change.shape"
   ]
  },
  {
   "cell_type": "markdown",
   "metadata": {},
   "source": [
    "The print statement here illustrates what I am attempting to do with the code in this section. There are two ways in which a property is considered booked:\n",
    "\n",
    "* **Available to unavailable:** Firstly, and most clearly, a property is booked if the sum of the avail_change column for a given property across various scrapes is equal to -1. This represents the fact that a property was seen as available and then it became unavailable. The print example fails this but does seem to be a booking, thus the need for a second condition.\n",
    "* **Allowing for unavailable to available to unavailable:** To account for the example below, I want to allow for a property to be unavailable, become available and then switch back to being unavailable. To achieve this, I set three conditions:\n",
    "    * **Cond 2.1:** Sum of the avail_change row is 0, this allows for a property to go from unavailable to available (1) and then go from available to unavailable (-1)\n",
    "    * **Cond 2.2:** Second, the last availability seen must be equal to zero, as in the case below\n",
    "    * **Cond 2.3:** Thirdly, the property must have been seen as available at some point so we must have a 1 in the avail_matrix\n",
    "    \n",
    "I aggregate these three conditions in what follows. This refinement may be too detailed but I believe that it improves the accuracy of my data."
   ]
  },
  {
   "cell_type": "code",
   "execution_count": 27,
   "metadata": {},
   "outputs": [],
   "source": [
    "case_1 = (np.nansum(avail_change, axis=2) == -1)*1 "
   ]
  },
  {
   "cell_type": "code",
   "execution_count": 28,
   "metadata": {},
   "outputs": [
    {
     "data": {
      "text/plain": [
       "(1886, 100, 50)"
      ]
     },
     "execution_count": 28,
     "metadata": {},
     "output_type": "execute_result"
    }
   ],
   "source": [
    "avail_matrix.shape"
   ]
  },
  {
   "cell_type": "code",
   "execution_count": 29,
   "metadata": {},
   "outputs": [],
   "source": [
    "# Last occurence \n",
    "\n",
    "def last_nonzero(arr, axis, invalid_val=-1):\n",
    "    mask = arr!= \"nan\"\n",
    "    val = arr.shape[axis] - np.flip(mask,axis=axis).argmax(axis=axis) - 1\n",
    "    return np.where(mask.any(axis=axis), val, invalid_val)"
   ]
  },
  {
   "cell_type": "code",
   "execution_count": 30,
   "metadata": {},
   "outputs": [
    {
     "name": "stdout",
     "output_type": "stream",
     "text": [
      "(1886, 100)\n",
      "(188600,)\n"
     ]
    }
   ],
   "source": [
    "# This gives you the indicator for the actual cell in the matrix where\n",
    "# the month in which a property was last available for a given listing across scrapes\n",
    "\n",
    "str_avail = avail_matrix.astype(str)\n",
    "inds = last_nonzero(str_avail, axis=2, invalid_val=np.nan)\n",
    "\n",
    "# test_inds looks goods\n",
    "test_inds = inds\n",
    "print(test_inds.shape)\n",
    "test_inds = np.reshape(test_inds, (N_DATES*N_IDS), order='F')\n",
    "print(test_inds.shape)"
   ]
  },
  {
   "cell_type": "code",
   "execution_count": 31,
   "metadata": {
    "scrolled": true
   },
   "outputs": [
    {
     "data": {
      "text/plain": [
       "array([[nan,  0.,  0.,  0.,  0.],\n",
       "       [nan,  0.,  0.,  0.,  0.],\n",
       "       [nan,  0.,  0.,  0.,  0.],\n",
       "       [nan,  0.,  0.,  0.,  0.],\n",
       "       [nan,  0.,  0.,  0.,  0.],\n",
       "       [nan,  0.,  0.,  0.,  0.],\n",
       "       [nan,  0.,  0.,  0.,  0.],\n",
       "       [nan,  0.,  0.,  0.,  0.],\n",
       "       [nan,  0.,  0.,  0.,  0.],\n",
       "       [nan,  0.,  0.,  0.,  0.]])"
      ]
     },
     "execution_count": 31,
     "metadata": {},
     "output_type": "execute_result"
    }
   ],
   "source": [
    "inds[0:10, 50:55]"
   ]
  },
  {
   "cell_type": "code",
   "execution_count": 32,
   "metadata": {
    "scrolled": true
   },
   "outputs": [
    {
     "data": {
      "text/plain": [
       "array([nan, nan, nan, nan, nan, nan, nan, nan, nan, nan,  0.,  0.,  0.,\n",
       "        0.,  0.,  0.,  0.,  0.,  0.,  0.,  0.,  0.,  0.,  0.,  0.,  0.,\n",
       "        0.,  0.,  0.,  0.,  0.,  0.,  0.,  0.,  0.,  0.,  0.,  0.,  0.,\n",
       "        0.,  0.,  0.,  0.,  0.,  0.,  0.,  0.,  0.,  0.,  0.])"
      ]
     },
     "execution_count": 32,
     "metadata": {},
     "output_type": "execute_result"
    }
   ],
   "source": [
    "np.reshape(inds[0:10, 50:55],(10*5), order='F')"
   ]
  },
  {
   "cell_type": "code",
   "execution_count": 33,
   "metadata": {},
   "outputs": [],
   "source": [
    "# Get the last availability for all properties\n",
    "\n",
    "case2_df = pd.DataFrame(test_inds)\n",
    "case2_df.columns = ['cal_index']\n",
    "case2_df['cal_index'] = case2_df['cal_index'].astype('Int64')\n",
    "case2_df['cal_index'] = case2_df['cal_index'].fillna(0) # // This 0 is a little bit confusing because it will link to an actual obs\n",
    "my_vals = case2_df['cal_index'].values #  but it this index was chosen so that it wouldn't lead to a booking result //\n",
    "\n",
    "reshape_avail = np.reshape(avail_matrix, (N_DATES*N_IDS*N_CALS,), order='F')\n",
    "# indices_for_resh = (np.arange(0, len(my_vals)) * my_vals).astype(int) # THIS IS A PROBLEM!!!!\n",
    "\n",
    "# The point of this is to get a point where we have both the sum of the row is zero and the \n",
    "# last observed availability is also zero! This tells me what \n",
    "\n",
    "# id_index = int(index/N_dates) \n",
    "# date_index = index - (688*id_index) \n",
    "# cal_index = INSIDE THE ARRAY\n",
    "\n",
    "case2_df['id_index'] = (case2_df.index/N_DATES).astype(int)\n",
    "case2_df['date_index'] = case2_df.index - N_DATES*case2_df['id_index']\n",
    "\n",
    "# Correct reshape index given by: (cal_index)*total_days*total_ids + (id_index)*total_days + (date_index)\n",
    "\n",
    "indices = (case2_df['cal_index']*N_DATES*N_IDS + case2_df['id_index']*N_DATES + case2_df['date_index']).values\n",
    "\n",
    "case2_result = reshape_avail[indices.astype(int)]\n",
    "case2_result = np.reshape(case2_result, (N_DATES, N_IDS), order='F').astype(float)"
   ]
  },
  {
   "cell_type": "code",
   "execution_count": 34,
   "metadata": {},
   "outputs": [
    {
     "name": "stderr",
     "output_type": "stream",
     "text": [
      "<ipython-input-34-5b117783a410>:3: RuntimeWarning: All-NaN axis encountered\n",
      "  cond_23 = (np.nanmax(avail_matrix,axis=2) == 1)*1\n"
     ]
    }
   ],
   "source": [
    "cond_21 = (np.nansum(avail_change, axis=2) == 0)*1\n",
    "cond_22 = (case2_result == 0)*1\n",
    "cond_23 = (np.nanmax(avail_matrix,axis=2) == 1)*1"
   ]
  },
  {
   "cell_type": "code",
   "execution_count": 35,
   "metadata": {},
   "outputs": [
    {
     "data": {
      "text/plain": [
       "((1886, 100), (1886, 100), (1886, 100))"
      ]
     },
     "execution_count": 35,
     "metadata": {},
     "output_type": "execute_result"
    }
   ],
   "source": [
    "cond_21.shape, cond_22.shape, cond_23.shape"
   ]
  },
  {
   "cell_type": "code",
   "execution_count": 36,
   "metadata": {},
   "outputs": [],
   "source": [
    "case_2 = cond_21*cond_22*cond_23"
   ]
  },
  {
   "cell_type": "code",
   "execution_count": 37,
   "metadata": {},
   "outputs": [
    {
     "name": "stderr",
     "output_type": "stream",
     "text": [
      "<ipython-input-37-ca74191672ea>:9: RuntimeWarning: All-NaN axis encountered\n",
      "  never_avail = np.nanmax(avail_matrix,axis=2) != 1.\n"
     ]
    }
   ],
   "source": [
    "booked_mat = np.maximum(case_1, case_2)\n",
    "booked_mat = np.reshape(booked_mat, (N_DATES*N_IDS,1), order='F')\n",
    "\n",
    "booked_df = pd.DataFrame(booked_mat >= 1 , columns=['booked'])\n",
    "booked_df.loc[:, \"id\"] = df_merged['id'].values\n",
    "booked_df.loc[:, \"res_date\"] = df_merged['date'].values\n",
    "\n",
    "# Never_avail has been checked, looks okay.\n",
    "never_avail = np.nanmax(avail_matrix,axis=2) != 1.\n",
    "booked_df.loc[:, 'never_avail'] = np.reshape(never_avail, (N_DATES*N_IDS, 1), order='F')"
   ]
  },
  {
   "cell_type": "code",
   "execution_count": 38,
   "metadata": {},
   "outputs": [],
   "source": [
    "# Create a list of columns with only availabilities and the price and date\n",
    "price_cols = df_merged.columns[df_merged.columns.str.contains('night_price')]\n",
    "price_cols = np.append(price_cols, ('id','date'))\n",
    "\n",
    "\n",
    "price_arr = df_merged[price_cols].values\n",
    "\n",
    "price_matrix = np.reshape(price_arr[:,0:N_CALS], (int(N_DATES), N_IDS, N_CALS), order='F')"
   ]
  },
  {
   "cell_type": "code",
   "execution_count": 39,
   "metadata": {},
   "outputs": [
    {
     "name": "stderr",
     "output_type": "stream",
     "text": [
      "<ipython-input-39-478ca573a937>:5: RuntimeWarning: All-NaN axis encountered\n",
      "  booked_price = np.nanmax(price_matrix[:,:,0:(N_CALS - 1)]*last_avail_flag,axis=2)\n"
     ]
    }
   ],
   "source": [
    "# last_avail_flag has been double checked and it looks good\n",
    "last_avail_flag = (np.roll(avail_change,0, axis=2) == -1)*1\n",
    "last_avail_flag = np.where(last_avail_flag == 0, np.nan, last_avail_flag)\n",
    "\n",
    "booked_price = np.nanmax(price_matrix[:,:,0:(N_CALS - 1)]*last_avail_flag,axis=2)\n",
    "booked_df.loc[:, 'price'] = np.reshape(booked_price, (N_DATES*N_IDS,1), order='F')\n",
    "\n",
    "#booked_price and booked_df look good"
   ]
  },
  {
   "cell_type": "code",
   "execution_count": 40,
   "metadata": {},
   "outputs": [],
   "source": [
    "# init_dates is array of the calendar file dates \n",
    "\n",
    "last_date_avail = np.isfinite(last_avail_flag).argmax(2)\n",
    "index_for_last = np.reshape(last_date_avail, (N_DATES*N_IDS,), order='F')\n",
    "last_date = np.array(init_dates)[np.reshape(last_date_avail, (N_DATES*N_IDS,), order='F')]\n",
    "\n",
    "# This ensures that the last date is only reported whenever the listing is identified as being booked.\n",
    "booked_df.loc[:, \"last_date\"] = last_date\n",
    "mask = booked_df.booked == False\n",
    "column_name = 'last_date'\n",
    "booked_df.loc[mask, column_name] = np.nan"
   ]
  },
  {
   "cell_type": "markdown",
   "metadata": {},
   "source": [
    "### Add prices for places that are available but *not* booked."
   ]
  },
  {
   "cell_type": "code",
   "execution_count": 41,
   "metadata": {},
   "outputs": [],
   "source": [
    "price_matrix_np = np.float64(price_matrix)"
   ]
  },
  {
   "cell_type": "code",
   "execution_count": 42,
   "metadata": {},
   "outputs": [],
   "source": [
    "def highest_index(a):\n",
    "    try:\n",
    "        return a[~np.isnan(a)][-1]\n",
    "    except: \n",
    "        return 99999"
   ]
  },
  {
   "cell_type": "code",
   "execution_count": 43,
   "metadata": {},
   "outputs": [],
   "source": [
    "last_observed_price = np.apply_along_axis(highest_index, 2, price_matrix_np)\n",
    "last_observed_price = np.where(last_observed_price == 99999, np.nan, last_observed_price)\n",
    "last_observed_price = np.reshape(last_observed_price, (N_IDS*N_DATES), order='F')"
   ]
  },
  {
   "cell_type": "code",
   "execution_count": 44,
   "metadata": {},
   "outputs": [],
   "source": [
    "booked_df = booked_df.sort_values(by=['id', 'res_date'])"
   ]
  },
  {
   "cell_type": "code",
   "execution_count": 45,
   "metadata": {},
   "outputs": [],
   "source": [
    "booked_df.loc[:, \"all_prices\"] =  last_observed_price"
   ]
  },
  {
   "cell_type": "code",
   "execution_count": 46,
   "metadata": {},
   "outputs": [],
   "source": [
    "# If booked, get assigned \"price\" if un-booked get assigned \"all_prices\".\n",
    "\n",
    "booked_ind = (booked_df['booked']*1).values\n",
    "\n",
    "final_prices = ((booked_ind)*booked_df['price'].fillna(0) + (1 - booked_ind)*booked_df['all_prices'].fillna(0)).values\n",
    "booked_df.loc[:, 'final_prices'] = final_prices\n",
    "booked_df['final_prices'].replace({0.:np.nan}, inplace=True)"
   ]
  },
  {
   "cell_type": "code",
   "execution_count": 47,
   "metadata": {},
   "outputs": [
    {
     "data": {
      "text/html": [
       "<div>\n",
       "<style scoped>\n",
       "    .dataframe tbody tr th:only-of-type {\n",
       "        vertical-align: middle;\n",
       "    }\n",
       "\n",
       "    .dataframe tbody tr th {\n",
       "        vertical-align: top;\n",
       "    }\n",
       "\n",
       "    .dataframe thead th {\n",
       "        text-align: right;\n",
       "    }\n",
       "</style>\n",
       "<table border=\"1\" class=\"dataframe\">\n",
       "  <thead>\n",
       "    <tr style=\"text-align: right;\">\n",
       "      <th></th>\n",
       "      <th>booked</th>\n",
       "      <th>id</th>\n",
       "      <th>res_date</th>\n",
       "      <th>never_avail</th>\n",
       "      <th>price</th>\n",
       "      <th>last_date</th>\n",
       "      <th>all_prices</th>\n",
       "      <th>final_prices</th>\n",
       "    </tr>\n",
       "  </thead>\n",
       "  <tbody>\n",
       "    <tr>\n",
       "      <th>7000</th>\n",
       "      <td>False</td>\n",
       "      <td>5021</td>\n",
       "      <td>2019-05-06</td>\n",
       "      <td>True</td>\n",
       "      <td>NaN</td>\n",
       "      <td>NaN</td>\n",
       "      <td>NaN</td>\n",
       "      <td>NaN</td>\n",
       "    </tr>\n",
       "    <tr>\n",
       "      <th>7001</th>\n",
       "      <td>False</td>\n",
       "      <td>5021</td>\n",
       "      <td>2019-05-07</td>\n",
       "      <td>True</td>\n",
       "      <td>NaN</td>\n",
       "      <td>NaN</td>\n",
       "      <td>NaN</td>\n",
       "      <td>NaN</td>\n",
       "    </tr>\n",
       "    <tr>\n",
       "      <th>7002</th>\n",
       "      <td>False</td>\n",
       "      <td>5021</td>\n",
       "      <td>2019-05-08</td>\n",
       "      <td>True</td>\n",
       "      <td>NaN</td>\n",
       "      <td>NaN</td>\n",
       "      <td>NaN</td>\n",
       "      <td>NaN</td>\n",
       "    </tr>\n",
       "    <tr>\n",
       "      <th>7003</th>\n",
       "      <td>False</td>\n",
       "      <td>5021</td>\n",
       "      <td>2019-05-09</td>\n",
       "      <td>True</td>\n",
       "      <td>NaN</td>\n",
       "      <td>NaN</td>\n",
       "      <td>NaN</td>\n",
       "      <td>NaN</td>\n",
       "    </tr>\n",
       "    <tr>\n",
       "      <th>7004</th>\n",
       "      <td>False</td>\n",
       "      <td>5021</td>\n",
       "      <td>2019-05-10</td>\n",
       "      <td>True</td>\n",
       "      <td>NaN</td>\n",
       "      <td>NaN</td>\n",
       "      <td>NaN</td>\n",
       "      <td>NaN</td>\n",
       "    </tr>\n",
       "    <tr>\n",
       "      <th>7005</th>\n",
       "      <td>False</td>\n",
       "      <td>5021</td>\n",
       "      <td>2019-05-11</td>\n",
       "      <td>True</td>\n",
       "      <td>NaN</td>\n",
       "      <td>NaN</td>\n",
       "      <td>NaN</td>\n",
       "      <td>NaN</td>\n",
       "    </tr>\n",
       "    <tr>\n",
       "      <th>7006</th>\n",
       "      <td>False</td>\n",
       "      <td>5021</td>\n",
       "      <td>2019-05-12</td>\n",
       "      <td>True</td>\n",
       "      <td>NaN</td>\n",
       "      <td>NaN</td>\n",
       "      <td>NaN</td>\n",
       "      <td>NaN</td>\n",
       "    </tr>\n",
       "    <tr>\n",
       "      <th>7007</th>\n",
       "      <td>False</td>\n",
       "      <td>5021</td>\n",
       "      <td>2019-05-13</td>\n",
       "      <td>True</td>\n",
       "      <td>NaN</td>\n",
       "      <td>NaN</td>\n",
       "      <td>NaN</td>\n",
       "      <td>NaN</td>\n",
       "    </tr>\n",
       "    <tr>\n",
       "      <th>7008</th>\n",
       "      <td>False</td>\n",
       "      <td>5021</td>\n",
       "      <td>2019-05-14</td>\n",
       "      <td>True</td>\n",
       "      <td>NaN</td>\n",
       "      <td>NaN</td>\n",
       "      <td>NaN</td>\n",
       "      <td>NaN</td>\n",
       "    </tr>\n",
       "    <tr>\n",
       "      <th>7009</th>\n",
       "      <td>False</td>\n",
       "      <td>5021</td>\n",
       "      <td>2019-05-15</td>\n",
       "      <td>True</td>\n",
       "      <td>NaN</td>\n",
       "      <td>NaN</td>\n",
       "      <td>NaN</td>\n",
       "      <td>NaN</td>\n",
       "    </tr>\n",
       "    <tr>\n",
       "      <th>7010</th>\n",
       "      <td>False</td>\n",
       "      <td>5021</td>\n",
       "      <td>2019-05-16</td>\n",
       "      <td>True</td>\n",
       "      <td>NaN</td>\n",
       "      <td>NaN</td>\n",
       "      <td>NaN</td>\n",
       "      <td>NaN</td>\n",
       "    </tr>\n",
       "    <tr>\n",
       "      <th>7011</th>\n",
       "      <td>False</td>\n",
       "      <td>5021</td>\n",
       "      <td>2019-05-17</td>\n",
       "      <td>True</td>\n",
       "      <td>NaN</td>\n",
       "      <td>NaN</td>\n",
       "      <td>NaN</td>\n",
       "      <td>NaN</td>\n",
       "    </tr>\n",
       "    <tr>\n",
       "      <th>7012</th>\n",
       "      <td>False</td>\n",
       "      <td>5021</td>\n",
       "      <td>2019-05-18</td>\n",
       "      <td>True</td>\n",
       "      <td>NaN</td>\n",
       "      <td>NaN</td>\n",
       "      <td>NaN</td>\n",
       "      <td>NaN</td>\n",
       "    </tr>\n",
       "    <tr>\n",
       "      <th>7013</th>\n",
       "      <td>False</td>\n",
       "      <td>5021</td>\n",
       "      <td>2019-05-19</td>\n",
       "      <td>True</td>\n",
       "      <td>NaN</td>\n",
       "      <td>NaN</td>\n",
       "      <td>NaN</td>\n",
       "      <td>NaN</td>\n",
       "    </tr>\n",
       "    <tr>\n",
       "      <th>7014</th>\n",
       "      <td>False</td>\n",
       "      <td>5021</td>\n",
       "      <td>2019-05-20</td>\n",
       "      <td>True</td>\n",
       "      <td>NaN</td>\n",
       "      <td>NaN</td>\n",
       "      <td>NaN</td>\n",
       "      <td>NaN</td>\n",
       "    </tr>\n",
       "    <tr>\n",
       "      <th>7015</th>\n",
       "      <td>False</td>\n",
       "      <td>5021</td>\n",
       "      <td>2019-05-21</td>\n",
       "      <td>True</td>\n",
       "      <td>NaN</td>\n",
       "      <td>NaN</td>\n",
       "      <td>NaN</td>\n",
       "      <td>NaN</td>\n",
       "    </tr>\n",
       "    <tr>\n",
       "      <th>7016</th>\n",
       "      <td>False</td>\n",
       "      <td>5021</td>\n",
       "      <td>2019-05-22</td>\n",
       "      <td>True</td>\n",
       "      <td>NaN</td>\n",
       "      <td>NaN</td>\n",
       "      <td>NaN</td>\n",
       "      <td>NaN</td>\n",
       "    </tr>\n",
       "    <tr>\n",
       "      <th>7017</th>\n",
       "      <td>False</td>\n",
       "      <td>5021</td>\n",
       "      <td>2019-05-23</td>\n",
       "      <td>True</td>\n",
       "      <td>NaN</td>\n",
       "      <td>NaN</td>\n",
       "      <td>NaN</td>\n",
       "      <td>NaN</td>\n",
       "    </tr>\n",
       "    <tr>\n",
       "      <th>7018</th>\n",
       "      <td>False</td>\n",
       "      <td>5021</td>\n",
       "      <td>2019-05-24</td>\n",
       "      <td>True</td>\n",
       "      <td>NaN</td>\n",
       "      <td>NaN</td>\n",
       "      <td>NaN</td>\n",
       "      <td>NaN</td>\n",
       "    </tr>\n",
       "    <tr>\n",
       "      <th>7019</th>\n",
       "      <td>False</td>\n",
       "      <td>5021</td>\n",
       "      <td>2019-05-25</td>\n",
       "      <td>True</td>\n",
       "      <td>NaN</td>\n",
       "      <td>NaN</td>\n",
       "      <td>NaN</td>\n",
       "      <td>NaN</td>\n",
       "    </tr>\n",
       "  </tbody>\n",
       "</table>\n",
       "</div>"
      ],
      "text/plain": [
       "      booked    id    res_date  never_avail  price last_date  all_prices  \\\n",
       "7000   False  5021  2019-05-06         True    NaN       NaN         NaN   \n",
       "7001   False  5021  2019-05-07         True    NaN       NaN         NaN   \n",
       "7002   False  5021  2019-05-08         True    NaN       NaN         NaN   \n",
       "7003   False  5021  2019-05-09         True    NaN       NaN         NaN   \n",
       "7004   False  5021  2019-05-10         True    NaN       NaN         NaN   \n",
       "7005   False  5021  2019-05-11         True    NaN       NaN         NaN   \n",
       "7006   False  5021  2019-05-12         True    NaN       NaN         NaN   \n",
       "7007   False  5021  2019-05-13         True    NaN       NaN         NaN   \n",
       "7008   False  5021  2019-05-14         True    NaN       NaN         NaN   \n",
       "7009   False  5021  2019-05-15         True    NaN       NaN         NaN   \n",
       "7010   False  5021  2019-05-16         True    NaN       NaN         NaN   \n",
       "7011   False  5021  2019-05-17         True    NaN       NaN         NaN   \n",
       "7012   False  5021  2019-05-18         True    NaN       NaN         NaN   \n",
       "7013   False  5021  2019-05-19         True    NaN       NaN         NaN   \n",
       "7014   False  5021  2019-05-20         True    NaN       NaN         NaN   \n",
       "7015   False  5021  2019-05-21         True    NaN       NaN         NaN   \n",
       "7016   False  5021  2019-05-22         True    NaN       NaN         NaN   \n",
       "7017   False  5021  2019-05-23         True    NaN       NaN         NaN   \n",
       "7018   False  5021  2019-05-24         True    NaN       NaN         NaN   \n",
       "7019   False  5021  2019-05-25         True    NaN       NaN         NaN   \n",
       "\n",
       "      final_prices  \n",
       "7000           NaN  \n",
       "7001           NaN  \n",
       "7002           NaN  \n",
       "7003           NaN  \n",
       "7004           NaN  \n",
       "7005           NaN  \n",
       "7006           NaN  \n",
       "7007           NaN  \n",
       "7008           NaN  \n",
       "7009           NaN  \n",
       "7010           NaN  \n",
       "7011           NaN  \n",
       "7012           NaN  \n",
       "7013           NaN  \n",
       "7014           NaN  \n",
       "7015           NaN  \n",
       "7016           NaN  \n",
       "7017           NaN  \n",
       "7018           NaN  \n",
       "7019           NaN  "
      ]
     },
     "execution_count": 47,
     "metadata": {},
     "output_type": "execute_result"
    }
   ],
   "source": [
    "booked_df[7000:7020]"
   ]
  },
  {
   "cell_type": "code",
   "execution_count": 48,
   "metadata": {},
   "outputs": [],
   "source": [
    "booked_df.loc[:, \"seen_avail\"] = (booked_df['never_avail'] == False).values*1\n",
    "booked_df = booked_df.sort_values(by='res_date').reset_index(drop=True)    \n",
    "booked_df.loc[:, 'week_yr'] =  booked_df['res_date'].astype('datetime64').dt.strftime('%Y-%U')\n",
    "booked_df.loc[:, 'mo_yr'] = booked_df['res_date'].astype('datetime64').dt.to_period('M')"
   ]
  },
  {
   "cell_type": "code",
   "execution_count": 49,
   "metadata": {},
   "outputs": [],
   "source": [
    "booked_df_save = booked_df.copy()\n",
    "booked_df_save.loc[:, \"mo_yr\"] = booked_df_save[\"mo_yr\"].astype(str)"
   ]
  },
  {
   "cell_type": "markdown",
   "metadata": {},
   "source": [
    "# Saving"
   ]
  },
  {
   "cell_type": "code",
   "execution_count": 50,
   "metadata": {},
   "outputs": [
    {
     "name": "stderr",
     "output_type": "stream",
     "text": [
      "/home/natfern/anaconda3/lib/python3.8/site-packages/pandas/core/generic.py:2606: PerformanceWarning: \n",
      "your performance may suffer as PyTables will pickle object types that it cannot\n",
      "map directly to c-types [inferred_type->mixed,key->block3_values] [items->Index(['res_date', 'last_date', 'week_yr', 'mo_yr'], dtype='object')]\n",
      "\n",
      "  pytables.to_hdf(\n"
     ]
    },
    {
     "name": "stdout",
     "output_type": "stream",
     "text": [
      "179 ms ± 6.25 ms per loop (mean ± std. dev. of 7 runs, 1 loop each)\n"
     ]
    }
   ],
   "source": [
    "# This is just an example that I use later on: %timeit full_merge.to_hdf('cal_rev_list_FULLMERGEv2.h5', 'full_merge')\n",
    "\n",
    "os.chdir(data_path)\n",
    "booked_df_save.to_hdf('booked_df_v2.h5', 'booked_df')"
   ]
  },
  {
   "cell_type": "code",
   "execution_count": 51,
   "metadata": {},
   "outputs": [],
   "source": [
    "# # # Loading the booked_df\n",
    "# booked_df = pd.read_hdf('booked_df_v2.h5', 'booked_df')"
   ]
  },
  {
   "cell_type": "code",
   "execution_count": 52,
   "metadata": {},
   "outputs": [
    {
     "data": {
      "text/html": [
       "<div>\n",
       "<style scoped>\n",
       "    .dataframe tbody tr th:only-of-type {\n",
       "        vertical-align: middle;\n",
       "    }\n",
       "\n",
       "    .dataframe tbody tr th {\n",
       "        vertical-align: top;\n",
       "    }\n",
       "\n",
       "    .dataframe thead th {\n",
       "        text-align: right;\n",
       "    }\n",
       "</style>\n",
       "<table border=\"1\" class=\"dataframe\">\n",
       "  <thead>\n",
       "    <tr style=\"text-align: right;\">\n",
       "      <th></th>\n",
       "      <th>booked</th>\n",
       "      <th>id</th>\n",
       "      <th>res_date</th>\n",
       "      <th>never_avail</th>\n",
       "      <th>price</th>\n",
       "      <th>last_date</th>\n",
       "      <th>all_prices</th>\n",
       "      <th>final_prices</th>\n",
       "      <th>seen_avail</th>\n",
       "      <th>week_yr</th>\n",
       "      <th>mo_yr</th>\n",
       "    </tr>\n",
       "  </thead>\n",
       "  <tbody>\n",
       "    <tr>\n",
       "      <th>0</th>\n",
       "      <td>False</td>\n",
       "      <td>958</td>\n",
       "      <td>2015-09-02</td>\n",
       "      <td>True</td>\n",
       "      <td>NaN</td>\n",
       "      <td>NaN</td>\n",
       "      <td>NaN</td>\n",
       "      <td>NaN</td>\n",
       "      <td>0</td>\n",
       "      <td>2015-35</td>\n",
       "      <td>2015-09</td>\n",
       "    </tr>\n",
       "    <tr>\n",
       "      <th>1</th>\n",
       "      <td>False</td>\n",
       "      <td>10820</td>\n",
       "      <td>2015-09-02</td>\n",
       "      <td>True</td>\n",
       "      <td>NaN</td>\n",
       "      <td>NaN</td>\n",
       "      <td>NaN</td>\n",
       "      <td>NaN</td>\n",
       "      <td>0</td>\n",
       "      <td>2015-35</td>\n",
       "      <td>2015-09</td>\n",
       "    </tr>\n",
       "    <tr>\n",
       "      <th>2</th>\n",
       "      <td>False</td>\n",
       "      <td>8142</td>\n",
       "      <td>2015-09-02</td>\n",
       "      <td>True</td>\n",
       "      <td>NaN</td>\n",
       "      <td>NaN</td>\n",
       "      <td>NaN</td>\n",
       "      <td>NaN</td>\n",
       "      <td>0</td>\n",
       "      <td>2015-35</td>\n",
       "      <td>2015-09</td>\n",
       "    </tr>\n",
       "    <tr>\n",
       "      <th>3</th>\n",
       "      <td>False</td>\n",
       "      <td>27505</td>\n",
       "      <td>2015-09-02</td>\n",
       "      <td>True</td>\n",
       "      <td>NaN</td>\n",
       "      <td>NaN</td>\n",
       "      <td>NaN</td>\n",
       "      <td>NaN</td>\n",
       "      <td>0</td>\n",
       "      <td>2015-35</td>\n",
       "      <td>2015-09</td>\n",
       "    </tr>\n",
       "    <tr>\n",
       "      <th>4</th>\n",
       "      <td>False</td>\n",
       "      <td>10251</td>\n",
       "      <td>2015-09-02</td>\n",
       "      <td>True</td>\n",
       "      <td>NaN</td>\n",
       "      <td>NaN</td>\n",
       "      <td>NaN</td>\n",
       "      <td>NaN</td>\n",
       "      <td>0</td>\n",
       "      <td>2015-35</td>\n",
       "      <td>2015-09</td>\n",
       "    </tr>\n",
       "    <tr>\n",
       "      <th>5</th>\n",
       "      <td>False</td>\n",
       "      <td>5021</td>\n",
       "      <td>2015-09-02</td>\n",
       "      <td>True</td>\n",
       "      <td>NaN</td>\n",
       "      <td>NaN</td>\n",
       "      <td>NaN</td>\n",
       "      <td>NaN</td>\n",
       "      <td>0</td>\n",
       "      <td>2015-35</td>\n",
       "      <td>2015-09</td>\n",
       "    </tr>\n",
       "    <tr>\n",
       "      <th>6</th>\n",
       "      <td>False</td>\n",
       "      <td>11009</td>\n",
       "      <td>2015-09-02</td>\n",
       "      <td>True</td>\n",
       "      <td>NaN</td>\n",
       "      <td>NaN</td>\n",
       "      <td>NaN</td>\n",
       "      <td>NaN</td>\n",
       "      <td>0</td>\n",
       "      <td>2015-35</td>\n",
       "      <td>2015-09</td>\n",
       "    </tr>\n",
       "    <tr>\n",
       "      <th>7</th>\n",
       "      <td>False</td>\n",
       "      <td>14125</td>\n",
       "      <td>2015-09-02</td>\n",
       "      <td>True</td>\n",
       "      <td>NaN</td>\n",
       "      <td>NaN</td>\n",
       "      <td>NaN</td>\n",
       "      <td>NaN</td>\n",
       "      <td>0</td>\n",
       "      <td>2015-35</td>\n",
       "      <td>2015-09</td>\n",
       "    </tr>\n",
       "    <tr>\n",
       "      <th>8</th>\n",
       "      <td>False</td>\n",
       "      <td>27028</td>\n",
       "      <td>2015-09-02</td>\n",
       "      <td>True</td>\n",
       "      <td>NaN</td>\n",
       "      <td>NaN</td>\n",
       "      <td>NaN</td>\n",
       "      <td>NaN</td>\n",
       "      <td>0</td>\n",
       "      <td>2015-35</td>\n",
       "      <td>2015-09</td>\n",
       "    </tr>\n",
       "    <tr>\n",
       "      <th>9</th>\n",
       "      <td>False</td>\n",
       "      <td>16428</td>\n",
       "      <td>2015-09-02</td>\n",
       "      <td>True</td>\n",
       "      <td>NaN</td>\n",
       "      <td>NaN</td>\n",
       "      <td>NaN</td>\n",
       "      <td>NaN</td>\n",
       "      <td>0</td>\n",
       "      <td>2015-35</td>\n",
       "      <td>2015-09</td>\n",
       "    </tr>\n",
       "    <tr>\n",
       "      <th>10</th>\n",
       "      <td>False</td>\n",
       "      <td>12006</td>\n",
       "      <td>2015-09-02</td>\n",
       "      <td>True</td>\n",
       "      <td>NaN</td>\n",
       "      <td>NaN</td>\n",
       "      <td>NaN</td>\n",
       "      <td>NaN</td>\n",
       "      <td>0</td>\n",
       "      <td>2015-35</td>\n",
       "      <td>2015-09</td>\n",
       "    </tr>\n",
       "    <tr>\n",
       "      <th>11</th>\n",
       "      <td>False</td>\n",
       "      <td>25691</td>\n",
       "      <td>2015-09-02</td>\n",
       "      <td>True</td>\n",
       "      <td>NaN</td>\n",
       "      <td>NaN</td>\n",
       "      <td>NaN</td>\n",
       "      <td>NaN</td>\n",
       "      <td>0</td>\n",
       "      <td>2015-35</td>\n",
       "      <td>2015-09</td>\n",
       "    </tr>\n",
       "    <tr>\n",
       "      <th>12</th>\n",
       "      <td>False</td>\n",
       "      <td>8775</td>\n",
       "      <td>2015-09-02</td>\n",
       "      <td>True</td>\n",
       "      <td>NaN</td>\n",
       "      <td>NaN</td>\n",
       "      <td>NaN</td>\n",
       "      <td>NaN</td>\n",
       "      <td>0</td>\n",
       "      <td>2015-35</td>\n",
       "      <td>2015-09</td>\n",
       "    </tr>\n",
       "    <tr>\n",
       "      <th>13</th>\n",
       "      <td>False</td>\n",
       "      <td>5858</td>\n",
       "      <td>2015-09-02</td>\n",
       "      <td>True</td>\n",
       "      <td>NaN</td>\n",
       "      <td>NaN</td>\n",
       "      <td>NaN</td>\n",
       "      <td>NaN</td>\n",
       "      <td>0</td>\n",
       "      <td>2015-35</td>\n",
       "      <td>2015-09</td>\n",
       "    </tr>\n",
       "    <tr>\n",
       "      <th>14</th>\n",
       "      <td>False</td>\n",
       "      <td>12041</td>\n",
       "      <td>2015-09-02</td>\n",
       "      <td>True</td>\n",
       "      <td>NaN</td>\n",
       "      <td>NaN</td>\n",
       "      <td>NaN</td>\n",
       "      <td>NaN</td>\n",
       "      <td>0</td>\n",
       "      <td>2015-35</td>\n",
       "      <td>2015-09</td>\n",
       "    </tr>\n",
       "    <tr>\n",
       "      <th>15</th>\n",
       "      <td>False</td>\n",
       "      <td>8339</td>\n",
       "      <td>2015-09-02</td>\n",
       "      <td>False</td>\n",
       "      <td>NaN</td>\n",
       "      <td>NaN</td>\n",
       "      <td>595.0</td>\n",
       "      <td>595.0</td>\n",
       "      <td>1</td>\n",
       "      <td>2015-35</td>\n",
       "      <td>2015-09</td>\n",
       "    </tr>\n",
       "    <tr>\n",
       "      <th>16</th>\n",
       "      <td>False</td>\n",
       "      <td>32027</td>\n",
       "      <td>2015-09-02</td>\n",
       "      <td>True</td>\n",
       "      <td>NaN</td>\n",
       "      <td>NaN</td>\n",
       "      <td>NaN</td>\n",
       "      <td>NaN</td>\n",
       "      <td>0</td>\n",
       "      <td>2015-35</td>\n",
       "      <td>2015-09</td>\n",
       "    </tr>\n",
       "    <tr>\n",
       "      <th>17</th>\n",
       "      <td>False</td>\n",
       "      <td>20483</td>\n",
       "      <td>2015-09-02</td>\n",
       "      <td>True</td>\n",
       "      <td>NaN</td>\n",
       "      <td>NaN</td>\n",
       "      <td>NaN</td>\n",
       "      <td>NaN</td>\n",
       "      <td>0</td>\n",
       "      <td>2015-35</td>\n",
       "      <td>2015-09</td>\n",
       "    </tr>\n",
       "    <tr>\n",
       "      <th>18</th>\n",
       "      <td>False</td>\n",
       "      <td>24849</td>\n",
       "      <td>2015-09-02</td>\n",
       "      <td>True</td>\n",
       "      <td>NaN</td>\n",
       "      <td>NaN</td>\n",
       "      <td>NaN</td>\n",
       "      <td>NaN</td>\n",
       "      <td>0</td>\n",
       "      <td>2015-35</td>\n",
       "      <td>2015-09</td>\n",
       "    </tr>\n",
       "    <tr>\n",
       "      <th>19</th>\n",
       "      <td>False</td>\n",
       "      <td>25482</td>\n",
       "      <td>2015-09-02</td>\n",
       "      <td>True</td>\n",
       "      <td>NaN</td>\n",
       "      <td>NaN</td>\n",
       "      <td>NaN</td>\n",
       "      <td>NaN</td>\n",
       "      <td>0</td>\n",
       "      <td>2015-35</td>\n",
       "      <td>2015-09</td>\n",
       "    </tr>\n",
       "  </tbody>\n",
       "</table>\n",
       "</div>"
      ],
      "text/plain": [
       "    booked     id    res_date  never_avail  price last_date  all_prices  \\\n",
       "0    False    958  2015-09-02         True    NaN       NaN         NaN   \n",
       "1    False  10820  2015-09-02         True    NaN       NaN         NaN   \n",
       "2    False   8142  2015-09-02         True    NaN       NaN         NaN   \n",
       "3    False  27505  2015-09-02         True    NaN       NaN         NaN   \n",
       "4    False  10251  2015-09-02         True    NaN       NaN         NaN   \n",
       "5    False   5021  2015-09-02         True    NaN       NaN         NaN   \n",
       "6    False  11009  2015-09-02         True    NaN       NaN         NaN   \n",
       "7    False  14125  2015-09-02         True    NaN       NaN         NaN   \n",
       "8    False  27028  2015-09-02         True    NaN       NaN         NaN   \n",
       "9    False  16428  2015-09-02         True    NaN       NaN         NaN   \n",
       "10   False  12006  2015-09-02         True    NaN       NaN         NaN   \n",
       "11   False  25691  2015-09-02         True    NaN       NaN         NaN   \n",
       "12   False   8775  2015-09-02         True    NaN       NaN         NaN   \n",
       "13   False   5858  2015-09-02         True    NaN       NaN         NaN   \n",
       "14   False  12041  2015-09-02         True    NaN       NaN         NaN   \n",
       "15   False   8339  2015-09-02        False    NaN       NaN       595.0   \n",
       "16   False  32027  2015-09-02         True    NaN       NaN         NaN   \n",
       "17   False  20483  2015-09-02         True    NaN       NaN         NaN   \n",
       "18   False  24849  2015-09-02         True    NaN       NaN         NaN   \n",
       "19   False  25482  2015-09-02         True    NaN       NaN         NaN   \n",
       "\n",
       "    final_prices  seen_avail  week_yr    mo_yr  \n",
       "0            NaN           0  2015-35  2015-09  \n",
       "1            NaN           0  2015-35  2015-09  \n",
       "2            NaN           0  2015-35  2015-09  \n",
       "3            NaN           0  2015-35  2015-09  \n",
       "4            NaN           0  2015-35  2015-09  \n",
       "5            NaN           0  2015-35  2015-09  \n",
       "6            NaN           0  2015-35  2015-09  \n",
       "7            NaN           0  2015-35  2015-09  \n",
       "8            NaN           0  2015-35  2015-09  \n",
       "9            NaN           0  2015-35  2015-09  \n",
       "10           NaN           0  2015-35  2015-09  \n",
       "11           NaN           0  2015-35  2015-09  \n",
       "12           NaN           0  2015-35  2015-09  \n",
       "13           NaN           0  2015-35  2015-09  \n",
       "14           NaN           0  2015-35  2015-09  \n",
       "15         595.0           1  2015-35  2015-09  \n",
       "16           NaN           0  2015-35  2015-09  \n",
       "17           NaN           0  2015-35  2015-09  \n",
       "18           NaN           0  2015-35  2015-09  \n",
       "19           NaN           0  2015-35  2015-09  "
      ]
     },
     "execution_count": 52,
     "metadata": {},
     "output_type": "execute_result"
    }
   ],
   "source": [
    "booked_df.head(20)"
   ]
  }
 ],
 "metadata": {
  "kernelspec": {
   "display_name": "Python 3",
   "language": "python",
   "name": "python3"
  },
  "language_info": {
   "codemirror_mode": {
    "name": "ipython",
    "version": 3
   },
   "file_extension": ".py",
   "mimetype": "text/x-python",
   "name": "python",
   "nbconvert_exporter": "python",
   "pygments_lexer": "ipython3",
   "version": "3.8.8"
  }
 },
 "nbformat": 4,
 "nbformat_minor": 2
}
