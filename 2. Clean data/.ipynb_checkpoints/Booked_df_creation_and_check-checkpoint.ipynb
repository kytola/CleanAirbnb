{
 "cells": [
  {
   "cell_type": "markdown",
   "id": "86057c04",
   "metadata": {},
   "source": [
    "# Full Booked Dataframe Creation and Check"
   ]
  },
  {
   "cell_type": "markdown",
   "id": "a379953e",
   "metadata": {},
   "source": [
    "This Jupyter notebook creates a booking dataframe from the pickled .npz file created by the chunk concatenation file. Then, this notebook visualizes and checks it along with the listing and reviews dataframes."
   ]
  },
  {
   "cell_type": "markdown",
   "id": "69636a07",
   "metadata": {},
   "source": [
    "# Import And Universal Directory Setup"
   ]
  },
  {
   "cell_type": "code",
   "execution_count": 1,
   "id": "b86aa01f",
   "metadata": {},
   "outputs": [],
   "source": [
    "import numpy as np\n",
    "import pandas as pd\n",
    "import os\n",
    "import time\n",
    "from datetime import datetime\n",
    "import matplotlib.pyplot as plt"
   ]
  },
  {
   "cell_type": "code",
   "execution_count": 2,
   "id": "f8faf674",
   "metadata": {},
   "outputs": [],
   "source": [
    "cwd1 = os.getcwd() \n",
    "\n",
    "os.chdir('..')\n",
    "cwd2 = os.getcwd()\n",
    "\n",
    "data_path = cwd2 + '/Saved data/'\n",
    "review_path = cwd2 + '/0. Raw data/'\n",
    "\n",
    "os.chdir(data_path)"
   ]
  },
  {
   "cell_type": "markdown",
   "id": "d181fff5",
   "metadata": {},
   "source": [
    "# Creation and Saving of Full booked_df Dataframe "
   ]
  },
  {
   "cell_type": "code",
   "execution_count": 3,
   "id": "07a68fef",
   "metadata": {},
   "outputs": [
    {
     "name": "stdout",
     "output_type": "stream",
     "text": [
      "['list_id', 'res_date', 'book_status', 'seen_avail', 'prices', 'other_dates', 'col_names', 'date_of_file']\n"
     ]
    }
   ],
   "source": [
    "booked_df = np.load('Portland_booked_df.npz', allow_pickle=True)\n",
    "print(booked_df.files)"
   ]
  },
  {
   "cell_type": "code",
   "execution_count": 4,
   "id": "162fef1c",
   "metadata": {},
   "outputs": [],
   "source": [
    "my_ids = booked_df['list_id']\n",
    "my_dates = booked_df['res_date']\n",
    "my_book_status = booked_df['book_status']\n",
    "my_seen_avail = booked_df['seen_avail']\n",
    "my_prices = booked_df['prices']\n",
    "my_other_dates = booked_df['other_dates']\n",
    "my_col_names = booked_df['col_names']\n",
    "my_date_of_file = booked_df['date_of_file']"
   ]
  },
  {
   "cell_type": "code",
   "execution_count": 5,
   "id": "87a5d9fa",
   "metadata": {
    "scrolled": true
   },
   "outputs": [
    {
     "data": {
      "text/plain": [
       "((12911400, 1),\n",
       " (12911400, 1),\n",
       " (12911400, 1),\n",
       " (12911400, 1),\n",
       " (12911400, 1),\n",
       " (3, 12911400, 1))"
      ]
     },
     "execution_count": 5,
     "metadata": {},
     "output_type": "execute_result"
    }
   ],
   "source": [
    "np.array([my_ids]).T.shape, np.array([my_dates]).T.shape, np.array([my_book_status]).T.shape, np.array([my_seen_avail]).T.shape, np.array([my_prices]).T.shape, np.array([my_other_dates]).T.shape"
   ]
  },
  {
   "cell_type": "code",
   "execution_count": 6,
   "id": "b30f4543",
   "metadata": {},
   "outputs": [],
   "source": [
    "rejoined_1 = np.concatenate([np.array([my_ids]).T, np.array([my_dates]).T], axis=1)\n",
    "del my_ids \n",
    "del my_dates \n",
    "\n",
    "rejoined_2 = np.concatenate([rejoined_1, np.array([my_book_status]).T] , axis=1)\n",
    "del rejoined_1\n",
    "del my_book_status \n",
    "\n",
    "rejoined_3 = np.concatenate([rejoined_2, np.array([my_seen_avail]).T] , axis=1)\n",
    "del rejoined_2\n",
    "del my_seen_avail \n",
    "\n",
    "rejoined_final = np.concatenate([rejoined_3, np.array([my_prices]).T] , axis=1)\n",
    "del rejoined_3"
   ]
  },
  {
   "cell_type": "code",
   "execution_count": 7,
   "id": "edf81442",
   "metadata": {},
   "outputs": [],
   "source": [
    "booked_df = pd.DataFrame(rejoined_final)"
   ]
  },
  {
   "cell_type": "code",
   "execution_count": 8,
   "id": "f96950cb",
   "metadata": {},
   "outputs": [],
   "source": [
    "column_names = ['id', 'date', 'book_status', 'seen_avail', 'price']"
   ]
  },
  {
   "cell_type": "code",
   "execution_count": 9,
   "id": "0a726d98",
   "metadata": {},
   "outputs": [],
   "source": [
    "booked_df.columns = column_names"
   ]
  },
  {
   "cell_type": "code",
   "execution_count": 10,
   "id": "f35ec32c",
   "metadata": {},
   "outputs": [],
   "source": [
    "#remove rows with NA price values\n",
    "booked_df = booked_df[booked_df['price'].notna()]"
   ]
  },
  {
   "cell_type": "code",
   "execution_count": 11,
   "id": "9bae93ab",
   "metadata": {},
   "outputs": [],
   "source": [
    "# saving \n",
    "booked_df.to_csv('rejoined_booked_df.csv')"
   ]
  },
  {
   "cell_type": "markdown",
   "id": "64333d5f",
   "metadata": {},
   "source": [
    "# Load in DataFrames"
   ]
  },
  {
   "cell_type": "code",
   "execution_count": 12,
   "id": "34d35c46",
   "metadata": {},
   "outputs": [],
   "source": [
    "booked_df = pd.read_csv('rejoined_booked_df.csv')"
   ]
  },
  {
   "cell_type": "code",
   "execution_count": 13,
   "id": "78a84307",
   "metadata": {},
   "outputs": [],
   "source": [
    "listing_df = pd.read_csv('2ndStageClean_Portland.csv.gz', compression='gzip', low_memory=False)"
   ]
  },
  {
   "cell_type": "code",
   "execution_count": 14,
   "id": "951f08ba",
   "metadata": {},
   "outputs": [],
   "source": [
    "os.chdir(review_path)"
   ]
  },
  {
   "cell_type": "code",
   "execution_count": 16,
   "id": "91669c38",
   "metadata": {},
   "outputs": [],
   "source": [
    "review_df =  pd.read_csv('Revs_Portland.csv.gz', compression='gzip', low_memory=False)"
   ]
  },
  {
   "cell_type": "markdown",
   "id": "e43a5d56",
   "metadata": {},
   "source": [
    "# Checking"
   ]
  },
  {
   "cell_type": "markdown",
   "id": "84c127a8",
   "metadata": {},
   "source": [
    "## Average price checks"
   ]
  },
  {
   "cell_type": "code",
   "execution_count": 17,
   "id": "3a9c4f40",
   "metadata": {},
   "outputs": [],
   "source": [
    "full_booked_notnull = booked_df[~booked_df['price'].isnull()].copy()\n",
    "listings_notnull = listing_df[~listing_df['price'].isnull()].copy()"
   ]
  },
  {
   "cell_type": "code",
   "execution_count": 18,
   "id": "262887c7",
   "metadata": {},
   "outputs": [],
   "source": [
    "mean_prices = full_booked_notnull.groupby('id')['price'].mean()\n",
    "mean_price_lists = listings_notnull.groupby('id')['price'].mean()\n",
    "edited_mean_price_lists = mean_price_lists[mean_price_lists.index.isin(mean_prices.index.values)]"
   ]
  },
  {
   "cell_type": "code",
   "execution_count": 19,
   "id": "0582116b",
   "metadata": {},
   "outputs": [],
   "source": [
    "full_booked_notnull.loc[:,'date'] = full_booked_notnull['date'].astype('datetime64[ns]')"
   ]
  },
  {
   "cell_type": "code",
   "execution_count": 20,
   "id": "e9e264b9",
   "metadata": {},
   "outputs": [],
   "source": [
    "time_mean = full_booked_notnull.groupby('date')['price'].mean()\n",
    "ma30_time = time_mean.rolling(30).mean()"
   ]
  },
  {
   "cell_type": "code",
   "execution_count": 21,
   "id": "15cbcb9a",
   "metadata": {},
   "outputs": [
    {
     "data": {
      "image/png": "[encoded data removed]",
      "text/plain": [
       "<Figure size 432x288 with 1 Axes>"
      ]
     },
     "metadata": {
      "needs_background": "light"
     },
     "output_type": "display_data"
    }
   ],
   "source": [
    "plt.plot(time_mean.index, time_mean.values, label='Daily price')\n",
    "plt.plot(time_mean.index, ma30_time, label='30-day MA')\n",
    "plt.title(\"Average daily prices over time\")\n",
    "plt.ylabel(\"Mean price\")\n",
    "plt.legend()\n",
    "plt.show()"
   ]
  },
  {
   "cell_type": "code",
   "execution_count": 22,
   "id": "b85045da",
   "metadata": {},
   "outputs": [
    {
     "data": {
      "image/png": "[encoded data removed]",
      "text/plain": [
       "<Figure size 432x288 with 1 Axes>"
      ]
     },
     "metadata": {
      "needs_background": "light"
     },
     "output_type": "display_data"
    }
   ],
   "source": [
    "plt.scatter(np.log(mean_prices.values), np.log(edited_mean_price_lists.values))\n",
    "# plt.plot([0, 0], [10, 10], color='red')\n",
    "plt.plot([0, 11], [0, 11], color = 'black', linewidth = 1, linestyle='--', alpha=0.75)\n",
    "plt.xlabel(\"Log mean daily prices, calendar files\")\n",
    "plt.ylabel(\"Log mean monthly prices, listing files\")\n",
    "plt.title(\"Comparing average headline prices to average daily prices\")\n",
    "plt.show()"
   ]
  },
  {
   "cell_type": "markdown",
   "id": "577cd029",
   "metadata": {},
   "source": [
    "## Investigating an individual listing's pricing"
   ]
  },
  {
   "cell_type": "code",
   "execution_count": 23,
   "id": "985f5f4e",
   "metadata": {},
   "outputs": [
    {
     "data": {
      "text/html": [
       "<div>\n",
       "<style scoped>\n",
       "    .dataframe tbody tr th:only-of-type {\n",
       "        vertical-align: middle;\n",
       "    }\n",
       "\n",
       "    .dataframe tbody tr th {\n",
       "        vertical-align: top;\n",
       "    }\n",
       "\n",
       "    .dataframe thead th {\n",
       "        text-align: right;\n",
       "    }\n",
       "</style>\n",
       "<table border=\"1\" class=\"dataframe\">\n",
       "  <thead>\n",
       "    <tr style=\"text-align: right;\">\n",
       "      <th></th>\n",
       "      <th>id</th>\n",
       "      <th>month</th>\n",
       "      <th>List_month</th>\n",
       "      <th>last_scraped</th>\n",
       "      <th>host_id</th>\n",
       "      <th>host_name</th>\n",
       "      <th>host_since</th>\n",
       "      <th>host_location</th>\n",
       "      <th>host_response_time</th>\n",
       "      <th>host_response_rate</th>\n",
       "      <th>...</th>\n",
       "      <th>cum_sum</th>\n",
       "      <th>List_month_byhost_month</th>\n",
       "      <th>List_month_host_overall</th>\n",
       "      <th>List_month_id_overall</th>\n",
       "      <th>hotel_dum</th>\n",
       "      <th>entrant</th>\n",
       "      <th>List_month_byneigh</th>\n",
       "      <th>List_month_lag_byneigh</th>\n",
       "      <th>drop_indicator</th>\n",
       "      <th>max_NORdiff</th>\n",
       "    </tr>\n",
       "  </thead>\n",
       "  <tbody>\n",
       "    <tr>\n",
       "      <th>0</th>\n",
       "      <td>7893</td>\n",
       "      <td>0</td>\n",
       "      <td>0</td>\n",
       "      <td>NaN</td>\n",
       "      <td>21489.0</td>\n",
       "      <td>Jesse</td>\n",
       "      <td>2009-06-14 00:00:00</td>\n",
       "      <td>US</td>\n",
       "      <td>NaN</td>\n",
       "      <td>NaN</td>\n",
       "      <td>...</td>\n",
       "      <td>0</td>\n",
       "      <td>0</td>\n",
       "      <td>16</td>\n",
       "      <td>16</td>\n",
       "      <td>0</td>\n",
       "      <td>0</td>\n",
       "      <td>44</td>\n",
       "      <td>84.0</td>\n",
       "      <td>1</td>\n",
       "      <td>0.0</td>\n",
       "    </tr>\n",
       "    <tr>\n",
       "      <th>1</th>\n",
       "      <td>7893</td>\n",
       "      <td>1</td>\n",
       "      <td>0</td>\n",
       "      <td>NaN</td>\n",
       "      <td>21489.0</td>\n",
       "      <td>Jesse</td>\n",
       "      <td>2009-06-14 00:00:00</td>\n",
       "      <td>US</td>\n",
       "      <td>NaN</td>\n",
       "      <td>NaN</td>\n",
       "      <td>...</td>\n",
       "      <td>0</td>\n",
       "      <td>0</td>\n",
       "      <td>16</td>\n",
       "      <td>16</td>\n",
       "      <td>0</td>\n",
       "      <td>0</td>\n",
       "      <td>50</td>\n",
       "      <td>44.0</td>\n",
       "      <td>1</td>\n",
       "      <td>0.0</td>\n",
       "    </tr>\n",
       "    <tr>\n",
       "      <th>2</th>\n",
       "      <td>7893</td>\n",
       "      <td>2</td>\n",
       "      <td>0</td>\n",
       "      <td>NaN</td>\n",
       "      <td>21489.0</td>\n",
       "      <td>Jesse</td>\n",
       "      <td>2009-06-14 00:00:00</td>\n",
       "      <td>US</td>\n",
       "      <td>NaN</td>\n",
       "      <td>NaN</td>\n",
       "      <td>...</td>\n",
       "      <td>0</td>\n",
       "      <td>0</td>\n",
       "      <td>16</td>\n",
       "      <td>16</td>\n",
       "      <td>0</td>\n",
       "      <td>0</td>\n",
       "      <td>53</td>\n",
       "      <td>50.0</td>\n",
       "      <td>1</td>\n",
       "      <td>0.0</td>\n",
       "    </tr>\n",
       "    <tr>\n",
       "      <th>3</th>\n",
       "      <td>7893</td>\n",
       "      <td>3</td>\n",
       "      <td>1</td>\n",
       "      <td>2016-01-01 00:00:00</td>\n",
       "      <td>21489.0</td>\n",
       "      <td>Jesse</td>\n",
       "      <td>2009-06-14 00:00:00</td>\n",
       "      <td>US</td>\n",
       "      <td>NaN</td>\n",
       "      <td>NaN</td>\n",
       "      <td>...</td>\n",
       "      <td>1</td>\n",
       "      <td>1</td>\n",
       "      <td>16</td>\n",
       "      <td>16</td>\n",
       "      <td>0</td>\n",
       "      <td>0</td>\n",
       "      <td>55</td>\n",
       "      <td>NaN</td>\n",
       "      <td>1</td>\n",
       "      <td>0.0</td>\n",
       "    </tr>\n",
       "    <tr>\n",
       "      <th>4</th>\n",
       "      <td>7893</td>\n",
       "      <td>4</td>\n",
       "      <td>0</td>\n",
       "      <td>NaN</td>\n",
       "      <td>21489.0</td>\n",
       "      <td>Jesse</td>\n",
       "      <td>2009-06-14 00:00:00</td>\n",
       "      <td>US</td>\n",
       "      <td>NaN</td>\n",
       "      <td>NaN</td>\n",
       "      <td>...</td>\n",
       "      <td>1</td>\n",
       "      <td>0</td>\n",
       "      <td>16</td>\n",
       "      <td>16</td>\n",
       "      <td>0</td>\n",
       "      <td>0</td>\n",
       "      <td>58</td>\n",
       "      <td>55.0</td>\n",
       "      <td>1</td>\n",
       "      <td>0.0</td>\n",
       "    </tr>\n",
       "    <tr>\n",
       "      <th>...</th>\n",
       "      <td>...</td>\n",
       "      <td>...</td>\n",
       "      <td>...</td>\n",
       "      <td>...</td>\n",
       "      <td>...</td>\n",
       "      <td>...</td>\n",
       "      <td>...</td>\n",
       "      <td>...</td>\n",
       "      <td>...</td>\n",
       "      <td>...</td>\n",
       "      <td>...</td>\n",
       "      <td>...</td>\n",
       "      <td>...</td>\n",
       "      <td>...</td>\n",
       "      <td>...</td>\n",
       "      <td>...</td>\n",
       "      <td>...</td>\n",
       "      <td>...</td>\n",
       "      <td>...</td>\n",
       "      <td>...</td>\n",
       "      <td>...</td>\n",
       "    </tr>\n",
       "    <tr>\n",
       "      <th>95</th>\n",
       "      <td>12625</td>\n",
       "      <td>21</td>\n",
       "      <td>0</td>\n",
       "      <td>NaN</td>\n",
       "      <td>49640.0</td>\n",
       "      <td>Caretia</td>\n",
       "      <td>2009-10-29 00:00:00</td>\n",
       "      <td>Portland, Oregon, United States</td>\n",
       "      <td>NaN</td>\n",
       "      <td>NaN</td>\n",
       "      <td>...</td>\n",
       "      <td>2</td>\n",
       "      <td>0</td>\n",
       "      <td>10</td>\n",
       "      <td>6</td>\n",
       "      <td>0</td>\n",
       "      <td>0</td>\n",
       "      <td>188</td>\n",
       "      <td>178.0</td>\n",
       "      <td>0</td>\n",
       "      <td>1.0</td>\n",
       "    </tr>\n",
       "    <tr>\n",
       "      <th>96</th>\n",
       "      <td>12625</td>\n",
       "      <td>22</td>\n",
       "      <td>0</td>\n",
       "      <td>NaN</td>\n",
       "      <td>49640.0</td>\n",
       "      <td>Caretia</td>\n",
       "      <td>2009-10-29 00:00:00</td>\n",
       "      <td>Portland, Oregon, United States</td>\n",
       "      <td>NaN</td>\n",
       "      <td>NaN</td>\n",
       "      <td>...</td>\n",
       "      <td>2</td>\n",
       "      <td>0</td>\n",
       "      <td>10</td>\n",
       "      <td>6</td>\n",
       "      <td>0</td>\n",
       "      <td>0</td>\n",
       "      <td>191</td>\n",
       "      <td>188.0</td>\n",
       "      <td>0</td>\n",
       "      <td>1.0</td>\n",
       "    </tr>\n",
       "    <tr>\n",
       "      <th>97</th>\n",
       "      <td>12625</td>\n",
       "      <td>23</td>\n",
       "      <td>0</td>\n",
       "      <td>NaN</td>\n",
       "      <td>49640.0</td>\n",
       "      <td>Caretia</td>\n",
       "      <td>2009-10-29 00:00:00</td>\n",
       "      <td>Portland, Oregon, United States</td>\n",
       "      <td>NaN</td>\n",
       "      <td>NaN</td>\n",
       "      <td>...</td>\n",
       "      <td>2</td>\n",
       "      <td>0</td>\n",
       "      <td>10</td>\n",
       "      <td>6</td>\n",
       "      <td>0</td>\n",
       "      <td>0</td>\n",
       "      <td>190</td>\n",
       "      <td>191.0</td>\n",
       "      <td>0</td>\n",
       "      <td>1.0</td>\n",
       "    </tr>\n",
       "    <tr>\n",
       "      <th>98</th>\n",
       "      <td>12625</td>\n",
       "      <td>24</td>\n",
       "      <td>0</td>\n",
       "      <td>NaN</td>\n",
       "      <td>49640.0</td>\n",
       "      <td>Caretia</td>\n",
       "      <td>2009-10-29 00:00:00</td>\n",
       "      <td>Portland, Oregon, United States</td>\n",
       "      <td>NaN</td>\n",
       "      <td>NaN</td>\n",
       "      <td>...</td>\n",
       "      <td>2</td>\n",
       "      <td>0</td>\n",
       "      <td>10</td>\n",
       "      <td>6</td>\n",
       "      <td>0</td>\n",
       "      <td>0</td>\n",
       "      <td>194</td>\n",
       "      <td>190.0</td>\n",
       "      <td>0</td>\n",
       "      <td>1.0</td>\n",
       "    </tr>\n",
       "    <tr>\n",
       "      <th>99</th>\n",
       "      <td>12625</td>\n",
       "      <td>25</td>\n",
       "      <td>0</td>\n",
       "      <td>NaN</td>\n",
       "      <td>49640.0</td>\n",
       "      <td>Caretia</td>\n",
       "      <td>2009-10-29 00:00:00</td>\n",
       "      <td>Portland, Oregon, United States</td>\n",
       "      <td>NaN</td>\n",
       "      <td>NaN</td>\n",
       "      <td>...</td>\n",
       "      <td>2</td>\n",
       "      <td>0</td>\n",
       "      <td>10</td>\n",
       "      <td>6</td>\n",
       "      <td>0</td>\n",
       "      <td>0</td>\n",
       "      <td>192</td>\n",
       "      <td>194.0</td>\n",
       "      <td>0</td>\n",
       "      <td>1.0</td>\n",
       "    </tr>\n",
       "  </tbody>\n",
       "</table>\n",
       "<p>100 rows × 211 columns</p>\n",
       "</div>"
      ],
      "text/plain": [
       "       id  month  List_month         last_scraped  host_id host_name  \\\n",
       "0    7893      0           0                  NaN  21489.0     Jesse   \n",
       "1    7893      1           0                  NaN  21489.0     Jesse   \n",
       "2    7893      2           0                  NaN  21489.0     Jesse   \n",
       "3    7893      3           1  2016-01-01 00:00:00  21489.0     Jesse   \n",
       "4    7893      4           0                  NaN  21489.0     Jesse   \n",
       "..    ...    ...         ...                  ...      ...       ...   \n",
       "95  12625     21           0                  NaN  49640.0   Caretia   \n",
       "96  12625     22           0                  NaN  49640.0   Caretia   \n",
       "97  12625     23           0                  NaN  49640.0   Caretia   \n",
       "98  12625     24           0                  NaN  49640.0   Caretia   \n",
       "99  12625     25           0                  NaN  49640.0   Caretia   \n",
       "\n",
       "             host_since                    host_location host_response_time  \\\n",
       "0   2009-06-14 00:00:00                               US                NaN   \n",
       "1   2009-06-14 00:00:00                               US                NaN   \n",
       "2   2009-06-14 00:00:00                               US                NaN   \n",
       "3   2009-06-14 00:00:00                               US                NaN   \n",
       "4   2009-06-14 00:00:00                               US                NaN   \n",
       "..                  ...                              ...                ...   \n",
       "95  2009-10-29 00:00:00  Portland, Oregon, United States                NaN   \n",
       "96  2009-10-29 00:00:00  Portland, Oregon, United States                NaN   \n",
       "97  2009-10-29 00:00:00  Portland, Oregon, United States                NaN   \n",
       "98  2009-10-29 00:00:00  Portland, Oregon, United States                NaN   \n",
       "99  2009-10-29 00:00:00  Portland, Oregon, United States                NaN   \n",
       "\n",
       "   host_response_rate  ... cum_sum  List_month_byhost_month  \\\n",
       "0                 NaN  ...       0                        0   \n",
       "1                 NaN  ...       0                        0   \n",
       "2                 NaN  ...       0                        0   \n",
       "3                 NaN  ...       1                        1   \n",
       "4                 NaN  ...       1                        0   \n",
       "..                ...  ...     ...                      ...   \n",
       "95                NaN  ...       2                        0   \n",
       "96                NaN  ...       2                        0   \n",
       "97                NaN  ...       2                        0   \n",
       "98                NaN  ...       2                        0   \n",
       "99                NaN  ...       2                        0   \n",
       "\n",
       "    List_month_host_overall List_month_id_overall hotel_dum entrant  \\\n",
       "0                        16                    16         0       0   \n",
       "1                        16                    16         0       0   \n",
       "2                        16                    16         0       0   \n",
       "3                        16                    16         0       0   \n",
       "4                        16                    16         0       0   \n",
       "..                      ...                   ...       ...     ...   \n",
       "95                       10                     6         0       0   \n",
       "96                       10                     6         0       0   \n",
       "97                       10                     6         0       0   \n",
       "98                       10                     6         0       0   \n",
       "99                       10                     6         0       0   \n",
       "\n",
       "   List_month_byneigh  List_month_lag_byneigh  drop_indicator max_NORdiff  \n",
       "0                  44                    84.0               1         0.0  \n",
       "1                  50                    44.0               1         0.0  \n",
       "2                  53                    50.0               1         0.0  \n",
       "3                  55                     NaN               1         0.0  \n",
       "4                  58                    55.0               1         0.0  \n",
       "..                ...                     ...             ...         ...  \n",
       "95                188                   178.0               0         1.0  \n",
       "96                191                   188.0               0         1.0  \n",
       "97                190                   191.0               0         1.0  \n",
       "98                194                   190.0               0         1.0  \n",
       "99                192                   194.0               0         1.0  \n",
       "\n",
       "[100 rows x 211 columns]"
      ]
     },
     "execution_count": 23,
     "metadata": {},
     "output_type": "execute_result"
    }
   ],
   "source": [
    "listing_df.head(100)"
   ]
  },
  {
   "cell_type": "code",
   "execution_count": 24,
   "id": "3d025df0",
   "metadata": {},
   "outputs": [],
   "source": [
    "# Take one individual listing\n",
    "my_mask = booked_df['id'] == 12625\n",
    "\n",
    "single_id = booked_df[my_mask]\n",
    "not_null_id = single_id[~single_id['price'].isna()]\n",
    "\n",
    "single_id = listing_df[listing_df['id'] == 12625].copy()"
   ]
  },
  {
   "cell_type": "code",
   "execution_count": 25,
   "id": "8ad401c5",
   "metadata": {},
   "outputs": [
    {
     "data": {
      "image/png": "[encoded data removed]",
      "text/plain": [
       "<Figure size 432x288 with 1 Axes>"
      ]
     },
     "metadata": {
      "needs_background": "light"
     },
     "output_type": "display_data"
    }
   ],
   "source": [
    "# Compare calendar pricing to headline pricing\n",
    "\n",
    "plt.plot(not_null_id['date'].astype('datetime64[ns]').values, \n",
    "         not_null_id['price'].values, label='Daily price')\n",
    "\n",
    "plt.plot(not_null_id['date'].astype('datetime64[ns]').values, \n",
    "         not_null_id['price'].rolling(30).mean().values, label='30-day moving average')\n",
    "\n",
    "plt.plot(single_id['last_scraped'].astype('datetime64[ns]'), single_id['price'], label='Headline price')\n",
    "\n",
    "plt.title(\"Comparing calendar pricing to listing pricing\")\n",
    "plt.legend()\n",
    "\n",
    "plt.show()"
   ]
  },
  {
   "cell_type": "code",
   "execution_count": 26,
   "id": "278e2217",
   "metadata": {},
   "outputs": [],
   "source": [
    "booked_df.loc[:,'date'] = booked_df['date'].astype('datetime64[ns]')"
   ]
  },
  {
   "cell_type": "markdown",
   "id": "1cf72ca5",
   "metadata": {},
   "source": [
    "## Bookings per night"
   ]
  },
  {
   "cell_type": "code",
   "execution_count": 27,
   "id": "87de4639",
   "metadata": {},
   "outputs": [],
   "source": [
    "time_book = booked_df.groupby('date')['book_status'].sum()"
   ]
  },
  {
   "cell_type": "code",
   "execution_count": 28,
   "id": "4702fd54",
   "metadata": {
    "scrolled": true
   },
   "outputs": [
    {
     "data": {
      "image/png": "[encoded data removed]",
      "text/plain": [
       "<Figure size 432x288 with 1 Axes>"
      ]
     },
     "metadata": {
      "needs_background": "light"
     },
     "output_type": "display_data"
    }
   ],
   "source": [
    "plt.scatter(time_book.index, time_book.values)\n",
    "plt.title(\"Bookings Per Night\")\n",
    "plt.ylabel(\"# of Bookings\")\n",
    "plt.show()"
   ]
  },
  {
   "cell_type": "markdown",
   "id": "38f4aa2e",
   "metadata": {},
   "source": [
    "## Average listings available by month"
   ]
  },
  {
   "cell_type": "code",
   "execution_count": 29,
   "id": "3512a32b",
   "metadata": {},
   "outputs": [],
   "source": [
    "booked_df['year']= pd.DatetimeIndex(booked_df['date']).year\n",
    "booked_df['month']= pd.DatetimeIndex(booked_df['date']).month"
   ]
  },
  {
   "cell_type": "code",
   "execution_count": 30,
   "id": "84442f63",
   "metadata": {},
   "outputs": [],
   "source": [
    "listings_per_month = booked_df.groupby(['year','month'])['seen_avail'].sum()\n",
    "listings_per_month_avg = listings_per_month.groupby('month').mean()"
   ]
  },
  {
   "cell_type": "code",
   "execution_count": 31,
   "id": "6281e3a2",
   "metadata": {
    "scrolled": true
   },
   "outputs": [
    {
     "data": {
      "image/png": "[encoded data removed]",
      "text/plain": [
       "<Figure size 432x288 with 1 Axes>"
      ]
     },
     "metadata": {
      "needs_background": "light"
     },
     "output_type": "display_data"
    }
   ],
   "source": [
    "plt.plot(listings_per_month_avg)\n",
    "plt.title(\"Average # of Listings Available by Month\")\n",
    "plt.ylabel(\"# of Listings\")\n",
    "plt.show()"
   ]
  },
  {
   "cell_type": "markdown",
   "id": "55ede3ff",
   "metadata": {},
   "source": [
    "## Average price per neigborhood"
   ]
  },
  {
   "cell_type": "code",
   "execution_count": 32,
   "id": "3e2da011",
   "metadata": {},
   "outputs": [],
   "source": [
    "mean_neighbourhood_price = listing_df.groupby('neighbourhood_cleansed')['price'].mean()"
   ]
  },
  {
   "cell_type": "code",
   "execution_count": 33,
   "id": "03d654bf",
   "metadata": {
    "scrolled": true
   },
   "outputs": [
    {
     "data": {
      "text/plain": [
       "neighbourhood_cleansed\n",
       "Alameda                    130.341263\n",
       "Arbor Lodge                107.842998\n",
       "Ardenwald-Johnson Creek    122.338369\n",
       "Argay                       89.640927\n",
       "Arlington Heights          118.358491\n",
       "                              ...    \n",
       "West Portland Park         101.841849\n",
       "Wilkes                      95.711111\n",
       "Woodland Park               64.250000\n",
       "Woodlawn                    94.973818\n",
       "Woodstock                  104.889071\n",
       "Name: price, Length: 94, dtype: float64"
      ]
     },
     "execution_count": 33,
     "metadata": {},
     "output_type": "execute_result"
    }
   ],
   "source": [
    "mean_neighbourhood_price"
   ]
  },
  {
   "cell_type": "markdown",
   "id": "9e922df2",
   "metadata": {},
   "source": [
    "## Average cleaning fee per month"
   ]
  },
  {
   "cell_type": "code",
   "execution_count": 34,
   "id": "3306d3d0",
   "metadata": {},
   "outputs": [],
   "source": [
    "cleaning_fee_by_month = listing_df.groupby('month')['cleaning_fee'].mean()"
   ]
  },
  {
   "cell_type": "code",
   "execution_count": 35,
   "id": "25ff2ea6",
   "metadata": {},
   "outputs": [
    {
     "data": {
      "image/png": "[encoded data removed]",
      "text/plain": [
       "<Figure size 432x288 with 1 Axes>"
      ]
     },
     "metadata": {
      "needs_background": "light"
     },
     "output_type": "display_data"
    }
   ],
   "source": [
    "plt.plot(cleaning_fee_by_month)\n",
    "plt.title('Average Cleaning Fee by Month')\n",
    "plt.ylabel(\"Avg. Cleaning Fee\")\n",
    "plt.xlabel('Month')\n",
    "plt.show()"
   ]
  },
  {
   "cell_type": "markdown",
   "id": "4fef1120",
   "metadata": {},
   "source": [
    "# Histograms"
   ]
  },
  {
   "cell_type": "markdown",
   "id": "437a857f",
   "metadata": {},
   "source": [
    "## Nightly bookings"
   ]
  },
  {
   "cell_type": "code",
   "execution_count": 36,
   "id": "f5b5f8e3",
   "metadata": {},
   "outputs": [
    {
     "data": {
      "image/png": "[encoded data removed]",
      "text/plain": [
       "<Figure size 432x288 with 1 Axes>"
      ]
     },
     "metadata": {
      "needs_background": "light"
     },
     "output_type": "display_data"
    }
   ],
   "source": [
    "plt.hist(time_book, bins= 100)\n",
    "plt.title('Nightly # of Total Bookings Histogram')\n",
    "plt.xlabel('Total # of Bookings')\n",
    "plt.ylabel('Frequency')\n",
    "plt.show()"
   ]
  },
  {
   "cell_type": "markdown",
   "id": "e6597563",
   "metadata": {},
   "source": [
    "## Nightly prices"
   ]
  },
  {
   "cell_type": "code",
   "execution_count": 37,
   "id": "5393ce25",
   "metadata": {
    "scrolled": true
   },
   "outputs": [
    {
     "data": {
      "image/png": "[encoded data removed]",
      "text/plain": [
       "<Figure size 432x288 with 1 Axes>"
      ]
     },
     "metadata": {
      "needs_background": "light"
     },
     "output_type": "display_data"
    }
   ],
   "source": [
    "plt.hist(time_mean, bins= 100)\n",
    "plt.title('Average Price By Night Frequency')\n",
    "plt.xlabel('Average Price')\n",
    "plt.ylabel('Frequency')\n",
    "plt.show()"
   ]
  },
  {
   "cell_type": "markdown",
   "id": "ce3f06fb",
   "metadata": {},
   "source": [
    "## Listings available per month"
   ]
  },
  {
   "cell_type": "code",
   "execution_count": 38,
   "id": "33b4c269",
   "metadata": {},
   "outputs": [
    {
     "data": {
      "image/png": "[encoded data removed]",
      "text/plain": [
       "<Figure size 432x288 with 1 Axes>"
      ]
     },
     "metadata": {
      "needs_background": "light"
     },
     "output_type": "display_data"
    }
   ],
   "source": [
    "plt.hist(listings_per_month_avg, bins= 5)\n",
    "plt.title('Listings Available Per Month Frequency')\n",
    "plt.xlabel('Listings Available')\n",
    "plt.ylabel('Frequency')\n",
    "plt.show()"
   ]
  },
  {
   "cell_type": "markdown",
   "id": "1dd5e1e2",
   "metadata": {},
   "source": [
    "# Review Data Checks"
   ]
  },
  {
   "cell_type": "code",
   "execution_count": 39,
   "id": "4eb58db2",
   "metadata": {},
   "outputs": [],
   "source": [
    "review_df.loc[:,'date'] = review_df['date'].astype('datetime64[ns]')"
   ]
  },
  {
   "cell_type": "code",
   "execution_count": 40,
   "id": "d29176ec",
   "metadata": {},
   "outputs": [],
   "source": [
    "review_df['year']= pd.DatetimeIndex(review_df['date']).year\n",
    "review_df['month']= pd.DatetimeIndex(review_df['date']).month"
   ]
  },
  {
   "cell_type": "code",
   "execution_count": 41,
   "id": "bb3b371e",
   "metadata": {},
   "outputs": [],
   "source": [
    "reviews_per_month = review_df.groupby(['year','month']).count()\n",
    "reviews_per_month_avg = reviews_per_month.groupby('month').mean()"
   ]
  },
  {
   "cell_type": "code",
   "execution_count": 42,
   "id": "fe46d4d8",
   "metadata": {},
   "outputs": [],
   "source": [
    "time_book_by_month =  booked_df.groupby(['year','month'])['book_status'].sum()\n",
    "time_book_by_month_avg = time_book_by_month.groupby('month').mean()"
   ]
  },
  {
   "cell_type": "code",
   "execution_count": 43,
   "id": "76bc3ec6",
   "metadata": {},
   "outputs": [
    {
     "data": {
      "text/html": [
       "<div>\n",
       "<style scoped>\n",
       "    .dataframe tbody tr th:only-of-type {\n",
       "        vertical-align: middle;\n",
       "    }\n",
       "\n",
       "    .dataframe tbody tr th {\n",
       "        vertical-align: top;\n",
       "    }\n",
       "\n",
       "    .dataframe thead th {\n",
       "        text-align: right;\n",
       "    }\n",
       "</style>\n",
       "<table border=\"1\" class=\"dataframe\">\n",
       "  <thead>\n",
       "    <tr style=\"text-align: right;\">\n",
       "      <th></th>\n",
       "      <th>Unnamed: 0</th>\n",
       "      <th>listing_id</th>\n",
       "      <th>id</th>\n",
       "      <th>date</th>\n",
       "      <th>reviewer_id</th>\n",
       "      <th>reviewer_name</th>\n",
       "      <th>comments</th>\n",
       "      <th>year</th>\n",
       "      <th>month</th>\n",
       "    </tr>\n",
       "  </thead>\n",
       "  <tbody>\n",
       "    <tr>\n",
       "      <th>0</th>\n",
       "      <td>0</td>\n",
       "      <td>5716591</td>\n",
       "      <td>29218689</td>\n",
       "      <td>2015-04-05</td>\n",
       "      <td>3635758</td>\n",
       "      <td>Kate</td>\n",
       "      <td>Grey's house is a wonderful, unique space wher...</td>\n",
       "      <td>2015</td>\n",
       "      <td>4</td>\n",
       "    </tr>\n",
       "    <tr>\n",
       "      <th>1</th>\n",
       "      <td>1</td>\n",
       "      <td>5716591</td>\n",
       "      <td>32368408</td>\n",
       "      <td>2015-05-17</td>\n",
       "      <td>8834122</td>\n",
       "      <td>Danielle</td>\n",
       "      <td>Grey did a great job at making us feel welcome...</td>\n",
       "      <td>2015</td>\n",
       "      <td>5</td>\n",
       "    </tr>\n",
       "    <tr>\n",
       "      <th>2</th>\n",
       "      <td>2</td>\n",
       "      <td>5716591</td>\n",
       "      <td>34991833</td>\n",
       "      <td>2015-06-14</td>\n",
       "      <td>375629</td>\n",
       "      <td>Audrey</td>\n",
       "      <td>Grey was hospitable and accommodating but left...</td>\n",
       "      <td>2015</td>\n",
       "      <td>6</td>\n",
       "    </tr>\n",
       "    <tr>\n",
       "      <th>3</th>\n",
       "      <td>3</td>\n",
       "      <td>5716591</td>\n",
       "      <td>35336086</td>\n",
       "      <td>2015-06-17</td>\n",
       "      <td>9931047</td>\n",
       "      <td>Dongchuan</td>\n",
       "      <td>Grey's house is amazing. The whole house looks...</td>\n",
       "      <td>2015</td>\n",
       "      <td>6</td>\n",
       "    </tr>\n",
       "    <tr>\n",
       "      <th>4</th>\n",
       "      <td>4</td>\n",
       "      <td>5716591</td>\n",
       "      <td>35664357</td>\n",
       "      <td>2015-06-21</td>\n",
       "      <td>10732530</td>\n",
       "      <td>Sarah Jo</td>\n",
       "      <td>Grey has a lovely home! We would be glad to re...</td>\n",
       "      <td>2015</td>\n",
       "      <td>6</td>\n",
       "    </tr>\n",
       "  </tbody>\n",
       "</table>\n",
       "</div>"
      ],
      "text/plain": [
       "   Unnamed: 0  listing_id        id       date  reviewer_id reviewer_name  \\\n",
       "0           0     5716591  29218689 2015-04-05      3635758          Kate   \n",
       "1           1     5716591  32368408 2015-05-17      8834122      Danielle   \n",
       "2           2     5716591  34991833 2015-06-14       375629        Audrey   \n",
       "3           3     5716591  35336086 2015-06-17      9931047     Dongchuan   \n",
       "4           4     5716591  35664357 2015-06-21     10732530      Sarah Jo   \n",
       "\n",
       "                                            comments  year  month  \n",
       "0  Grey's house is a wonderful, unique space wher...  2015      4  \n",
       "1  Grey did a great job at making us feel welcome...  2015      5  \n",
       "2  Grey was hospitable and accommodating but left...  2015      6  \n",
       "3  Grey's house is amazing. The whole house looks...  2015      6  \n",
       "4  Grey has a lovely home! We would be glad to re...  2015      6  "
      ]
     },
     "execution_count": 43,
     "metadata": {},
     "output_type": "execute_result"
    }
   ],
   "source": [
    "review_df.head()"
   ]
  },
  {
   "cell_type": "code",
   "execution_count": 44,
   "id": "e2053b13",
   "metadata": {},
   "outputs": [
    {
     "data": {
      "image/png": "[encoded data removed]",
      "text/plain": [
       "<Figure size 432x288 with 1 Axes>"
      ]
     },
     "metadata": {
      "needs_background": "light"
     },
     "output_type": "display_data"
    }
   ],
   "source": [
    "plt.plot(reviews_per_month_avg)\n",
    "plt.plot(time_book_by_month_avg)\n",
    "plt.title(\"Average Reviews by Month and Average Bookings by Month\")\n",
    "plt.ylabel('Avg. # of Reviews/Bookings')\n",
    "plt.xlabel('Month')\n",
    "plt.show()"
   ]
  }
 ],
 "metadata": {
  "kernelspec": {
   "display_name": "Python 3 (ipykernel)",
   "language": "python",
   "name": "python3"
  },
  "language_info": {
   "codemirror_mode": {
    "name": "ipython",
    "version": 3
   },
   "file_extension": ".py",
   "mimetype": "text/x-python",
   "name": "python",
   "nbconvert_exporter": "python",
   "pygments_lexer": "ipython3",
   "version": "3.9.7"
  }
 },
 "nbformat": 4,
 "nbformat_minor": 5
}
